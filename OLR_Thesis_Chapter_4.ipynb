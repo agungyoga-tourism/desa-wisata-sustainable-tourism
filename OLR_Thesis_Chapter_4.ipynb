{
  "nbformat": 4,
  "nbformat_minor": 0,
  "metadata": {
    "colab": {
      "provenance": [],
      "gpuType": "V5E1",
      "authorship_tag": "ABX9TyP09UgZPo5EtUA5EXc0YWAB",
      "include_colab_link": true
    },
    "kernelspec": {
      "name": "ir",
      "display_name": "R"
    },
    "language_info": {
      "name": "R"
    },
    "accelerator": "TPU"
  },
  "cells": [
    {
      "cell_type": "markdown",
      "metadata": {
        "id": "view-in-github",
        "colab_type": "text"
      },
      "source": [
        "<a href=\"https://colab.research.google.com/github/agungyoga-tourism/desa-wisata-sustainable-tourism/blob/main/OLR_Thesis_Chapter_4.ipynb\" target=\"_parent\"><img src=\"https://colab.research.google.com/assets/colab-badge.svg\" alt=\"Open In Colab\"/></a>"
      ]
    },
    {
      "cell_type": "code",
      "source": [
        "# Set CRAN & instal paket yang diperlukan\n",
        "options(repos = c(CRAN = \"https://cloud.r-project.org\"))\n",
        "install.packages(c(\n",
        "  \"tidyverse\",   # wrangling\n",
        "  \"MASS\",        # polr (OLR)\n",
        "  \"brant\",       # Brant test (uji proportional-odds untuk polr)\n",
        "  \"ordinal\",     # clmm (mixed-effects ordinal)\n",
        "  \"VGAM\",        # PPO (parallel=FALSE)\n",
        "  \"sandwich\",    # (cluster-)robust vcov\n",
        "  \"lmtest\",      # coeftest\n",
        "  \"broom\",       # tabel rapi (tidy / glance)\n",
        "  \"clubSandwich\",# cluster-robust var-cov alternatif\n",
        "  \"marginaleffects\" # ringkas efek + robust vcov (opsional, membantu)\n",
        "))\n",
        "\n",
        "# Muat paket\n",
        "library(tidyverse)\n",
        "library(MASS)\n",
        "library(brant)\n",
        "library(ordinal)\n",
        "library(VGAM)\n",
        "library(sandwich)\n",
        "library(lmtest)\n",
        "library(broom)\n",
        "library(clubSandwich)\n",
        "library(marginaleffects)\n"
      ],
      "metadata": {
        "colab": {
          "base_uri": "https://localhost:8080/"
        },
        "id": "YQtkl3tGHj1P",
        "outputId": "44d78cff-55ae-4912-d851-fc7b41bcc2aa"
      },
      "execution_count": 1,
      "outputs": [
        {
          "output_type": "stream",
          "name": "stderr",
          "text": [
            "Installing packages into ‘/usr/local/lib/R/site-library’\n",
            "(as ‘lib’ is unspecified)\n",
            "\n",
            "also installing the dependencies ‘ucminf’, ‘numDeriv’, ‘zoo’, ‘checkmate’, ‘Formula’, ‘insight’\n",
            "\n",
            "\n",
            "── \u001b[1mAttaching core tidyverse packages\u001b[22m ──────────────────────── tidyverse 2.0.0 ──\n",
            "\u001b[32m✔\u001b[39m \u001b[34mdplyr    \u001b[39m 1.1.4     \u001b[32m✔\u001b[39m \u001b[34mreadr    \u001b[39m 2.1.5\n",
            "\u001b[32m✔\u001b[39m \u001b[34mforcats  \u001b[39m 1.0.1     \u001b[32m✔\u001b[39m \u001b[34mstringr  \u001b[39m 1.5.2\n",
            "\u001b[32m✔\u001b[39m \u001b[34mggplot2  \u001b[39m 4.0.0     \u001b[32m✔\u001b[39m \u001b[34mtibble   \u001b[39m 3.3.0\n",
            "\u001b[32m✔\u001b[39m \u001b[34mlubridate\u001b[39m 1.9.4     \u001b[32m✔\u001b[39m \u001b[34mtidyr    \u001b[39m 1.3.1\n",
            "\u001b[32m✔\u001b[39m \u001b[34mpurrr    \u001b[39m 1.1.0     \n",
            "── \u001b[1mConflicts\u001b[22m ────────────────────────────────────────── tidyverse_conflicts() ──\n",
            "\u001b[31m✖\u001b[39m \u001b[34mdplyr\u001b[39m::\u001b[32mfilter()\u001b[39m masks \u001b[34mstats\u001b[39m::filter()\n",
            "\u001b[31m✖\u001b[39m \u001b[34mdplyr\u001b[39m::\u001b[32mlag()\u001b[39m    masks \u001b[34mstats\u001b[39m::lag()\n",
            "\u001b[36mℹ\u001b[39m Use the conflicted package (\u001b[3m\u001b[34m<http://conflicted.r-lib.org/>\u001b[39m\u001b[23m) to force all conflicts to become errors\n",
            "\n",
            "Attaching package: ‘MASS’\n",
            "\n",
            "\n",
            "The following object is masked from ‘package:dplyr’:\n",
            "\n",
            "    select\n",
            "\n",
            "\n",
            "\n",
            "Attaching package: ‘ordinal’\n",
            "\n",
            "\n",
            "The following object is masked from ‘package:dplyr’:\n",
            "\n",
            "    slice\n",
            "\n",
            "\n",
            "Loading required package: stats4\n",
            "\n",
            "Loading required package: splines\n",
            "\n",
            "\n",
            "Attaching package: ‘VGAM’\n",
            "\n",
            "\n",
            "The following objects are masked from ‘package:ordinal’:\n",
            "\n",
            "    dgumbel, dlgamma, pgumbel, plgamma, qgumbel, rgumbel, wine\n",
            "\n",
            "\n",
            "Loading required package: zoo\n",
            "\n",
            "\n",
            "Attaching package: ‘zoo’\n",
            "\n",
            "\n",
            "The following objects are masked from ‘package:base’:\n",
            "\n",
            "    as.Date, as.Date.numeric\n",
            "\n",
            "\n",
            "\n",
            "Attaching package: ‘lmtest’\n",
            "\n",
            "\n",
            "The following object is masked from ‘package:VGAM’:\n",
            "\n",
            "    lrtest\n",
            "\n",
            "\n",
            "Registered S3 method overwritten by 'clubSandwich':\n",
            "  method    from    \n",
            "  bread.mlm sandwich\n",
            "\n"
          ]
        }
      ]
    },
    {
      "cell_type": "code",
      "source": [
        "# Ganti nama file sesuai yang Anda upload\n",
        "df <- readr::read_csv(\"/content/SPSS Data per Oct 2025.csv\")\n",
        "\n",
        "# Cek cepat\n",
        "glimpse(df, width = 120)\n"
      ],
      "metadata": {
        "colab": {
          "base_uri": "https://localhost:8080/"
        },
        "id": "qJfIH5WwKJoz",
        "outputId": "7a892389-b352-4a3d-df65-1eabe074e339"
      },
      "execution_count": 2,
      "outputs": [
        {
          "output_type": "stream",
          "name": "stderr",
          "text": [
            "\u001b[1mRows: \u001b[22m\u001b[34m571\u001b[39m \u001b[1mColumns: \u001b[22m\u001b[34m81\u001b[39m\n",
            "\u001b[36m──\u001b[39m \u001b[1mColumn specification\u001b[22m \u001b[36m────────────────────────────────────────────────────────\u001b[39m\n",
            "\u001b[1mDelimiter:\u001b[22m \",\"\n",
            "\u001b[31mchr\u001b[39m  (1): Ethnicity\n",
            "\u001b[32mdbl\u001b[39m (80): ID, Age_Raw, AgeGroup, Age_Group_New, Gender, Village, TVClassific...\n",
            "\n",
            "\u001b[36mℹ\u001b[39m Use `spec()` to retrieve the full column specification for this data.\n",
            "\u001b[36mℹ\u001b[39m Specify the column types or set `show_col_types = FALSE` to quiet this message.\n"
          ]
        },
        {
          "output_type": "stream",
          "name": "stdout",
          "text": [
            "Rows: 571\n",
            "Columns: 81\n",
            "$ ID                     \u001b[3m\u001b[90m<dbl>\u001b[39m\u001b[23m 1\u001b[90m, \u001b[39m2\u001b[90m, \u001b[39m3\u001b[90m, \u001b[39m4\u001b[90m, \u001b[39m5\u001b[90m, \u001b[39m6\u001b[90m, \u001b[39m7\u001b[90m, \u001b[39m8\u001b[90m, \u001b[39m9\u001b[90m, \u001b[39m10\u001b[90m, \u001b[39m11\u001b[90m, \u001b[39m12\u001b[90m, \u001b[39m13\u001b[90m, \u001b[39m14\u001b[90m, \u001b[39m15\u001b[90m, \u001b[39m16\u001b[90m, \u001b[39m17\u001b[90m, \u001b[39m18\u001b[90m, \u001b[39m19\u001b[90m, \u001b[39m20\u001b[90m, \u001b[39m21\u001b[90m, \u001b[39m22\u001b[90m, \u001b[39m23\u001b[90m, \u001b[39m24\u001b[90m, \u001b[39m…\n",
            "$ Age_Raw                \u001b[3m\u001b[90m<dbl>\u001b[39m\u001b[23m 17\u001b[90m, \u001b[39m18\u001b[90m, \u001b[39m18\u001b[90m, \u001b[39m18\u001b[90m, \u001b[39m16\u001b[90m, \u001b[39m16\u001b[90m, \u001b[39m18\u001b[90m, \u001b[39m18\u001b[90m, \u001b[39m18\u001b[90m, \u001b[39m18\u001b[90m, \u001b[39m18\u001b[90m, \u001b[39m17\u001b[90m, \u001b[39m18\u001b[90m, \u001b[39m18\u001b[90m, \u001b[39m18\u001b[90m, \u001b[39m18\u001b[90m, \u001b[39m18\u001b[90m, \u001b[39m18\u001b[90m, \u001b[39m17\u001b[90m, \u001b[39m17\u001b[90m, \u001b[39m17\u001b[90m, \u001b[39m17\u001b[90m,\u001b[39m…\n",
            "$ AgeGroup               \u001b[3m\u001b[90m<dbl>\u001b[39m\u001b[23m 1\u001b[90m, \u001b[39m1\u001b[90m, \u001b[39m1\u001b[90m, \u001b[39m1\u001b[90m, \u001b[39m1\u001b[90m, \u001b[39m1\u001b[90m, \u001b[39m1\u001b[90m, \u001b[39m1\u001b[90m, \u001b[39m1\u001b[90m, \u001b[39m1\u001b[90m, \u001b[39m1\u001b[90m, \u001b[39m1\u001b[90m, \u001b[39m1\u001b[90m, \u001b[39m1\u001b[90m, \u001b[39m1\u001b[90m, \u001b[39m1\u001b[90m, \u001b[39m1\u001b[90m, \u001b[39m1\u001b[90m, \u001b[39m1\u001b[90m, \u001b[39m1\u001b[90m, \u001b[39m1\u001b[90m, \u001b[39m1\u001b[90m, \u001b[39m1\u001b[90m, \u001b[39m1\u001b[90m, \u001b[39m1\u001b[90m, \u001b[39m1\u001b[90m, \u001b[39m1\u001b[90m, \u001b[39m1\u001b[90m, \u001b[39m1\u001b[90m, \u001b[39m…\n",
            "$ Age_Group_New          \u001b[3m\u001b[90m<dbl>\u001b[39m\u001b[23m 1\u001b[90m, \u001b[39m1\u001b[90m, \u001b[39m1\u001b[90m, \u001b[39m1\u001b[90m, \u001b[39m1\u001b[90m, \u001b[39m1\u001b[90m, \u001b[39m1\u001b[90m, \u001b[39m1\u001b[90m, \u001b[39m1\u001b[90m, \u001b[39m1\u001b[90m, \u001b[39m1\u001b[90m, \u001b[39m1\u001b[90m, \u001b[39m1\u001b[90m, \u001b[39m1\u001b[90m, \u001b[39m1\u001b[90m, \u001b[39m1\u001b[90m, \u001b[39m1\u001b[90m, \u001b[39m1\u001b[90m, \u001b[39m1\u001b[90m, \u001b[39m1\u001b[90m, \u001b[39m1\u001b[90m, \u001b[39m1\u001b[90m, \u001b[39m1\u001b[90m, \u001b[39m1\u001b[90m, \u001b[39m1\u001b[90m, \u001b[39m1\u001b[90m, \u001b[39m1\u001b[90m, \u001b[39m1\u001b[90m, \u001b[39m1\u001b[90m, \u001b[39m…\n",
            "$ Gender                 \u001b[3m\u001b[90m<dbl>\u001b[39m\u001b[23m 2\u001b[90m, \u001b[39m1\u001b[90m, \u001b[39m2\u001b[90m, \u001b[39m1\u001b[90m, \u001b[39m1\u001b[90m, \u001b[39m1\u001b[90m, \u001b[39m1\u001b[90m, \u001b[39m2\u001b[90m, \u001b[39m2\u001b[90m, \u001b[39m1\u001b[90m, \u001b[39m1\u001b[90m, \u001b[39m2\u001b[90m, \u001b[39m2\u001b[90m, \u001b[39m2\u001b[90m, \u001b[39m1\u001b[90m, \u001b[39m3\u001b[90m, \u001b[39m2\u001b[90m, \u001b[39m2\u001b[90m, \u001b[39m1\u001b[90m, \u001b[39m1\u001b[90m, \u001b[39m1\u001b[90m, \u001b[39m1\u001b[90m, \u001b[39m2\u001b[90m, \u001b[39m1\u001b[90m, \u001b[39m1\u001b[90m, \u001b[39m1\u001b[90m, \u001b[39m1\u001b[90m, \u001b[39m2\u001b[90m, \u001b[39m3\u001b[90m, \u001b[39m…\n",
            "$ Village                \u001b[3m\u001b[90m<dbl>\u001b[39m\u001b[23m 4\u001b[90m, \u001b[39m9\u001b[90m, \u001b[39m4\u001b[90m, \u001b[39m4\u001b[90m, \u001b[39m9\u001b[90m, \u001b[39m8\u001b[90m, \u001b[39m5\u001b[90m, \u001b[39m8\u001b[90m, \u001b[39m8\u001b[90m, \u001b[39m8\u001b[90m, \u001b[39m8\u001b[90m, \u001b[39m8\u001b[90m, \u001b[39m8\u001b[90m, \u001b[39m8\u001b[90m, \u001b[39m8\u001b[90m, \u001b[39m8\u001b[90m, \u001b[39m7\u001b[90m, \u001b[39m5\u001b[90m, \u001b[39m8\u001b[90m, \u001b[39m8\u001b[90m, \u001b[39m5\u001b[90m, \u001b[39m8\u001b[90m, \u001b[39m8\u001b[90m, \u001b[39m8\u001b[90m, \u001b[39m8\u001b[90m, \u001b[39m8\u001b[90m, \u001b[39m8\u001b[90m, \u001b[39m8\u001b[90m, \u001b[39m8\u001b[90m, \u001b[39m…\n",
            "$ TVClassification       \u001b[3m\u001b[90m<dbl>\u001b[39m\u001b[23m 1\u001b[90m, \u001b[39m1\u001b[90m, \u001b[39m1\u001b[90m, \u001b[39m1\u001b[90m, \u001b[39m1\u001b[90m, \u001b[39m2\u001b[90m, \u001b[39m2\u001b[90m, \u001b[39m2\u001b[90m, \u001b[39m2\u001b[90m, \u001b[39m2\u001b[90m, \u001b[39m2\u001b[90m, \u001b[39m2\u001b[90m, \u001b[39m2\u001b[90m, \u001b[39m2\u001b[90m, \u001b[39m2\u001b[90m, \u001b[39m2\u001b[90m, \u001b[39m2\u001b[90m, \u001b[39m2\u001b[90m, \u001b[39m2\u001b[90m, \u001b[39m2\u001b[90m, \u001b[39m2\u001b[90m, \u001b[39m2\u001b[90m, \u001b[39m2\u001b[90m, \u001b[39m2\u001b[90m, \u001b[39m2\u001b[90m, \u001b[39m2\u001b[90m, \u001b[39m2\u001b[90m, \u001b[39m2\u001b[90m, \u001b[39m2\u001b[90m, \u001b[39m…\n",
            "$ EduLevel_Recoded       \u001b[3m\u001b[90m<dbl>\u001b[39m\u001b[23m 3\u001b[90m, \u001b[39m3\u001b[90m, \u001b[39m3\u001b[90m, \u001b[39m3\u001b[90m, \u001b[39m3\u001b[90m, \u001b[39m3\u001b[90m, \u001b[39m3\u001b[90m, \u001b[39m2\u001b[90m, \u001b[39m2\u001b[90m, \u001b[39m2\u001b[90m, \u001b[39m3\u001b[90m, \u001b[39m2\u001b[90m, \u001b[39m2\u001b[90m, \u001b[39m3\u001b[90m, \u001b[39m2\u001b[90m, \u001b[39m2\u001b[90m, \u001b[39m3\u001b[90m, \u001b[39m3\u001b[90m, \u001b[39m2\u001b[90m, \u001b[39m3\u001b[90m, \u001b[39m3\u001b[90m, \u001b[39m2\u001b[90m, \u001b[39m2\u001b[90m, \u001b[39m2\u001b[90m, \u001b[39m2\u001b[90m, \u001b[39m2\u001b[90m, \u001b[39m2\u001b[90m, \u001b[39m2\u001b[90m, \u001b[39m2\u001b[90m, \u001b[39m…\n",
            "$ Ethnicities_Banyuwangi \u001b[3m\u001b[90m<dbl>\u001b[39m\u001b[23m 1\u001b[90m, \u001b[39m6\u001b[90m, \u001b[39m2\u001b[90m, \u001b[39m3\u001b[90m, \u001b[39m1\u001b[90m, \u001b[39m1\u001b[90m, \u001b[39m1\u001b[90m, \u001b[39m1\u001b[90m, \u001b[39m1\u001b[90m, \u001b[39m6\u001b[90m, \u001b[39m1\u001b[90m, \u001b[39m6\u001b[90m, \u001b[39m6\u001b[90m, \u001b[39m1\u001b[90m, \u001b[39m6\u001b[90m, \u001b[39m2\u001b[90m, \u001b[39m6\u001b[90m, \u001b[39m6\u001b[90m, \u001b[39m1\u001b[90m, \u001b[39m1\u001b[90m, \u001b[39m5\u001b[90m, \u001b[39m1\u001b[90m, \u001b[39m1\u001b[90m, \u001b[39m1\u001b[90m, \u001b[39m1\u001b[90m, \u001b[39m2\u001b[90m, \u001b[39m6\u001b[90m, \u001b[39m6\u001b[90m, \u001b[39m6\u001b[90m, \u001b[39m…\n",
            "$ Ethn_Jav               \u001b[3m\u001b[90m<dbl>\u001b[39m\u001b[23m 1\u001b[90m, \u001b[39m0\u001b[90m, \u001b[39m0\u001b[90m, \u001b[39m0\u001b[90m, \u001b[39m1\u001b[90m, \u001b[39m1\u001b[90m, \u001b[39m1\u001b[90m, \u001b[39m1\u001b[90m, \u001b[39m1\u001b[90m, \u001b[39m0\u001b[90m, \u001b[39m1\u001b[90m, \u001b[39m0\u001b[90m, \u001b[39m0\u001b[90m, \u001b[39m1\u001b[90m, \u001b[39m0\u001b[90m, \u001b[39m0\u001b[90m, \u001b[39m0\u001b[90m, \u001b[39m0\u001b[90m, \u001b[39m1\u001b[90m, \u001b[39m1\u001b[90m, \u001b[39m0\u001b[90m, \u001b[39m1\u001b[90m, \u001b[39m1\u001b[90m, \u001b[39m1\u001b[90m, \u001b[39m1\u001b[90m, \u001b[39m0\u001b[90m, \u001b[39m0\u001b[90m, \u001b[39m0\u001b[90m, \u001b[39m0\u001b[90m, \u001b[39m…\n",
            "$ Ethn_Mad               \u001b[3m\u001b[90m<dbl>\u001b[39m\u001b[23m 0\u001b[90m, \u001b[39m0\u001b[90m, \u001b[39m1\u001b[90m, \u001b[39m0\u001b[90m, \u001b[39m0\u001b[90m, \u001b[39m0\u001b[90m, \u001b[39m0\u001b[90m, \u001b[39m0\u001b[90m, \u001b[39m0\u001b[90m, \u001b[39m0\u001b[90m, \u001b[39m0\u001b[90m, \u001b[39m0\u001b[90m, \u001b[39m0\u001b[90m, \u001b[39m0\u001b[90m, \u001b[39m0\u001b[90m, \u001b[39m1\u001b[90m, \u001b[39m0\u001b[90m, \u001b[39m0\u001b[90m, \u001b[39m0\u001b[90m, \u001b[39m0\u001b[90m, \u001b[39m0\u001b[90m, \u001b[39m0\u001b[90m, \u001b[39m0\u001b[90m, \u001b[39m0\u001b[90m, \u001b[39m0\u001b[90m, \u001b[39m1\u001b[90m, \u001b[39m0\u001b[90m, \u001b[39m0\u001b[90m, \u001b[39m0\u001b[90m, \u001b[39m…\n",
            "$ Ethn_Osi               \u001b[3m\u001b[90m<dbl>\u001b[39m\u001b[23m 0\u001b[90m, \u001b[39m0\u001b[90m, \u001b[39m0\u001b[90m, \u001b[39m1\u001b[90m, \u001b[39m0\u001b[90m, \u001b[39m0\u001b[90m, \u001b[39m0\u001b[90m, \u001b[39m0\u001b[90m, \u001b[39m0\u001b[90m, \u001b[39m0\u001b[90m, \u001b[39m0\u001b[90m, \u001b[39m0\u001b[90m, \u001b[39m0\u001b[90m, \u001b[39m0\u001b[90m, \u001b[39m0\u001b[90m, \u001b[39m0\u001b[90m, \u001b[39m0\u001b[90m, \u001b[39m0\u001b[90m, \u001b[39m0\u001b[90m, \u001b[39m0\u001b[90m, \u001b[39m0\u001b[90m, \u001b[39m0\u001b[90m, \u001b[39m0\u001b[90m, \u001b[39m0\u001b[90m, \u001b[39m0\u001b[90m, \u001b[39m0\u001b[90m, \u001b[39m0\u001b[90m, \u001b[39m0\u001b[90m, \u001b[39m0\u001b[90m, \u001b[39m…\n",
            "$ Ethn_Chi               \u001b[3m\u001b[90m<dbl>\u001b[39m\u001b[23m 0\u001b[90m, \u001b[39m0\u001b[90m, \u001b[39m0\u001b[90m, \u001b[39m0\u001b[90m, \u001b[39m0\u001b[90m, \u001b[39m0\u001b[90m, \u001b[39m0\u001b[90m, \u001b[39m0\u001b[90m, \u001b[39m0\u001b[90m, \u001b[39m0\u001b[90m, \u001b[39m0\u001b[90m, \u001b[39m0\u001b[90m, \u001b[39m0\u001b[90m, \u001b[39m0\u001b[90m, \u001b[39m0\u001b[90m, \u001b[39m0\u001b[90m, \u001b[39m0\u001b[90m, \u001b[39m0\u001b[90m, \u001b[39m0\u001b[90m, \u001b[39m0\u001b[90m, \u001b[39m0\u001b[90m, \u001b[39m0\u001b[90m, \u001b[39m0\u001b[90m, \u001b[39m0\u001b[90m, \u001b[39m0\u001b[90m, \u001b[39m0\u001b[90m, \u001b[39m0\u001b[90m, \u001b[39m0\u001b[90m, \u001b[39m0\u001b[90m, \u001b[39m…\n",
            "$ Ethn_Oth               \u001b[3m\u001b[90m<dbl>\u001b[39m\u001b[23m 0\u001b[90m, \u001b[39m0\u001b[90m, \u001b[39m0\u001b[90m, \u001b[39m0\u001b[90m, \u001b[39m0\u001b[90m, \u001b[39m0\u001b[90m, \u001b[39m0\u001b[90m, \u001b[39m0\u001b[90m, \u001b[39m0\u001b[90m, \u001b[39m0\u001b[90m, \u001b[39m0\u001b[90m, \u001b[39m0\u001b[90m, \u001b[39m0\u001b[90m, \u001b[39m0\u001b[90m, \u001b[39m0\u001b[90m, \u001b[39m0\u001b[90m, \u001b[39m0\u001b[90m, \u001b[39m0\u001b[90m, \u001b[39m0\u001b[90m, \u001b[39m0\u001b[90m, \u001b[39m1\u001b[90m, \u001b[39m0\u001b[90m, \u001b[39m0\u001b[90m, \u001b[39m0\u001b[90m, \u001b[39m0\u001b[90m, \u001b[39m0\u001b[90m, \u001b[39m0\u001b[90m, \u001b[39m0\u001b[90m, \u001b[39m0\u001b[90m, \u001b[39m…\n",
            "$ Ethn_Mix               \u001b[3m\u001b[90m<dbl>\u001b[39m\u001b[23m 0\u001b[90m, \u001b[39m1\u001b[90m, \u001b[39m0\u001b[90m, \u001b[39m0\u001b[90m, \u001b[39m0\u001b[90m, \u001b[39m0\u001b[90m, \u001b[39m0\u001b[90m, \u001b[39m0\u001b[90m, \u001b[39m0\u001b[90m, \u001b[39m1\u001b[90m, \u001b[39m0\u001b[90m, \u001b[39m1\u001b[90m, \u001b[39m1\u001b[90m, \u001b[39m0\u001b[90m, \u001b[39m1\u001b[90m, \u001b[39m0\u001b[90m, \u001b[39m1\u001b[90m, \u001b[39m1\u001b[90m, \u001b[39m0\u001b[90m, \u001b[39m0\u001b[90m, \u001b[39m0\u001b[90m, \u001b[39m0\u001b[90m, \u001b[39m0\u001b[90m, \u001b[39m0\u001b[90m, \u001b[39m0\u001b[90m, \u001b[39m0\u001b[90m, \u001b[39m1\u001b[90m, \u001b[39m1\u001b[90m, \u001b[39m1\u001b[90m, \u001b[39m…\n",
            "$ Ethnicity              \u001b[3m\u001b[90m<chr>\u001b[39m\u001b[23m \"Javanese\"\u001b[90m, \u001b[39m\"Multiple Ethnicities\"\u001b[90m, \u001b[39m\"Madurese\"\u001b[90m, \u001b[39m\"Osing\"\u001b[90m, \u001b[39m\"Javanese\"\u001b[90m, \u001b[39m\"Javanese\"\u001b[90m, \u001b[39m\"Javan…\n",
            "$ MultiEthnic            \u001b[3m\u001b[90m<dbl>\u001b[39m\u001b[23m 1\u001b[90m, \u001b[39m3\u001b[90m, \u001b[39m1\u001b[90m, \u001b[39m1\u001b[90m, \u001b[39m1\u001b[90m, \u001b[39m1\u001b[90m, \u001b[39m1\u001b[90m, \u001b[39m1\u001b[90m, \u001b[39m1\u001b[90m, \u001b[39m2\u001b[90m, \u001b[39m1\u001b[90m, \u001b[39m2\u001b[90m, \u001b[39m2\u001b[90m, \u001b[39m1\u001b[90m, \u001b[39m1\u001b[90m, \u001b[39m1\u001b[90m, \u001b[39m2\u001b[90m, \u001b[39m3\u001b[90m, \u001b[39m1\u001b[90m, \u001b[39m1\u001b[90m, \u001b[39m1\u001b[90m, \u001b[39m1\u001b[90m, \u001b[39m1\u001b[90m, \u001b[39m1\u001b[90m, \u001b[39m1\u001b[90m, \u001b[39m1\u001b[90m, \u001b[39m2\u001b[90m, \u001b[39m2\u001b[90m, \u001b[39m1\u001b[90m, \u001b[39m…\n",
            "$ Employ                 \u001b[3m\u001b[90m<dbl>\u001b[39m\u001b[23m 1\u001b[90m, \u001b[39m1\u001b[90m, \u001b[39m1\u001b[90m, \u001b[39m1\u001b[90m, \u001b[39m1\u001b[90m, \u001b[39m1\u001b[90m, \u001b[39m1\u001b[90m, \u001b[39m1\u001b[90m, \u001b[39m1\u001b[90m, \u001b[39m1\u001b[90m, \u001b[39m1\u001b[90m, \u001b[39m1\u001b[90m, \u001b[39m1\u001b[90m, \u001b[39m1\u001b[90m, \u001b[39m1\u001b[90m, \u001b[39m1\u001b[90m, \u001b[39m3\u001b[90m, \u001b[39m1\u001b[90m, \u001b[39m1\u001b[90m, \u001b[39m1\u001b[90m, \u001b[39m1\u001b[90m, \u001b[39m2\u001b[90m, \u001b[39m1\u001b[90m, \u001b[39m1\u001b[90m, \u001b[39m1\u001b[90m, \u001b[39m1\u001b[90m, \u001b[39m1\u001b[90m, \u001b[39m1\u001b[90m, \u001b[39m1\u001b[90m, \u001b[39m…\n",
            "$ Indust                 \u001b[3m\u001b[90m<dbl>\u001b[39m\u001b[23m 6\u001b[90m, \u001b[39m5\u001b[90m, \u001b[39m5\u001b[90m, \u001b[39m6\u001b[90m, \u001b[39m6\u001b[90m, \u001b[39m6\u001b[90m, \u001b[39m6\u001b[90m, \u001b[39m6\u001b[90m, \u001b[39m6\u001b[90m, \u001b[39m6\u001b[90m, \u001b[39m6\u001b[90m, \u001b[39m6\u001b[90m, \u001b[39m6\u001b[90m, \u001b[39m6\u001b[90m, \u001b[39m6\u001b[90m, \u001b[39m6\u001b[90m, \u001b[39m5\u001b[90m, \u001b[39m6\u001b[90m, \u001b[39m6\u001b[90m, \u001b[39m2\u001b[90m, \u001b[39m6\u001b[90m, \u001b[39m1\u001b[90m, \u001b[39m6\u001b[90m, \u001b[39m6\u001b[90m, \u001b[39m6\u001b[90m, \u001b[39m6\u001b[90m, \u001b[39m6\u001b[90m, \u001b[39m6\u001b[90m, \u001b[39m6\u001b[90m, \u001b[39m…\n",
            "$ Job_Tourism            \u001b[3m\u001b[90m<dbl>\u001b[39m\u001b[23m 3\u001b[90m, \u001b[39m2\u001b[90m, \u001b[39m1\u001b[90m, \u001b[39m3\u001b[90m, \u001b[39m1\u001b[90m, \u001b[39m1\u001b[90m, \u001b[39m3\u001b[90m, \u001b[39m3\u001b[90m, \u001b[39m3\u001b[90m, \u001b[39m3\u001b[90m, \u001b[39m3\u001b[90m, \u001b[39m3\u001b[90m, \u001b[39m3\u001b[90m, \u001b[39m3\u001b[90m, \u001b[39m3\u001b[90m, \u001b[39m3\u001b[90m, \u001b[39m1\u001b[90m, \u001b[39m2\u001b[90m, \u001b[39m3\u001b[90m, \u001b[39m3\u001b[90m, \u001b[39m3\u001b[90m, \u001b[39m3\u001b[90m, \u001b[39m3\u001b[90m, \u001b[39m3\u001b[90m, \u001b[39m3\u001b[90m, \u001b[39m3\u001b[90m, \u001b[39m3\u001b[90m, \u001b[39m3\u001b[90m, \u001b[39m3\u001b[90m, \u001b[39m…\n",
            "$ Income                 \u001b[3m\u001b[90m<dbl>\u001b[39m\u001b[23m 1\u001b[90m, \u001b[39m1\u001b[90m, \u001b[39m1\u001b[90m, \u001b[39m1\u001b[90m, \u001b[39m1\u001b[90m, \u001b[39m2\u001b[90m, \u001b[39m1\u001b[90m, \u001b[39m3\u001b[90m, \u001b[39m3\u001b[90m, \u001b[39m3\u001b[90m, \u001b[39m3\u001b[90m, \u001b[39m3\u001b[90m, \u001b[39m3\u001b[90m, \u001b[39m3\u001b[90m, \u001b[39m3\u001b[90m, \u001b[39m3\u001b[90m, \u001b[39m3\u001b[90m, \u001b[39m1\u001b[90m, \u001b[39m3\u001b[90m, \u001b[39m1\u001b[90m, \u001b[39m1\u001b[90m, \u001b[39m2\u001b[90m, \u001b[39m3\u001b[90m, \u001b[39m3\u001b[90m, \u001b[39m3\u001b[90m, \u001b[39m3\u001b[90m, \u001b[39m3\u001b[90m, \u001b[39m3\u001b[90m, \u001b[39m3\u001b[90m, \u001b[39m…\n",
            "$ Resid_Time             \u001b[3m\u001b[90m<dbl>\u001b[39m\u001b[23m 2\u001b[90m, \u001b[39m4\u001b[90m, \u001b[39m4\u001b[90m, \u001b[39m4\u001b[90m, \u001b[39m4\u001b[90m, \u001b[39m3\u001b[90m, \u001b[39m4\u001b[90m, \u001b[39m4\u001b[90m, \u001b[39m4\u001b[90m, \u001b[39m4\u001b[90m, \u001b[39m4\u001b[90m, \u001b[39m4\u001b[90m, \u001b[39m4\u001b[90m, \u001b[39m4\u001b[90m, \u001b[39m4\u001b[90m, \u001b[39m4\u001b[90m, \u001b[39m4\u001b[90m, \u001b[39m4\u001b[90m, \u001b[39m4\u001b[90m, \u001b[39m4\u001b[90m, \u001b[39m4\u001b[90m, \u001b[39m4\u001b[90m, \u001b[39m4\u001b[90m, \u001b[39m4\u001b[90m, \u001b[39m4\u001b[90m, \u001b[39m4\u001b[90m, \u001b[39m4\u001b[90m, \u001b[39m4\u001b[90m, \u001b[39m4\u001b[90m, \u001b[39m…\n",
            "$ Know_Tourism           \u001b[3m\u001b[90m<dbl>\u001b[39m\u001b[23m 3\u001b[90m, \u001b[39m3\u001b[90m, \u001b[39m3\u001b[90m, \u001b[39m3\u001b[90m, \u001b[39m4\u001b[90m, \u001b[39m2\u001b[90m, \u001b[39m2\u001b[90m, \u001b[39m2\u001b[90m, \u001b[39m2\u001b[90m, \u001b[39m1\u001b[90m, \u001b[39m2\u001b[90m, \u001b[39m2\u001b[90m, \u001b[39m2\u001b[90m, \u001b[39m2\u001b[90m, \u001b[39m3\u001b[90m, \u001b[39m2\u001b[90m, \u001b[39m2\u001b[90m, \u001b[39m3\u001b[90m, \u001b[39m3\u001b[90m, \u001b[39m1\u001b[90m, \u001b[39m1\u001b[90m, \u001b[39m1\u001b[90m, \u001b[39m1\u001b[90m, \u001b[39m1\u001b[90m, \u001b[39m1\u001b[90m, \u001b[39m1\u001b[90m, \u001b[39m1\u001b[90m, \u001b[39m1\u001b[90m, \u001b[39m1\u001b[90m, \u001b[39m…\n",
            "$ TV_Overall_Imp         \u001b[3m\u001b[90m<dbl>\u001b[39m\u001b[23m 1\u001b[90m, \u001b[39m1\u001b[90m, \u001b[39m1\u001b[90m, \u001b[39m1\u001b[90m, \u001b[39m1\u001b[90m, \u001b[39m2\u001b[90m, \u001b[39m2\u001b[90m, \u001b[39m1\u001b[90m, \u001b[39m1\u001b[90m, \u001b[39m2\u001b[90m, \u001b[39m1\u001b[90m, \u001b[39m2\u001b[90m, \u001b[39m1\u001b[90m, \u001b[39m1\u001b[90m, \u001b[39m1\u001b[90m, \u001b[39m3\u001b[90m, \u001b[39m2\u001b[90m, \u001b[39m2\u001b[90m, \u001b[39m1\u001b[90m, \u001b[39m2\u001b[90m, \u001b[39m2\u001b[90m, \u001b[39m2\u001b[90m, \u001b[39m2\u001b[90m, \u001b[39m2\u001b[90m, \u001b[39m2\u001b[90m, \u001b[39m2\u001b[90m, \u001b[39m2\u001b[90m, \u001b[39m2\u001b[90m, \u001b[39m2\u001b[90m, \u001b[39m…\n",
            "$ TV_Supp_Local          \u001b[3m\u001b[90m<dbl>\u001b[39m\u001b[23m 2\u001b[90m, \u001b[39m1\u001b[90m, \u001b[39m1\u001b[90m, \u001b[39m2\u001b[90m, \u001b[39m1\u001b[90m, \u001b[39m2\u001b[90m, \u001b[39m2\u001b[90m, \u001b[39m1\u001b[90m, \u001b[39m2\u001b[90m, \u001b[39m2\u001b[90m, \u001b[39m1\u001b[90m, \u001b[39m2\u001b[90m, \u001b[39m3\u001b[90m, \u001b[39m1\u001b[90m, \u001b[39m1\u001b[90m, \u001b[39m3\u001b[90m, \u001b[39m2\u001b[90m, \u001b[39m1\u001b[90m, \u001b[39m1\u001b[90m, \u001b[39m2\u001b[90m, \u001b[39m2\u001b[90m, \u001b[39m2\u001b[90m, \u001b[39m2\u001b[90m, \u001b[39m2\u001b[90m, \u001b[39m2\u001b[90m, \u001b[39m2\u001b[90m, \u001b[39m2\u001b[90m, \u001b[39m2\u001b[90m, \u001b[39m2\u001b[90m, \u001b[39m…\n",
            "$ TVSuppLocal_Recoded    \u001b[3m\u001b[90m<dbl>\u001b[39m\u001b[23m 1\u001b[90m, \u001b[39m1\u001b[90m, \u001b[39m1\u001b[90m, \u001b[39m1\u001b[90m, \u001b[39m1\u001b[90m, \u001b[39m1\u001b[90m, \u001b[39m1\u001b[90m, \u001b[39m1\u001b[90m, \u001b[39m1\u001b[90m, \u001b[39m1\u001b[90m, \u001b[39m1\u001b[90m, \u001b[39m1\u001b[90m, \u001b[39m2\u001b[90m, \u001b[39m1\u001b[90m, \u001b[39m1\u001b[90m, \u001b[39m2\u001b[90m, \u001b[39m1\u001b[90m, \u001b[39m1\u001b[90m, \u001b[39m1\u001b[90m, \u001b[39m1\u001b[90m, \u001b[39m1\u001b[90m, \u001b[39m1\u001b[90m, \u001b[39m1\u001b[90m, \u001b[39m1\u001b[90m, \u001b[39m1\u001b[90m, \u001b[39m1\u001b[90m, \u001b[39m1\u001b[90m, \u001b[39m1\u001b[90m, \u001b[39m1\u001b[90m, \u001b[39m…\n",
            "$ Partic_TV              \u001b[3m\u001b[90m<dbl>\u001b[39m\u001b[23m 2\u001b[90m, \u001b[39m3\u001b[90m, \u001b[39m1\u001b[90m, \u001b[39m4\u001b[90m, \u001b[39m3\u001b[90m, \u001b[39m5\u001b[90m, \u001b[39m3\u001b[90m, \u001b[39m3\u001b[90m, \u001b[39m4\u001b[90m, \u001b[39m3\u001b[90m, \u001b[39m3\u001b[90m, \u001b[39m4\u001b[90m, \u001b[39m3\u001b[90m, \u001b[39m2\u001b[90m, \u001b[39m4\u001b[90m, \u001b[39m3\u001b[90m, \u001b[39m3\u001b[90m, \u001b[39m3\u001b[90m, \u001b[39m3\u001b[90m, \u001b[39m3\u001b[90m, \u001b[39m3\u001b[90m, \u001b[39m3\u001b[90m, \u001b[39m3\u001b[90m, \u001b[39m3\u001b[90m, \u001b[39m3\u001b[90m, \u001b[39m3\u001b[90m, \u001b[39m3\u001b[90m, \u001b[39m3\u001b[90m, \u001b[39m3\u001b[90m, \u001b[39m…\n",
            "$ Econ_Change            \u001b[3m\u001b[90m<dbl>\u001b[39m\u001b[23m 2\u001b[90m, \u001b[39m2\u001b[90m, \u001b[39m2\u001b[90m, \u001b[39m2\u001b[90m, \u001b[39m4\u001b[90m, \u001b[39m2\u001b[90m, \u001b[39m2\u001b[90m, \u001b[39m2\u001b[90m, \u001b[39m2\u001b[90m, \u001b[39m2\u001b[90m, \u001b[39m2\u001b[90m, \u001b[39m2\u001b[90m, \u001b[39m2\u001b[90m, \u001b[39m1\u001b[90m, \u001b[39m1\u001b[90m, \u001b[39m2\u001b[90m, \u001b[39m5\u001b[90m, \u001b[39m1\u001b[90m, \u001b[39m2\u001b[90m, \u001b[39m2\u001b[90m, \u001b[39m2\u001b[90m, \u001b[39m2\u001b[90m, \u001b[39m2\u001b[90m, \u001b[39m2\u001b[90m, \u001b[39m2\u001b[90m, \u001b[39m2\u001b[90m, \u001b[39m2\u001b[90m, \u001b[39m2\u001b[90m, \u001b[39m2\u001b[90m, \u001b[39m…\n",
            "$ Soc_Change             \u001b[3m\u001b[90m<dbl>\u001b[39m\u001b[23m 2\u001b[90m, \u001b[39m2\u001b[90m, \u001b[39m2\u001b[90m, \u001b[39m2\u001b[90m, \u001b[39m1\u001b[90m, \u001b[39m2\u001b[90m, \u001b[39m2\u001b[90m, \u001b[39m2\u001b[90m, \u001b[39m2\u001b[90m, \u001b[39m2\u001b[90m, \u001b[39m1\u001b[90m, \u001b[39m2\u001b[90m, \u001b[39m2\u001b[90m, \u001b[39m1\u001b[90m, \u001b[39m1\u001b[90m, \u001b[39m2\u001b[90m, \u001b[39m2\u001b[90m, \u001b[39m2\u001b[90m, \u001b[39m2\u001b[90m, \u001b[39m2\u001b[90m, \u001b[39m2\u001b[90m, \u001b[39m2\u001b[90m, \u001b[39m2\u001b[90m, \u001b[39m2\u001b[90m, \u001b[39m2\u001b[90m, \u001b[39m2\u001b[90m, \u001b[39m2\u001b[90m, \u001b[39m2\u001b[90m, \u001b[39m2\u001b[90m, \u001b[39m…\n",
            "$ Env_Change             \u001b[3m\u001b[90m<dbl>\u001b[39m\u001b[23m 2\u001b[90m, \u001b[39m2\u001b[90m, \u001b[39m2\u001b[90m, \u001b[39m2\u001b[90m, \u001b[39m2\u001b[90m, \u001b[39m2\u001b[90m, \u001b[39m2\u001b[90m, \u001b[39m2\u001b[90m, \u001b[39m2\u001b[90m, \u001b[39m2\u001b[90m, \u001b[39m2\u001b[90m, \u001b[39m2\u001b[90m, \u001b[39m2\u001b[90m, \u001b[39m2\u001b[90m, \u001b[39m1\u001b[90m, \u001b[39m1\u001b[90m, \u001b[39m2\u001b[90m, \u001b[39m3\u001b[90m, \u001b[39m2\u001b[90m, \u001b[39m2\u001b[90m, \u001b[39m2\u001b[90m, \u001b[39m2\u001b[90m, \u001b[39m2\u001b[90m, \u001b[39m2\u001b[90m, \u001b[39m2\u001b[90m, \u001b[39m2\u001b[90m, \u001b[39m2\u001b[90m, \u001b[39m2\u001b[90m, \u001b[39m2\u001b[90m, \u001b[39m…\n",
            "$ Gov_Change             \u001b[3m\u001b[90m<dbl>\u001b[39m\u001b[23m 2\u001b[90m, \u001b[39m2\u001b[90m, \u001b[39m1\u001b[90m, \u001b[39m2\u001b[90m, \u001b[39m2\u001b[90m, \u001b[39m2\u001b[90m, \u001b[39m2\u001b[90m, \u001b[39m2\u001b[90m, \u001b[39m2\u001b[90m, \u001b[39m2\u001b[90m, \u001b[39m2\u001b[90m, \u001b[39m2\u001b[90m, \u001b[39m2\u001b[90m, \u001b[39m3\u001b[90m, \u001b[39m2\u001b[90m, \u001b[39m2\u001b[90m, \u001b[39m2\u001b[90m, \u001b[39m2\u001b[90m, \u001b[39m3\u001b[90m, \u001b[39m2\u001b[90m, \u001b[39m2\u001b[90m, \u001b[39m2\u001b[90m, \u001b[39m2\u001b[90m, \u001b[39m2\u001b[90m, \u001b[39m2\u001b[90m, \u001b[39m2\u001b[90m, \u001b[39m2\u001b[90m, \u001b[39m2\u001b[90m, \u001b[39m2\u001b[90m, \u001b[39m…\n",
            "$ SDG_1                  \u001b[3m\u001b[90m<dbl>\u001b[39m\u001b[23m 2\u001b[90m, \u001b[39m1\u001b[90m, \u001b[39m1\u001b[90m, \u001b[39m1\u001b[90m, \u001b[39m2\u001b[90m, \u001b[39m2\u001b[90m, \u001b[39m1\u001b[90m, \u001b[39m2\u001b[90m, \u001b[39m2\u001b[90m, \u001b[39m3\u001b[90m, \u001b[39m1\u001b[90m, \u001b[39m2\u001b[90m, \u001b[39m3\u001b[90m, \u001b[39m2\u001b[90m, \u001b[39m1\u001b[90m, \u001b[39m3\u001b[90m, \u001b[39m2\u001b[90m, \u001b[39m1\u001b[90m, \u001b[39m2\u001b[90m, \u001b[39m2\u001b[90m, \u001b[39m1\u001b[90m, \u001b[39m2\u001b[90m, \u001b[39m2\u001b[90m, \u001b[39m1\u001b[90m, \u001b[39m1\u001b[90m, \u001b[39m3\u001b[90m, \u001b[39m2\u001b[90m, \u001b[39m1\u001b[90m, \u001b[39m1\u001b[90m, \u001b[39m…\n",
            "$ SDG_2                  \u001b[3m\u001b[90m<dbl>\u001b[39m\u001b[23m 2\u001b[90m, \u001b[39m1\u001b[90m, \u001b[39m1\u001b[90m, \u001b[39m2\u001b[90m, \u001b[39m2\u001b[90m, \u001b[39m2\u001b[90m, \u001b[39m2\u001b[90m, \u001b[39m2\u001b[90m, \u001b[39m2\u001b[90m, \u001b[39m2\u001b[90m, \u001b[39m3\u001b[90m, \u001b[39m3\u001b[90m, \u001b[39m3\u001b[90m, \u001b[39m2\u001b[90m, \u001b[39m2\u001b[90m, \u001b[39m3\u001b[90m, \u001b[39m4\u001b[90m, \u001b[39m2\u001b[90m, \u001b[39m2\u001b[90m, \u001b[39m2\u001b[90m, \u001b[39m1\u001b[90m, \u001b[39m2\u001b[90m, \u001b[39m2\u001b[90m, \u001b[39m1\u001b[90m, \u001b[39m2\u001b[90m, \u001b[39m3\u001b[90m, \u001b[39m2\u001b[90m, \u001b[39m2\u001b[90m, \u001b[39m3\u001b[90m, \u001b[39m…\n",
            "$ SDG_3                  \u001b[3m\u001b[90m<dbl>\u001b[39m\u001b[23m 2\u001b[90m, \u001b[39m1\u001b[90m, \u001b[39m1\u001b[90m, \u001b[39m1\u001b[90m, \u001b[39m2\u001b[90m, \u001b[39m2\u001b[90m, \u001b[39m2\u001b[90m, \u001b[39m2\u001b[90m, \u001b[39m2\u001b[90m, \u001b[39m1\u001b[90m, \u001b[39m2\u001b[90m, \u001b[39m1\u001b[90m, \u001b[39m2\u001b[90m, \u001b[39m1\u001b[90m, \u001b[39m1\u001b[90m, \u001b[39m2\u001b[90m, \u001b[39m2\u001b[90m, \u001b[39m2\u001b[90m, \u001b[39m1\u001b[90m, \u001b[39m2\u001b[90m, \u001b[39m1\u001b[90m, \u001b[39m2\u001b[90m, \u001b[39m2\u001b[90m, \u001b[39m1\u001b[90m, \u001b[39m2\u001b[90m, \u001b[39m2\u001b[90m, \u001b[39m1\u001b[90m, \u001b[39m1\u001b[90m, \u001b[39m1\u001b[90m, \u001b[39m…\n",
            "$ SDG_4                  \u001b[3m\u001b[90m<dbl>\u001b[39m\u001b[23m 2\u001b[90m, \u001b[39m2\u001b[90m, \u001b[39m1\u001b[90m, \u001b[39m2\u001b[90m, \u001b[39m2\u001b[90m, \u001b[39m2\u001b[90m, \u001b[39m2\u001b[90m, \u001b[39m2\u001b[90m, \u001b[39m3\u001b[90m, \u001b[39m1\u001b[90m, \u001b[39m2\u001b[90m, \u001b[39m1\u001b[90m, \u001b[39m3\u001b[90m, \u001b[39m2\u001b[90m, \u001b[39m1\u001b[90m, \u001b[39m2\u001b[90m, \u001b[39m2\u001b[90m, \u001b[39m2\u001b[90m, \u001b[39m2\u001b[90m, \u001b[39m2\u001b[90m, \u001b[39m1\u001b[90m, \u001b[39m2\u001b[90m, \u001b[39m2\u001b[90m, \u001b[39m1\u001b[90m, \u001b[39m2\u001b[90m, \u001b[39m3\u001b[90m, \u001b[39m2\u001b[90m, \u001b[39m1\u001b[90m, \u001b[39m1\u001b[90m, \u001b[39m…\n",
            "$ SDG_5                  \u001b[3m\u001b[90m<dbl>\u001b[39m\u001b[23m 1\u001b[90m, \u001b[39m1\u001b[90m, \u001b[39m1\u001b[90m, \u001b[39m2\u001b[90m, \u001b[39m2\u001b[90m, \u001b[39m2\u001b[90m, \u001b[39m2\u001b[90m, \u001b[39m2\u001b[90m, \u001b[39m3\u001b[90m, \u001b[39m1\u001b[90m, \u001b[39m1\u001b[90m, \u001b[39m3\u001b[90m, \u001b[39m3\u001b[90m, \u001b[39m2\u001b[90m, \u001b[39m2\u001b[90m, \u001b[39m3\u001b[90m, \u001b[39m2\u001b[90m, \u001b[39m4\u001b[90m, \u001b[39m2\u001b[90m, \u001b[39m2\u001b[90m, \u001b[39m1\u001b[90m, \u001b[39m2\u001b[90m, \u001b[39m2\u001b[90m, \u001b[39m2\u001b[90m, \u001b[39m3\u001b[90m, \u001b[39m3\u001b[90m, \u001b[39m2\u001b[90m, \u001b[39m3\u001b[90m, \u001b[39m2\u001b[90m, \u001b[39m…\n",
            "$ SDG_6                  \u001b[3m\u001b[90m<dbl>\u001b[39m\u001b[23m 2\u001b[90m, \u001b[39m1\u001b[90m, \u001b[39m1\u001b[90m, \u001b[39m2\u001b[90m, \u001b[39m2\u001b[90m, \u001b[39m2\u001b[90m, \u001b[39m2\u001b[90m, \u001b[39m2\u001b[90m, \u001b[39m1\u001b[90m, \u001b[39m1\u001b[90m, \u001b[39m1\u001b[90m, \u001b[39m1\u001b[90m, \u001b[39m2\u001b[90m, \u001b[39m2\u001b[90m, \u001b[39m2\u001b[90m, \u001b[39m2\u001b[90m, \u001b[39m4\u001b[90m, \u001b[39m2\u001b[90m, \u001b[39m2\u001b[90m, \u001b[39m2\u001b[90m, \u001b[39m1\u001b[90m, \u001b[39m2\u001b[90m, \u001b[39m1\u001b[90m, \u001b[39m2\u001b[90m, \u001b[39m1\u001b[90m, \u001b[39m1\u001b[90m, \u001b[39m1\u001b[90m, \u001b[39m1\u001b[90m, \u001b[39m2\u001b[90m, \u001b[39m…\n",
            "$ SDG_7                  \u001b[3m\u001b[90m<dbl>\u001b[39m\u001b[23m 2\u001b[90m, \u001b[39m1\u001b[90m, \u001b[39m1\u001b[90m, \u001b[39m2\u001b[90m, \u001b[39m2\u001b[90m, \u001b[39m2\u001b[90m, \u001b[39m2\u001b[90m, \u001b[39m2\u001b[90m, \u001b[39m1\u001b[90m, \u001b[39m1\u001b[90m, \u001b[39m3\u001b[90m, \u001b[39m1\u001b[90m, \u001b[39m2\u001b[90m, \u001b[39m3\u001b[90m, \u001b[39m2\u001b[90m, \u001b[39m2\u001b[90m, \u001b[39m2\u001b[90m, \u001b[39m2\u001b[90m, \u001b[39m1\u001b[90m, \u001b[39m2\u001b[90m, \u001b[39m1\u001b[90m, \u001b[39m2\u001b[90m, \u001b[39m1\u001b[90m, \u001b[39m2\u001b[90m, \u001b[39m3\u001b[90m, \u001b[39m3\u001b[90m, \u001b[39m1\u001b[90m, \u001b[39m1\u001b[90m, \u001b[39m2\u001b[90m, \u001b[39m…\n",
            "$ SDG_8                  \u001b[3m\u001b[90m<dbl>\u001b[39m\u001b[23m 2\u001b[90m, \u001b[39m1\u001b[90m, \u001b[39m1\u001b[90m, \u001b[39m2\u001b[90m, \u001b[39m2\u001b[90m, \u001b[39m2\u001b[90m, \u001b[39m2\u001b[90m, \u001b[39m2\u001b[90m, \u001b[39m1\u001b[90m, \u001b[39m1\u001b[90m, \u001b[39m1\u001b[90m, \u001b[39m1\u001b[90m, \u001b[39m2\u001b[90m, \u001b[39m2\u001b[90m, \u001b[39m2\u001b[90m, \u001b[39m2\u001b[90m, \u001b[39m2\u001b[90m, \u001b[39m1\u001b[90m, \u001b[39m2\u001b[90m, \u001b[39m2\u001b[90m, \u001b[39m1\u001b[90m, \u001b[39m2\u001b[90m, \u001b[39m1\u001b[90m, \u001b[39m2\u001b[90m, \u001b[39m1\u001b[90m, \u001b[39m2\u001b[90m, \u001b[39m1\u001b[90m, \u001b[39m1\u001b[90m, \u001b[39m1\u001b[90m, \u001b[39m…\n",
            "$ SDG_9                  \u001b[3m\u001b[90m<dbl>\u001b[39m\u001b[23m 2\u001b[90m, \u001b[39m1\u001b[90m, \u001b[39m1\u001b[90m, \u001b[39m2\u001b[90m, \u001b[39m2\u001b[90m, \u001b[39m2\u001b[90m, \u001b[39m2\u001b[90m, \u001b[39m2\u001b[90m, \u001b[39m1\u001b[90m, \u001b[39m1\u001b[90m, \u001b[39m3\u001b[90m, \u001b[39m2\u001b[90m, \u001b[39m2\u001b[90m, \u001b[39m3\u001b[90m, \u001b[39m2\u001b[90m, \u001b[39m2\u001b[90m, \u001b[39m2\u001b[90m, \u001b[39m2\u001b[90m, \u001b[39m1\u001b[90m, \u001b[39m2\u001b[90m, \u001b[39m1\u001b[90m, \u001b[39m2\u001b[90m, \u001b[39m2\u001b[90m, \u001b[39m2\u001b[90m, \u001b[39m1\u001b[90m, \u001b[39m1\u001b[90m, \u001b[39m1\u001b[90m, \u001b[39m1\u001b[90m, \u001b[39m2\u001b[90m, \u001b[39m…\n",
            "$ SDG_10                 \u001b[3m\u001b[90m<dbl>\u001b[39m\u001b[23m 2\u001b[90m, \u001b[39m1\u001b[90m, \u001b[39m1\u001b[90m, \u001b[39m2\u001b[90m, \u001b[39m2\u001b[90m, \u001b[39m2\u001b[90m, \u001b[39m2\u001b[90m, \u001b[39m2\u001b[90m, \u001b[39m1\u001b[90m, \u001b[39m1\u001b[90m, \u001b[39m2\u001b[90m, \u001b[39m2\u001b[90m, \u001b[39m1\u001b[90m, \u001b[39m3\u001b[90m, \u001b[39m1\u001b[90m, \u001b[39m1\u001b[90m, \u001b[39m2\u001b[90m, \u001b[39m3\u001b[90m, \u001b[39m2\u001b[90m, \u001b[39m2\u001b[90m, \u001b[39m1\u001b[90m, \u001b[39m2\u001b[90m, \u001b[39m3\u001b[90m, \u001b[39m2\u001b[90m, \u001b[39m1\u001b[90m, \u001b[39m1\u001b[90m, \u001b[39m2\u001b[90m, \u001b[39m1\u001b[90m, \u001b[39m2\u001b[90m, \u001b[39m…\n",
            "$ SDG_11                 \u001b[3m\u001b[90m<dbl>\u001b[39m\u001b[23m 2\u001b[90m, \u001b[39m1\u001b[90m, \u001b[39m1\u001b[90m, \u001b[39m2\u001b[90m, \u001b[39m2\u001b[90m, \u001b[39m2\u001b[90m, \u001b[39m2\u001b[90m, \u001b[39m2\u001b[90m, \u001b[39m1\u001b[90m, \u001b[39m1\u001b[90m, \u001b[39m2\u001b[90m, \u001b[39m3\u001b[90m, \u001b[39m2\u001b[90m, \u001b[39m3\u001b[90m, \u001b[39m3\u001b[90m, \u001b[39m1\u001b[90m, \u001b[39m4\u001b[90m, \u001b[39m2\u001b[90m, \u001b[39m2\u001b[90m, \u001b[39m2\u001b[90m, \u001b[39m1\u001b[90m, \u001b[39m1\u001b[90m, \u001b[39m3\u001b[90m, \u001b[39m2\u001b[90m, \u001b[39m2\u001b[90m, \u001b[39m1\u001b[90m, \u001b[39m2\u001b[90m, \u001b[39m3\u001b[90m, \u001b[39m1\u001b[90m, \u001b[39m…\n",
            "$ SDG_12                 \u001b[3m\u001b[90m<dbl>\u001b[39m\u001b[23m 2\u001b[90m, \u001b[39m1\u001b[90m, \u001b[39m1\u001b[90m, \u001b[39m2\u001b[90m, \u001b[39m2\u001b[90m, \u001b[39m2\u001b[90m, \u001b[39m2\u001b[90m, \u001b[39m2\u001b[90m, \u001b[39m1\u001b[90m, \u001b[39m1\u001b[90m, \u001b[39m2\u001b[90m, \u001b[39m2\u001b[90m, \u001b[39m2\u001b[90m, \u001b[39m1\u001b[90m, \u001b[39m1\u001b[90m, \u001b[39m1\u001b[90m, \u001b[39m2\u001b[90m, \u001b[39m2\u001b[90m, \u001b[39m2\u001b[90m, \u001b[39m2\u001b[90m, \u001b[39m1\u001b[90m, \u001b[39m2\u001b[90m, \u001b[39m2\u001b[90m, \u001b[39m2\u001b[90m, \u001b[39m2\u001b[90m, \u001b[39m1\u001b[90m, \u001b[39m2\u001b[90m, \u001b[39m2\u001b[90m, \u001b[39m1\u001b[90m, \u001b[39m…\n",
            "$ SDG_13                 \u001b[3m\u001b[90m<dbl>\u001b[39m\u001b[23m 2\u001b[90m, \u001b[39m2\u001b[90m, \u001b[39m1\u001b[90m, \u001b[39m2\u001b[90m, \u001b[39m2\u001b[90m, \u001b[39m2\u001b[90m, \u001b[39m2\u001b[90m, \u001b[39m1\u001b[90m, \u001b[39m1\u001b[90m, \u001b[39m1\u001b[90m, \u001b[39m2\u001b[90m, \u001b[39m2\u001b[90m, \u001b[39m1\u001b[90m, \u001b[39m1\u001b[90m, \u001b[39m1\u001b[90m, \u001b[39m1\u001b[90m, \u001b[39m2\u001b[90m, \u001b[39m4\u001b[90m, \u001b[39m2\u001b[90m, \u001b[39m2\u001b[90m, \u001b[39m1\u001b[90m, \u001b[39m2\u001b[90m, \u001b[39m1\u001b[90m, \u001b[39m2\u001b[90m, \u001b[39m2\u001b[90m, \u001b[39m1\u001b[90m, \u001b[39m2\u001b[90m, \u001b[39m2\u001b[90m, \u001b[39m2\u001b[90m, \u001b[39m…\n",
            "$ SDG_14                 \u001b[3m\u001b[90m<dbl>\u001b[39m\u001b[23m 2\u001b[90m, \u001b[39m2\u001b[90m, \u001b[39m1\u001b[90m, \u001b[39m2\u001b[90m, \u001b[39m2\u001b[90m, \u001b[39m2\u001b[90m, \u001b[39m2\u001b[90m, \u001b[39m2\u001b[90m, \u001b[39m2\u001b[90m, \u001b[39m2\u001b[90m, \u001b[39m2\u001b[90m, \u001b[39m2\u001b[90m, \u001b[39m2\u001b[90m, \u001b[39m2\u001b[90m, \u001b[39m2\u001b[90m, \u001b[39m2\u001b[90m, \u001b[39m2\u001b[90m, \u001b[39m3\u001b[90m, \u001b[39m2\u001b[90m, \u001b[39m2\u001b[90m, \u001b[39m1\u001b[90m, \u001b[39m2\u001b[90m, \u001b[39m2\u001b[90m, \u001b[39m2\u001b[90m, \u001b[39m2\u001b[90m, \u001b[39m2\u001b[90m, \u001b[39m2\u001b[90m, \u001b[39m2\u001b[90m, \u001b[39m2\u001b[90m, \u001b[39m…\n",
            "$ SDG_15                 \u001b[3m\u001b[90m<dbl>\u001b[39m\u001b[23m 2\u001b[90m, \u001b[39m2\u001b[90m, \u001b[39m1\u001b[90m, \u001b[39m2\u001b[90m, \u001b[39m2\u001b[90m, \u001b[39m2\u001b[90m, \u001b[39m2\u001b[90m, \u001b[39m1\u001b[90m, \u001b[39m1\u001b[90m, \u001b[39m1\u001b[90m, \u001b[39m2\u001b[90m, \u001b[39m2\u001b[90m, \u001b[39m1\u001b[90m, \u001b[39m1\u001b[90m, \u001b[39m2\u001b[90m, \u001b[39m1\u001b[90m, \u001b[39m2\u001b[90m, \u001b[39m3\u001b[90m, \u001b[39m1\u001b[90m, \u001b[39m2\u001b[90m, \u001b[39m1\u001b[90m, \u001b[39m2\u001b[90m, \u001b[39m1\u001b[90m, \u001b[39m1\u001b[90m, \u001b[39m1\u001b[90m, \u001b[39m1\u001b[90m, \u001b[39m2\u001b[90m, \u001b[39m3\u001b[90m, \u001b[39m1\u001b[90m, \u001b[39m…\n",
            "$ SDG_16                 \u001b[3m\u001b[90m<dbl>\u001b[39m\u001b[23m 2\u001b[90m, \u001b[39m2\u001b[90m, \u001b[39m1\u001b[90m, \u001b[39m2\u001b[90m, \u001b[39m2\u001b[90m, \u001b[39m2\u001b[90m, \u001b[39m2\u001b[90m, \u001b[39m1\u001b[90m, \u001b[39m1\u001b[90m, \u001b[39m1\u001b[90m, \u001b[39m2\u001b[90m, \u001b[39m2\u001b[90m, \u001b[39m1\u001b[90m, \u001b[39m2\u001b[90m, \u001b[39m2\u001b[90m, \u001b[39m1\u001b[90m, \u001b[39m2\u001b[90m, \u001b[39m3\u001b[90m, \u001b[39m1\u001b[90m, \u001b[39m2\u001b[90m, \u001b[39m1\u001b[90m, \u001b[39m2\u001b[90m, \u001b[39m1\u001b[90m, \u001b[39m1\u001b[90m, \u001b[39m1\u001b[90m, \u001b[39m1\u001b[90m, \u001b[39m2\u001b[90m, \u001b[39m2\u001b[90m, \u001b[39m1\u001b[90m, \u001b[39m…\n",
            "$ SDG_17                 \u001b[3m\u001b[90m<dbl>\u001b[39m\u001b[23m 2\u001b[90m, \u001b[39m2\u001b[90m, \u001b[39m1\u001b[90m, \u001b[39m2\u001b[90m, \u001b[39m2\u001b[90m, \u001b[39m2\u001b[90m, \u001b[39m2\u001b[90m, \u001b[39m1\u001b[90m, \u001b[39m1\u001b[90m, \u001b[39m1\u001b[90m, \u001b[39m2\u001b[90m, \u001b[39m1\u001b[90m, \u001b[39m1\u001b[90m, \u001b[39m2\u001b[90m, \u001b[39m1\u001b[90m, \u001b[39m1\u001b[90m, \u001b[39m2\u001b[90m, \u001b[39m2\u001b[90m, \u001b[39m2\u001b[90m, \u001b[39m2\u001b[90m, \u001b[39m1\u001b[90m, \u001b[39m2\u001b[90m, \u001b[39m1\u001b[90m, \u001b[39m1\u001b[90m, \u001b[39m1\u001b[90m, \u001b[39m1\u001b[90m, \u001b[39m1\u001b[90m, \u001b[39m2\u001b[90m, \u001b[39m2\u001b[90m, \u001b[39m…\n",
            "$ Prio_SDG_a             \u001b[3m\u001b[90m<dbl>\u001b[39m\u001b[23m 4\u001b[90m, \u001b[39m1\u001b[90m, \u001b[39m5\u001b[90m, \u001b[39m3\u001b[90m, \u001b[39m2\u001b[90m, \u001b[39m8\u001b[90m, \u001b[39m0\u001b[90m, \u001b[39m5\u001b[90m, \u001b[39m5\u001b[90m, \u001b[39m4\u001b[90m, \u001b[39m6\u001b[90m, \u001b[39m10\u001b[90m, \u001b[39m7\u001b[90m, \u001b[39m7\u001b[90m, \u001b[39m6\u001b[90m, \u001b[39m8\u001b[90m, \u001b[39m7\u001b[90m, \u001b[39m4\u001b[90m, \u001b[39m5\u001b[90m, \u001b[39m4\u001b[90m, \u001b[39m2\u001b[90m, \u001b[39m1\u001b[90m, \u001b[39m5\u001b[90m, \u001b[39m4\u001b[90m, \u001b[39m4\u001b[90m, \u001b[39m2\u001b[90m, \u001b[39m4\u001b[90m, \u001b[39m4\u001b[90m, \u001b[39m5\u001b[90m,\u001b[39m…\n",
            "$ Prio_SDG_b             \u001b[3m\u001b[90m<dbl>\u001b[39m\u001b[23m 1\u001b[90m, \u001b[39m2\u001b[90m, \u001b[39m1\u001b[90m, \u001b[39m4\u001b[90m, \u001b[39m3\u001b[90m, \u001b[39m9\u001b[90m, \u001b[39m0\u001b[90m, \u001b[39m6\u001b[90m, \u001b[39m8\u001b[90m, \u001b[39m5\u001b[90m, \u001b[39m7\u001b[90m, \u001b[39m12\u001b[90m, \u001b[39m8\u001b[90m, \u001b[39m8\u001b[90m, \u001b[39m7\u001b[90m, \u001b[39m11\u001b[90m, \u001b[39m1\u001b[90m, \u001b[39m5\u001b[90m, \u001b[39m8\u001b[90m, \u001b[39m6\u001b[90m, \u001b[39m3\u001b[90m, \u001b[39m4\u001b[90m, \u001b[39m6\u001b[90m, \u001b[39m5\u001b[90m, \u001b[39m5\u001b[90m, \u001b[39m5\u001b[90m, \u001b[39m5\u001b[90m, \u001b[39m5\u001b[90m, \u001b[39m6…\n",
            "$ Prio_SDG_c             \u001b[3m\u001b[90m<dbl>\u001b[39m\u001b[23m 3\u001b[90m, \u001b[39m7\u001b[90m, \u001b[39m3\u001b[90m, \u001b[39m2\u001b[90m, \u001b[39m4\u001b[90m, \u001b[39m1\u001b[90m, \u001b[39m0\u001b[90m, \u001b[39m7\u001b[90m, \u001b[39m9\u001b[90m, \u001b[39m6\u001b[90m, \u001b[39m8\u001b[90m, \u001b[39m8\u001b[90m, \u001b[39m9\u001b[90m, \u001b[39m9\u001b[90m, \u001b[39m8\u001b[90m, \u001b[39m10\u001b[90m, \u001b[39m8\u001b[90m, \u001b[39m12\u001b[90m, \u001b[39m9\u001b[90m, \u001b[39m2\u001b[90m, \u001b[39m4\u001b[90m, \u001b[39m3\u001b[90m, \u001b[39m7\u001b[90m, \u001b[39m7\u001b[90m, \u001b[39m6\u001b[90m, \u001b[39m7\u001b[90m, \u001b[39m6\u001b[90m, \u001b[39m6\u001b[90m, \u001b[39m7…\n",
            "$ Prio_SDG_d             \u001b[3m\u001b[90m<dbl>\u001b[39m\u001b[23m 13\u001b[90m, \u001b[39m5\u001b[90m, \u001b[39m2\u001b[90m, \u001b[39m1\u001b[90m, \u001b[39m1\u001b[90m, \u001b[39m4\u001b[90m, \u001b[39m0\u001b[90m, \u001b[39m3\u001b[90m, \u001b[39m3\u001b[90m, \u001b[39m7\u001b[90m, \u001b[39m9\u001b[90m, \u001b[39m5\u001b[90m, \u001b[39m4\u001b[90m, \u001b[39m5\u001b[90m, \u001b[39m9\u001b[90m, \u001b[39m2\u001b[90m, \u001b[39m5\u001b[90m, \u001b[39m6\u001b[90m, \u001b[39m4\u001b[90m, \u001b[39m1\u001b[90m, \u001b[39m5\u001b[90m, \u001b[39m2\u001b[90m, \u001b[39m8\u001b[90m, \u001b[39m3\u001b[90m, \u001b[39m3\u001b[90m, \u001b[39m1\u001b[90m, \u001b[39m7\u001b[90m, \u001b[39m1\u001b[90m, \u001b[39m1\u001b[90m,\u001b[39m…\n",
            "$ Prio_SDG_e             \u001b[3m\u001b[90m<dbl>\u001b[39m\u001b[23m 6\u001b[90m, \u001b[39m6\u001b[90m, \u001b[39m10\u001b[90m, \u001b[39m5\u001b[90m, \u001b[39m5\u001b[90m, \u001b[39m7\u001b[90m, \u001b[39m0\u001b[90m, \u001b[39m4\u001b[90m, \u001b[39m10\u001b[90m, \u001b[39m8\u001b[90m, \u001b[39m10\u001b[90m, \u001b[39m7\u001b[90m, \u001b[39m10\u001b[90m, \u001b[39m6\u001b[90m, \u001b[39m4\u001b[90m, \u001b[39m3\u001b[90m, \u001b[39m13\u001b[90m, \u001b[39m1\u001b[90m, \u001b[39m10\u001b[90m, \u001b[39m7\u001b[90m, \u001b[39m6\u001b[90m, \u001b[39m5\u001b[90m, \u001b[39m4\u001b[90m, \u001b[39m8\u001b[90m, \u001b[39m2\u001b[90m, \u001b[39m8\u001b[90m, \u001b[39m8\u001b[90m, \u001b[39m…\n",
            "$ Prio_SDG_f             \u001b[3m\u001b[90m<dbl>\u001b[39m\u001b[23m 5\u001b[90m, \u001b[39m8\u001b[90m, \u001b[39m4\u001b[90m, \u001b[39m6\u001b[90m, \u001b[39m6\u001b[90m, \u001b[39m2\u001b[90m, \u001b[39m0\u001b[90m, \u001b[39m8\u001b[90m, \u001b[39m12\u001b[90m, \u001b[39m9\u001b[90m, \u001b[39m11\u001b[90m, \u001b[39m13\u001b[90m, \u001b[39m11\u001b[90m, \u001b[39m10\u001b[90m, \u001b[39m10\u001b[90m, \u001b[39m13\u001b[90m, \u001b[39m9\u001b[90m, \u001b[39m8\u001b[90m, \u001b[39m7\u001b[90m, \u001b[39m10\u001b[90m, \u001b[39m8\u001b[90m, \u001b[39m6\u001b[90m, \u001b[39m9\u001b[90m, \u001b[39m9\u001b[90m, \u001b[39m7\u001b[90m, \u001b[39m6\u001b[90m, \u001b[39m9…\n",
            "$ Prio_SDG_g             \u001b[3m\u001b[90m<dbl>\u001b[39m\u001b[23m 7\u001b[90m, \u001b[39m9\u001b[90m, \u001b[39m6\u001b[90m, \u001b[39m8\u001b[90m, \u001b[39m7\u001b[90m, \u001b[39m10\u001b[90m, \u001b[39m0\u001b[90m, \u001b[39m9\u001b[90m, \u001b[39m11\u001b[90m, \u001b[39m10\u001b[90m, \u001b[39m12\u001b[90m, \u001b[39m6\u001b[90m, \u001b[39m12\u001b[90m, \u001b[39m12\u001b[90m, \u001b[39m11\u001b[90m, \u001b[39m12\u001b[90m, \u001b[39m14\u001b[90m, \u001b[39m11\u001b[90m, \u001b[39m11\u001b[90m, \u001b[39m8\u001b[90m, \u001b[39m7\u001b[90m, \u001b[39m7\u001b[90m, \u001b[39m1\u001b[90m, \u001b[39m10\u001b[90m, \u001b[39m8\u001b[90m, \u001b[39m…\n",
            "$ Prio_SDG_h             \u001b[3m\u001b[90m<dbl>\u001b[39m\u001b[23m 2\u001b[90m, \u001b[39m4\u001b[90m, \u001b[39m8\u001b[90m, \u001b[39m7\u001b[90m, \u001b[39m8\u001b[90m, \u001b[39m6\u001b[90m, \u001b[39m0\u001b[90m, \u001b[39m11\u001b[90m, \u001b[39m2\u001b[90m, \u001b[39m1\u001b[90m, \u001b[39m3\u001b[90m, \u001b[39m2\u001b[90m, \u001b[39m1\u001b[90m, \u001b[39m4\u001b[90m, \u001b[39m1\u001b[90m, \u001b[39m9\u001b[90m, \u001b[39m3\u001b[90m, \u001b[39m14\u001b[90m, \u001b[39m2\u001b[90m, \u001b[39m9\u001b[90m, \u001b[39m9\u001b[90m, \u001b[39m8\u001b[90m, \u001b[39m3\u001b[90m, \u001b[39m2\u001b[90m, \u001b[39m1\u001b[90m, \u001b[39m10\u001b[90m, \u001b[39m11\u001b[90m, \u001b[39m3\u001b[90m,\u001b[39m…\n",
            "$ Prio_SDG_i             \u001b[3m\u001b[90m<dbl>\u001b[39m\u001b[23m 9\u001b[90m, \u001b[39m10\u001b[90m, \u001b[39m13\u001b[90m, \u001b[39m9\u001b[90m, \u001b[39m9\u001b[90m, \u001b[39m5\u001b[90m, \u001b[39m0\u001b[90m, \u001b[39m10\u001b[90m, \u001b[39m4\u001b[90m, \u001b[39m3\u001b[90m, \u001b[39m1\u001b[90m, \u001b[39m1\u001b[90m, \u001b[39m5\u001b[90m, \u001b[39m2\u001b[90m, \u001b[39m3\u001b[90m, \u001b[39m7\u001b[90m, \u001b[39m6\u001b[90m, \u001b[39m17\u001b[90m, \u001b[39m12\u001b[90m, \u001b[39m12\u001b[90m, \u001b[39m10\u001b[90m, \u001b[39m9\u001b[90m, \u001b[39m2\u001b[90m, \u001b[39m11\u001b[90m, \u001b[39m9\u001b[90m, \u001b[39m11\u001b[90m, \u001b[39m…\n",
            "$ Prio_SDG_j             \u001b[3m\u001b[90m<dbl>\u001b[39m\u001b[23m 12\u001b[90m, \u001b[39m11\u001b[90m, \u001b[39m9\u001b[90m, \u001b[39m10\u001b[90m, \u001b[39m10\u001b[90m, \u001b[39m11\u001b[90m, \u001b[39m0\u001b[90m, \u001b[39m12\u001b[90m, \u001b[39m7\u001b[90m, \u001b[39m11\u001b[90m, \u001b[39m5\u001b[90m, \u001b[39m14\u001b[90m, \u001b[39m6\u001b[90m, \u001b[39m13\u001b[90m, \u001b[39m12\u001b[90m, \u001b[39m4\u001b[90m, \u001b[39m4\u001b[90m, \u001b[39m2\u001b[90m, \u001b[39m13\u001b[90m, \u001b[39m3\u001b[90m, \u001b[39m1\u001b[90m, \u001b[39m10\u001b[90m, \u001b[39m10\u001b[90m, \u001b[39m12\u001b[90m, \u001b[39m1…\n",
            "$ Prio_SDG_k             \u001b[3m\u001b[90m<dbl>\u001b[39m\u001b[23m 14\u001b[90m, \u001b[39m12\u001b[90m, \u001b[39m11\u001b[90m, \u001b[39m11\u001b[90m, \u001b[39m11\u001b[90m, \u001b[39m12\u001b[90m, \u001b[39m0\u001b[90m, \u001b[39m13\u001b[90m, \u001b[39m13\u001b[90m, \u001b[39m12\u001b[90m, \u001b[39m13\u001b[90m, \u001b[39m9\u001b[90m, \u001b[39m13\u001b[90m, \u001b[39m1\u001b[90m, \u001b[39m2\u001b[90m, \u001b[39m1\u001b[90m, \u001b[39m10\u001b[90m, \u001b[39m15\u001b[90m, \u001b[39m1\u001b[90m, \u001b[39m13\u001b[90m, \u001b[39m11\u001b[90m, \u001b[39m11\u001b[90m, \u001b[39m11\u001b[90m, \u001b[39m6…\n",
            "$ Prio_SDG_l             \u001b[3m\u001b[90m<dbl>\u001b[39m\u001b[23m 11\u001b[90m, \u001b[39m3\u001b[90m, \u001b[39m12\u001b[90m, \u001b[39m12\u001b[90m, \u001b[39m12\u001b[90m, \u001b[39m14\u001b[90m, \u001b[39m0\u001b[90m, \u001b[39m2\u001b[90m, \u001b[39m6\u001b[90m, \u001b[39m17\u001b[90m, \u001b[39m4\u001b[90m, \u001b[39m4\u001b[90m, \u001b[39m2\u001b[90m, \u001b[39m11\u001b[90m, \u001b[39m13\u001b[90m, \u001b[39m5\u001b[90m, \u001b[39m12\u001b[90m, \u001b[39m13\u001b[90m, \u001b[39m14\u001b[90m, \u001b[39m5\u001b[90m, \u001b[39m12\u001b[90m, \u001b[39m12\u001b[90m, \u001b[39m12\u001b[90m, \u001b[39m1\u001b[90m, \u001b[39m1…\n",
            "$ Prio_SDG_m             \u001b[3m\u001b[90m<dbl>\u001b[39m\u001b[23m 10\u001b[90m, \u001b[39m16\u001b[90m, \u001b[39m14\u001b[90m, \u001b[39m13\u001b[90m, \u001b[39m13\u001b[90m, \u001b[39m16\u001b[90m, \u001b[39m0\u001b[90m, \u001b[39m14\u001b[90m, \u001b[39m14\u001b[90m, \u001b[39m15\u001b[90m, \u001b[39m14\u001b[90m, \u001b[39m15\u001b[90m, \u001b[39m14\u001b[90m, \u001b[39m14\u001b[90m, \u001b[39m14\u001b[90m, \u001b[39m14\u001b[90m, \u001b[39m16\u001b[90m, \u001b[39m7\u001b[90m, \u001b[39m3\u001b[90m, \u001b[39m11\u001b[90m, \u001b[39m13\u001b[90m, \u001b[39m13\u001b[90m, \u001b[39m13…\n",
            "$ Prio_SDG_n             \u001b[3m\u001b[90m<dbl>\u001b[39m\u001b[23m 8\u001b[90m, \u001b[39m13\u001b[90m, \u001b[39m7\u001b[90m, \u001b[39m14\u001b[90m, \u001b[39m14\u001b[90m, \u001b[39m15\u001b[90m, \u001b[39m0\u001b[90m, \u001b[39m15\u001b[90m, \u001b[39m15\u001b[90m, \u001b[39m13\u001b[90m, \u001b[39m15\u001b[90m, \u001b[39m16\u001b[90m, \u001b[39m15\u001b[90m, \u001b[39m15\u001b[90m, \u001b[39m15\u001b[90m, \u001b[39m15\u001b[90m, \u001b[39m15\u001b[90m, \u001b[39m10\u001b[90m, \u001b[39m15\u001b[90m, \u001b[39m14\u001b[90m, \u001b[39m14\u001b[90m, \u001b[39m14\u001b[90m, \u001b[39m14…\n",
            "$ Prio_SDG_o             \u001b[3m\u001b[90m<dbl>\u001b[39m\u001b[23m 15\u001b[90m, \u001b[39m15\u001b[90m, \u001b[39m15\u001b[90m, \u001b[39m15\u001b[90m, \u001b[39m15\u001b[90m, \u001b[39m13\u001b[90m, \u001b[39m0\u001b[90m, \u001b[39m16\u001b[90m, \u001b[39m16\u001b[90m, \u001b[39m14\u001b[90m, \u001b[39m16\u001b[90m, \u001b[39m17\u001b[90m, \u001b[39m16\u001b[90m, \u001b[39m16\u001b[90m, \u001b[39m16\u001b[90m, \u001b[39m16\u001b[90m, \u001b[39m17\u001b[90m, \u001b[39m9\u001b[90m, \u001b[39m16\u001b[90m, \u001b[39m16\u001b[90m, \u001b[39m15\u001b[90m, \u001b[39m15\u001b[90m, \u001b[39m1…\n",
            "$ Prio_SDG_p             \u001b[3m\u001b[90m<dbl>\u001b[39m\u001b[23m 16\u001b[90m, \u001b[39m14\u001b[90m, \u001b[39m16\u001b[90m, \u001b[39m16\u001b[90m, \u001b[39m16\u001b[90m, \u001b[39m17\u001b[90m, \u001b[39m0\u001b[90m, \u001b[39m17\u001b[90m, \u001b[39m17\u001b[90m, \u001b[39m16\u001b[90m, \u001b[39m17\u001b[90m, \u001b[39m11\u001b[90m, \u001b[39m17\u001b[90m, \u001b[39m17\u001b[90m, \u001b[39m17\u001b[90m, \u001b[39m17\u001b[90m, \u001b[39m2\u001b[90m, \u001b[39m3\u001b[90m, \u001b[39m6\u001b[90m, \u001b[39m15\u001b[90m, \u001b[39m16\u001b[90m, \u001b[39m16\u001b[90m, \u001b[39m16\u001b[90m,\u001b[39m…\n",
            "$ Prio_SDG_q             \u001b[3m\u001b[90m<dbl>\u001b[39m\u001b[23m 17\u001b[90m, \u001b[39m17\u001b[90m, \u001b[39m17\u001b[90m, \u001b[39m17\u001b[90m, \u001b[39m17\u001b[90m, \u001b[39m3\u001b[90m, \u001b[39m0\u001b[90m, \u001b[39m1\u001b[90m, \u001b[39m1\u001b[90m, \u001b[39m2\u001b[90m, \u001b[39m2\u001b[90m, \u001b[39m3\u001b[90m, \u001b[39m3\u001b[90m, \u001b[39m3\u001b[90m, \u001b[39m5\u001b[90m, \u001b[39m6\u001b[90m, \u001b[39m11\u001b[90m, \u001b[39m16\u001b[90m, \u001b[39m17\u001b[90m, \u001b[39m17\u001b[90m, \u001b[39m17\u001b[90m, \u001b[39m17\u001b[90m, \u001b[39m17\u001b[90m, \u001b[39m17\u001b[90m, \u001b[39m17…\n",
            "$ Tour_Num               \u001b[3m\u001b[90m<dbl>\u001b[39m\u001b[23m 2\u001b[90m, \u001b[39m1\u001b[90m, \u001b[39m2\u001b[90m, \u001b[39m2\u001b[90m, \u001b[39m1\u001b[90m, \u001b[39m2\u001b[90m, \u001b[39m2\u001b[90m, \u001b[39m2\u001b[90m, \u001b[39m2\u001b[90m, \u001b[39m2\u001b[90m, \u001b[39m2\u001b[90m, \u001b[39m2\u001b[90m, \u001b[39m2\u001b[90m, \u001b[39m2\u001b[90m, \u001b[39m2\u001b[90m, \u001b[39m2\u001b[90m, \u001b[39m2\u001b[90m, \u001b[39m2\u001b[90m, \u001b[39m2\u001b[90m, \u001b[39m2\u001b[90m, \u001b[39m2\u001b[90m, \u001b[39m1\u001b[90m, \u001b[39m2\u001b[90m, \u001b[39m2\u001b[90m, \u001b[39m2\u001b[90m, \u001b[39m2\u001b[90m, \u001b[39m2\u001b[90m, \u001b[39m2\u001b[90m, \u001b[39m2\u001b[90m, \u001b[39m…\n",
            "$ Pref_Local             \u001b[3m\u001b[90m<dbl>\u001b[39m\u001b[23m 1\u001b[90m, \u001b[39m4\u001b[90m, \u001b[39m1\u001b[90m, \u001b[39m1\u001b[90m, \u001b[39m1\u001b[90m, \u001b[39m1\u001b[90m, \u001b[39m1\u001b[90m, \u001b[39m1\u001b[90m, \u001b[39m2\u001b[90m, \u001b[39m1\u001b[90m, \u001b[39m4\u001b[90m, \u001b[39m1\u001b[90m, \u001b[39m1\u001b[90m, \u001b[39m2\u001b[90m, \u001b[39m3\u001b[90m, \u001b[39m2\u001b[90m, \u001b[39m4\u001b[90m, \u001b[39m4\u001b[90m, \u001b[39m2\u001b[90m, \u001b[39m1\u001b[90m, \u001b[39m4\u001b[90m, \u001b[39m1\u001b[90m, \u001b[39m1\u001b[90m, \u001b[39m1\u001b[90m, \u001b[39m4\u001b[90m, \u001b[39m3\u001b[90m, \u001b[39m1\u001b[90m, \u001b[39m2\u001b[90m, \u001b[39m3\u001b[90m, \u001b[39m…\n",
            "$ Pref_Prov              \u001b[3m\u001b[90m<dbl>\u001b[39m\u001b[23m 2\u001b[90m, \u001b[39m1\u001b[90m, \u001b[39m2\u001b[90m, \u001b[39m2\u001b[90m, \u001b[39m3\u001b[90m, \u001b[39m2\u001b[90m, \u001b[39m2\u001b[90m, \u001b[39m2\u001b[90m, \u001b[39m3\u001b[90m, \u001b[39m2\u001b[90m, \u001b[39m3\u001b[90m, \u001b[39m2\u001b[90m, \u001b[39m2\u001b[90m, \u001b[39m3\u001b[90m, \u001b[39m4\u001b[90m, \u001b[39m3\u001b[90m, \u001b[39m2\u001b[90m, \u001b[39m3\u001b[90m, \u001b[39m3\u001b[90m, \u001b[39m2\u001b[90m, \u001b[39m3\u001b[90m, \u001b[39m2\u001b[90m, \u001b[39m2\u001b[90m, \u001b[39m2\u001b[90m, \u001b[39m3\u001b[90m, \u001b[39m4\u001b[90m, \u001b[39m2\u001b[90m, \u001b[39m3\u001b[90m, \u001b[39m4\u001b[90m, \u001b[39m…\n",
            "$ Pref_Natl              \u001b[3m\u001b[90m<dbl>\u001b[39m\u001b[23m 3\u001b[90m, \u001b[39m2\u001b[90m, \u001b[39m3\u001b[90m, \u001b[39m3\u001b[90m, \u001b[39m2\u001b[90m, \u001b[39m3\u001b[90m, \u001b[39m3\u001b[90m, \u001b[39m3\u001b[90m, \u001b[39m4\u001b[90m, \u001b[39m3\u001b[90m, \u001b[39m2\u001b[90m, \u001b[39m3\u001b[90m, \u001b[39m3\u001b[90m, \u001b[39m4\u001b[90m, \u001b[39m2\u001b[90m, \u001b[39m4\u001b[90m, \u001b[39m3\u001b[90m, \u001b[39m2\u001b[90m, \u001b[39m4\u001b[90m, \u001b[39m3\u001b[90m, \u001b[39m2\u001b[90m, \u001b[39m3\u001b[90m, \u001b[39m3\u001b[90m, \u001b[39m3\u001b[90m, \u001b[39m2\u001b[90m, \u001b[39m2\u001b[90m, \u001b[39m3\u001b[90m, \u001b[39m4\u001b[90m, \u001b[39m2\u001b[90m, \u001b[39m…\n",
            "$ Pref_Intl              \u001b[3m\u001b[90m<dbl>\u001b[39m\u001b[23m 4\u001b[90m, \u001b[39m3\u001b[90m, \u001b[39m4\u001b[90m, \u001b[39m4\u001b[90m, \u001b[39m4\u001b[90m, \u001b[39m4\u001b[90m, \u001b[39m4\u001b[90m, \u001b[39m4\u001b[90m, \u001b[39m1\u001b[90m, \u001b[39m4\u001b[90m, \u001b[39m1\u001b[90m, \u001b[39m4\u001b[90m, \u001b[39m4\u001b[90m, \u001b[39m1\u001b[90m, \u001b[39m1\u001b[90m, \u001b[39m1\u001b[90m, \u001b[39m1\u001b[90m, \u001b[39m1\u001b[90m, \u001b[39m1\u001b[90m, \u001b[39m4\u001b[90m, \u001b[39m1\u001b[90m, \u001b[39m4\u001b[90m, \u001b[39m4\u001b[90m, \u001b[39m4\u001b[90m, \u001b[39m1\u001b[90m, \u001b[39m1\u001b[90m, \u001b[39m4\u001b[90m, \u001b[39m1\u001b[90m, \u001b[39m1\u001b[90m, \u001b[39m…\n",
            "$ No_Pref                \u001b[3m\u001b[90m<dbl>\u001b[39m\u001b[23m 0\u001b[90m, \u001b[39m0\u001b[90m, \u001b[39m0\u001b[90m, \u001b[39m0\u001b[90m, \u001b[39m0\u001b[90m, \u001b[39m0\u001b[90m, \u001b[39m0\u001b[90m, \u001b[39m1\u001b[90m, \u001b[39m0\u001b[90m, \u001b[39m0\u001b[90m, \u001b[39m0\u001b[90m, \u001b[39m1\u001b[90m, \u001b[39m0\u001b[90m, \u001b[39m0\u001b[90m, \u001b[39m0\u001b[90m, \u001b[39m0\u001b[90m, \u001b[39m0\u001b[90m, \u001b[39m0\u001b[90m, \u001b[39m0\u001b[90m, \u001b[39m0\u001b[90m, \u001b[39m0\u001b[90m, \u001b[39m1\u001b[90m, \u001b[39m1\u001b[90m, \u001b[39m0\u001b[90m, \u001b[39m0\u001b[90m, \u001b[39m0\u001b[90m, \u001b[39m1\u001b[90m, \u001b[39m0\u001b[90m, \u001b[39m0\u001b[90m, \u001b[39m…\n",
            "$ Local_Econ             \u001b[3m\u001b[90m<dbl>\u001b[39m\u001b[23m 0\u001b[90m, \u001b[39m1\u001b[90m, \u001b[39m0\u001b[90m, \u001b[39m0\u001b[90m, \u001b[39m1\u001b[90m, \u001b[39m0\u001b[90m, \u001b[39m0\u001b[90m, \u001b[39m0\u001b[90m, \u001b[39m1\u001b[90m, \u001b[39m0\u001b[90m, \u001b[39m1\u001b[90m, \u001b[39m0\u001b[90m, \u001b[39m0\u001b[90m, \u001b[39m0\u001b[90m, \u001b[39m1\u001b[90m, \u001b[39m1\u001b[90m, \u001b[39m1\u001b[90m, \u001b[39m1\u001b[90m, \u001b[39m0\u001b[90m, \u001b[39m0\u001b[90m, \u001b[39m0\u001b[90m, \u001b[39m0\u001b[90m, \u001b[39m0\u001b[90m, \u001b[39m1\u001b[90m, \u001b[39m1\u001b[90m, \u001b[39m1\u001b[90m, \u001b[39m0\u001b[90m, \u001b[39m1\u001b[90m, \u001b[39m0\u001b[90m, \u001b[39m…\n",
            "$ Local_Cult             \u001b[3m\u001b[90m<dbl>\u001b[39m\u001b[23m 1\u001b[90m, \u001b[39m1\u001b[90m, \u001b[39m1\u001b[90m, \u001b[39m1\u001b[90m, \u001b[39m0\u001b[90m, \u001b[39m0\u001b[90m, \u001b[39m0\u001b[90m, \u001b[39m0\u001b[90m, \u001b[39m1\u001b[90m, \u001b[39m1\u001b[90m, \u001b[39m1\u001b[90m, \u001b[39m0\u001b[90m, \u001b[39m1\u001b[90m, \u001b[39m1\u001b[90m, \u001b[39m1\u001b[90m, \u001b[39m1\u001b[90m, \u001b[39m0\u001b[90m, \u001b[39m0\u001b[90m, \u001b[39m1\u001b[90m, \u001b[39m0\u001b[90m, \u001b[39m1\u001b[90m, \u001b[39m0\u001b[90m, \u001b[39m0\u001b[90m, \u001b[39m1\u001b[90m, \u001b[39m1\u001b[90m, \u001b[39m0\u001b[90m, \u001b[39m0\u001b[90m, \u001b[39m0\u001b[90m, \u001b[39m1\u001b[90m, \u001b[39m…\n",
            "$ Local_Resp             \u001b[3m\u001b[90m<dbl>\u001b[39m\u001b[23m 1\u001b[90m, \u001b[39m1\u001b[90m, \u001b[39m1\u001b[90m, \u001b[39m1\u001b[90m, \u001b[39m0\u001b[90m, \u001b[39m1\u001b[90m, \u001b[39m0\u001b[90m, \u001b[39m0\u001b[90m, \u001b[39m0\u001b[90m, \u001b[39m1\u001b[90m, \u001b[39m1\u001b[90m, \u001b[39m0\u001b[90m, \u001b[39m0\u001b[90m, \u001b[39m1\u001b[90m, \u001b[39m0\u001b[90m, \u001b[39m0\u001b[90m, \u001b[39m1\u001b[90m, \u001b[39m1\u001b[90m, \u001b[39m1\u001b[90m, \u001b[39m0\u001b[90m, \u001b[39m0\u001b[90m, \u001b[39m0\u001b[90m, \u001b[39m0\u001b[90m, \u001b[39m0\u001b[90m, \u001b[39m0\u001b[90m, \u001b[39m0\u001b[90m, \u001b[39m0\u001b[90m, \u001b[39m1\u001b[90m, \u001b[39m0\u001b[90m, \u001b[39m…\n",
            "$ Local_Green            \u001b[3m\u001b[90m<dbl>\u001b[39m\u001b[23m 1\u001b[90m, \u001b[39m0\u001b[90m, \u001b[39m1\u001b[90m, \u001b[39m1\u001b[90m, \u001b[39m0\u001b[90m, \u001b[39m0\u001b[90m, \u001b[39m0\u001b[90m, \u001b[39m0\u001b[90m, \u001b[39m0\u001b[90m, \u001b[39m0\u001b[90m, \u001b[39m1\u001b[90m, \u001b[39m0\u001b[90m, \u001b[39m0\u001b[90m, \u001b[39m1\u001b[90m, \u001b[39m0\u001b[90m, \u001b[39m0\u001b[90m, \u001b[39m1\u001b[90m, \u001b[39m0\u001b[90m, \u001b[39m1\u001b[90m, \u001b[39m0\u001b[90m, \u001b[39m0\u001b[90m, \u001b[39m0\u001b[90m, \u001b[39m0\u001b[90m, \u001b[39m0\u001b[90m, \u001b[39m0\u001b[90m, \u001b[39m0\u001b[90m, \u001b[39m0\u001b[90m, \u001b[39m0\u001b[90m, \u001b[39m0\u001b[90m, \u001b[39m…\n",
            "$ Local_Help             \u001b[3m\u001b[90m<dbl>\u001b[39m\u001b[23m 0\u001b[90m, \u001b[39m0\u001b[90m, \u001b[39m0\u001b[90m, \u001b[39m0\u001b[90m, \u001b[39m0\u001b[90m, \u001b[39m0\u001b[90m, \u001b[39m0\u001b[90m, \u001b[39m0\u001b[90m, \u001b[39m0\u001b[90m, \u001b[39m0\u001b[90m, \u001b[39m1\u001b[90m, \u001b[39m0\u001b[90m, \u001b[39m0\u001b[90m, \u001b[39m0\u001b[90m, \u001b[39m0\u001b[90m, \u001b[39m0\u001b[90m, \u001b[39m0\u001b[90m, \u001b[39m0\u001b[90m, \u001b[39m1\u001b[90m, \u001b[39m0\u001b[90m, \u001b[39m0\u001b[90m, \u001b[39m0\u001b[90m, \u001b[39m0\u001b[90m, \u001b[39m0\u001b[90m, \u001b[39m0\u001b[90m, \u001b[39m1\u001b[90m, \u001b[39m0\u001b[90m, \u001b[39m0\u001b[90m, \u001b[39m1\u001b[90m, \u001b[39m…\n",
            "$ Other                  \u001b[3m\u001b[90m<dbl>\u001b[39m\u001b[23m 0\u001b[90m, \u001b[39m0\u001b[90m, \u001b[39m0\u001b[90m, \u001b[39m0\u001b[90m, \u001b[39m0\u001b[90m, \u001b[39m0\u001b[90m, \u001b[39m0\u001b[90m, \u001b[39m0\u001b[90m, \u001b[39m0\u001b[90m, \u001b[39m0\u001b[90m, \u001b[39m0\u001b[90m, \u001b[39m0\u001b[90m, \u001b[39m0\u001b[90m, \u001b[39m0\u001b[90m, \u001b[39m0\u001b[90m, \u001b[39m0\u001b[90m, \u001b[39m0\u001b[90m, \u001b[39m0\u001b[90m, \u001b[39m0\u001b[90m, \u001b[39m0\u001b[90m, \u001b[39m0\u001b[90m, \u001b[39m0\u001b[90m, \u001b[39m0\u001b[90m, \u001b[39m0\u001b[90m, \u001b[39m0\u001b[90m, \u001b[39m0\u001b[90m, \u001b[39m0\u001b[90m, \u001b[39m0\u001b[90m, \u001b[39m0\u001b[90m, \u001b[39m…\n",
            "$ Weight                 \u001b[3m\u001b[90m<dbl>\u001b[39m\u001b[23m 1.310\u001b[90m, \u001b[39m0.531\u001b[90m, \u001b[39m1.310\u001b[90m, \u001b[39m1.310\u001b[90m, \u001b[39m0.531\u001b[90m, \u001b[39m1.005\u001b[90m, \u001b[39m0.676\u001b[90m, \u001b[39m1.005\u001b[90m, \u001b[39m1.005\u001b[90m, \u001b[39m1.005\u001b[90m, \u001b[39m1.005\u001b[90m, \u001b[39m1.005\u001b[90m, \u001b[39m1.0…\n",
            "$ Type2_Questions_Score  \u001b[3m\u001b[90m<dbl>\u001b[39m\u001b[23m 2.00\u001b[90m, \u001b[39m2.00\u001b[90m, \u001b[39m1.75\u001b[90m, \u001b[39m2.00\u001b[90m, \u001b[39m2.25\u001b[90m, \u001b[39m2.00\u001b[90m, \u001b[39m2.00\u001b[90m, \u001b[39m2.00\u001b[90m, \u001b[39m2.00\u001b[90m, \u001b[39m2.00\u001b[90m, \u001b[39m1.75\u001b[90m, \u001b[39m2.00\u001b[90m, \u001b[39m2.00\u001b[90m, \u001b[39m1.75\u001b[90m, \u001b[39m1.2…\n",
            "$ FAC1_1                 \u001b[3m\u001b[90m<dbl>\u001b[39m\u001b[23m 0.5179546744\u001b[90m, \u001b[39m-0.7622886087\u001b[90m, \u001b[39m-1.5820337212\u001b[90m, \u001b[39m0.4109062430\u001b[90m, \u001b[39m0.6300367681\u001b[90m, \u001b[39m0.6300367681\u001b[90m, \u001b[39m0…\n",
            "$ Type3_Questions_Score  \u001b[3m\u001b[90m<dbl>\u001b[39m\u001b[23m 1.941176\u001b[90m, \u001b[39m1.352941\u001b[90m, \u001b[39m1.000000\u001b[90m, \u001b[39m1.882353\u001b[90m, \u001b[39m2.000000\u001b[90m, \u001b[39m2.000000\u001b[90m, \u001b[39m1.941176\u001b[90m, \u001b[39m1.764706\u001b[90m, \u001b[39m1.47058…\n"
          ]
        }
      ]
    },
    {
      "cell_type": "code",
      "source": [
        "df %>% count(TV_Overall_Imp)"
      ],
      "metadata": {
        "colab": {
          "base_uri": "https://localhost:8080/",
          "height": 255
        },
        "id": "PzeZrszGLTDN",
        "outputId": "80653d93-d056-47a5-8937-0796e2c4a4e3"
      },
      "execution_count": 3,
      "outputs": [
        {
          "output_type": "display_data",
          "data": {
            "text/html": [
              "<table class=\"dataframe\">\n",
              "<caption>A spec_tbl_df: 5 × 2</caption>\n",
              "<thead>\n",
              "\t<tr><th scope=col>TV_Overall_Imp</th><th scope=col>n</th></tr>\n",
              "\t<tr><th scope=col>&lt;dbl&gt;</th><th scope=col>&lt;int&gt;</th></tr>\n",
              "</thead>\n",
              "<tbody>\n",
              "\t<tr><td>1</td><td>192</td></tr>\n",
              "\t<tr><td>2</td><td>364</td></tr>\n",
              "\t<tr><td>3</td><td> 13</td></tr>\n",
              "\t<tr><td>4</td><td>  1</td></tr>\n",
              "\t<tr><td>5</td><td>  1</td></tr>\n",
              "</tbody>\n",
              "</table>\n"
            ],
            "text/markdown": "\nA spec_tbl_df: 5 × 2\n\n| TV_Overall_Imp &lt;dbl&gt; | n &lt;int&gt; |\n|---|---|\n| 1 | 192 |\n| 2 | 364 |\n| 3 |  13 |\n| 4 |   1 |\n| 5 |   1 |\n\n",
            "text/latex": "A spec\\_tbl\\_df: 5 × 2\n\\begin{tabular}{ll}\n TV\\_Overall\\_Imp & n\\\\\n <dbl> & <int>\\\\\n\\hline\n\t 1 & 192\\\\\n\t 2 & 364\\\\\n\t 3 &  13\\\\\n\t 4 &   1\\\\\n\t 5 &   1\\\\\n\\end{tabular}\n",
            "text/plain": [
              "  TV_Overall_Imp n  \n",
              "1 1              192\n",
              "2 2              364\n",
              "3 3               13\n",
              "4 4                1\n",
              "5 5                1"
            ]
          },
          "metadata": {}
        }
      ]
    },
    {
      "cell_type": "code",
      "source": [
        "library(dplyr)\n",
        "\n",
        "# 1) Buat versi numerik yang dibalik (jangan menimpa variabel asli)\n",
        "#    1->5, 2->4, 3->3, 4->2, 5->1\n",
        "df <- df %>%\n",
        "  mutate(overall_impact_pos_num = 6 - TV_Overall_Imp)\n",
        "\n",
        "# 2) Cast ke faktor ordinal dengan label yang jelas\n",
        "df <- df %>%\n",
        "  mutate(overall_impact = factor(\n",
        "    overall_impact_pos_num,\n",
        "    levels = 1:5,\n",
        "    ordered = TRUE,\n",
        "    labels = c(\"Very negative\",\"Negative\",\"Neutral\",\"Positive\",\"Very positive\")\n",
        "  ))\n",
        "\n",
        "# 3) Cek distribusi (harus kebalikan dari yang tadi)\n",
        "df %>% count(overall_impact)\n"
      ],
      "metadata": {
        "colab": {
          "base_uri": "https://localhost:8080/",
          "height": 255
        },
        "id": "zPnZHCylLh5V",
        "outputId": "c1d7db72-ae06-491b-f5c1-35cb9d65490a"
      },
      "execution_count": 4,
      "outputs": [
        {
          "output_type": "display_data",
          "data": {
            "text/html": [
              "<table class=\"dataframe\">\n",
              "<caption>A tibble: 5 × 2</caption>\n",
              "<thead>\n",
              "\t<tr><th scope=col>overall_impact</th><th scope=col>n</th></tr>\n",
              "\t<tr><th scope=col>&lt;ord&gt;</th><th scope=col>&lt;int&gt;</th></tr>\n",
              "</thead>\n",
              "<tbody>\n",
              "\t<tr><td>Very negative</td><td>  1</td></tr>\n",
              "\t<tr><td>Negative     </td><td>  1</td></tr>\n",
              "\t<tr><td>Neutral      </td><td> 13</td></tr>\n",
              "\t<tr><td>Positive     </td><td>364</td></tr>\n",
              "\t<tr><td>Very positive</td><td>192</td></tr>\n",
              "</tbody>\n",
              "</table>\n"
            ],
            "text/markdown": "\nA tibble: 5 × 2\n\n| overall_impact &lt;ord&gt; | n &lt;int&gt; |\n|---|---|\n| Very negative |   1 |\n| Negative      |   1 |\n| Neutral       |  13 |\n| Positive      | 364 |\n| Very positive | 192 |\n\n",
            "text/latex": "A tibble: 5 × 2\n\\begin{tabular}{ll}\n overall\\_impact & n\\\\\n <ord> & <int>\\\\\n\\hline\n\t Very negative &   1\\\\\n\t Negative      &   1\\\\\n\t Neutral       &  13\\\\\n\t Positive      & 364\\\\\n\t Very positive & 192\\\\\n\\end{tabular}\n",
            "text/plain": [
              "  overall_impact n  \n",
              "1 Very negative    1\n",
              "2 Negative         1\n",
              "3 Neutral         13\n",
              "4 Positive       364\n",
              "5 Very positive  192"
            ]
          },
          "metadata": {}
        }
      ]
    },
    {
      "cell_type": "code",
      "source": [
        "# Lihat kode yang ada, untuk memastikan mappingnya benar\n",
        "df %>% count(Employ) %>% arrange(Employ)\n",
        "df %>% count(Job_Tourism) %>% arrange(Job_Tourism)\n",
        "\n",
        "# (opsional) cek jumlah desa/klaster\n",
        "df %>% count(Village) %>% arrange(Village)\n"
      ],
      "metadata": {
        "colab": {
          "base_uri": "https://localhost:8080/",
          "height": 731
        },
        "id": "9UIoaTZWL0HK",
        "outputId": "ecfc9ecb-7098-4ff4-8b8e-2edd4480fc02"
      },
      "execution_count": 5,
      "outputs": [
        {
          "output_type": "display_data",
          "data": {
            "text/html": [
              "<table class=\"dataframe\">\n",
              "<caption>A tibble: 3 × 2</caption>\n",
              "<thead>\n",
              "\t<tr><th scope=col>Employ</th><th scope=col>n</th></tr>\n",
              "\t<tr><th scope=col>&lt;dbl&gt;</th><th scope=col>&lt;int&gt;</th></tr>\n",
              "</thead>\n",
              "<tbody>\n",
              "\t<tr><td>1</td><td>169</td></tr>\n",
              "\t<tr><td>2</td><td>224</td></tr>\n",
              "\t<tr><td>3</td><td>178</td></tr>\n",
              "</tbody>\n",
              "</table>\n"
            ],
            "text/markdown": "\nA tibble: 3 × 2\n\n| Employ &lt;dbl&gt; | n &lt;int&gt; |\n|---|---|\n| 1 | 169 |\n| 2 | 224 |\n| 3 | 178 |\n\n",
            "text/latex": "A tibble: 3 × 2\n\\begin{tabular}{ll}\n Employ & n\\\\\n <dbl> & <int>\\\\\n\\hline\n\t 1 & 169\\\\\n\t 2 & 224\\\\\n\t 3 & 178\\\\\n\\end{tabular}\n",
            "text/plain": [
              "  Employ n  \n",
              "1 1      169\n",
              "2 2      224\n",
              "3 3      178"
            ]
          },
          "metadata": {}
        },
        {
          "output_type": "display_data",
          "data": {
            "text/html": [
              "<table class=\"dataframe\">\n",
              "<caption>A tibble: 3 × 2</caption>\n",
              "<thead>\n",
              "\t<tr><th scope=col>Job_Tourism</th><th scope=col>n</th></tr>\n",
              "\t<tr><th scope=col>&lt;dbl&gt;</th><th scope=col>&lt;int&gt;</th></tr>\n",
              "</thead>\n",
              "<tbody>\n",
              "\t<tr><td>1</td><td>128</td></tr>\n",
              "\t<tr><td>2</td><td> 71</td></tr>\n",
              "\t<tr><td>3</td><td>372</td></tr>\n",
              "</tbody>\n",
              "</table>\n"
            ],
            "text/markdown": "\nA tibble: 3 × 2\n\n| Job_Tourism &lt;dbl&gt; | n &lt;int&gt; |\n|---|---|\n| 1 | 128 |\n| 2 |  71 |\n| 3 | 372 |\n\n",
            "text/latex": "A tibble: 3 × 2\n\\begin{tabular}{ll}\n Job\\_Tourism & n\\\\\n <dbl> & <int>\\\\\n\\hline\n\t 1 & 128\\\\\n\t 2 &  71\\\\\n\t 3 & 372\\\\\n\\end{tabular}\n",
            "text/plain": [
              "  Job_Tourism n  \n",
              "1 1           128\n",
              "2 2            71\n",
              "3 3           372"
            ]
          },
          "metadata": {}
        },
        {
          "output_type": "display_data",
          "data": {
            "text/html": [
              "<table class=\"dataframe\">\n",
              "<caption>A tibble: 9 × 2</caption>\n",
              "<thead>\n",
              "\t<tr><th scope=col>Village</th><th scope=col>n</th></tr>\n",
              "\t<tr><th scope=col>&lt;dbl&gt;</th><th scope=col>&lt;int&gt;</th></tr>\n",
              "</thead>\n",
              "<tbody>\n",
              "\t<tr><td>1</td><td>42</td></tr>\n",
              "\t<tr><td>2</td><td>71</td></tr>\n",
              "\t<tr><td>3</td><td>36</td></tr>\n",
              "\t<tr><td>4</td><td>36</td></tr>\n",
              "\t<tr><td>5</td><td>95</td></tr>\n",
              "\t<tr><td>6</td><td>80</td></tr>\n",
              "\t<tr><td>7</td><td>38</td></tr>\n",
              "\t<tr><td>8</td><td>98</td></tr>\n",
              "\t<tr><td>9</td><td>75</td></tr>\n",
              "</tbody>\n",
              "</table>\n"
            ],
            "text/markdown": "\nA tibble: 9 × 2\n\n| Village &lt;dbl&gt; | n &lt;int&gt; |\n|---|---|\n| 1 | 42 |\n| 2 | 71 |\n| 3 | 36 |\n| 4 | 36 |\n| 5 | 95 |\n| 6 | 80 |\n| 7 | 38 |\n| 8 | 98 |\n| 9 | 75 |\n\n",
            "text/latex": "A tibble: 9 × 2\n\\begin{tabular}{ll}\n Village & n\\\\\n <dbl> & <int>\\\\\n\\hline\n\t 1 & 42\\\\\n\t 2 & 71\\\\\n\t 3 & 36\\\\\n\t 4 & 36\\\\\n\t 5 & 95\\\\\n\t 6 & 80\\\\\n\t 7 & 38\\\\\n\t 8 & 98\\\\\n\t 9 & 75\\\\\n\\end{tabular}\n",
            "text/plain": [
              "  Village n \n",
              "1 1       42\n",
              "2 2       71\n",
              "3 3       36\n",
              "4 4       36\n",
              "5 5       95\n",
              "6 6       80\n",
              "7 7       38\n",
              "8 8       98\n",
              "9 9       75"
            ]
          },
          "metadata": {}
        }
      ]
    },
    {
      "cell_type": "code",
      "source": [
        "library(dplyr)\n",
        "library(MASS)\n",
        "\n",
        "# 1) subset variabel dengan dplyr::select (bukan MASS::select)\n",
        "dat_min <- df2 %>%\n",
        "  dplyr::select(overall_impact, emp_status, jobrel) %>%\n",
        "  tidyr::drop_na()\n",
        "\n",
        "nrow(dat_min)\n",
        "\n",
        "# 2) fit OLR minimal\n",
        "m_min <- MASS::polr(overall_impact ~ emp_status + jobrel,\n",
        "                    data = dat_min, Hess = TRUE, method = \"logistic\")\n",
        "\n",
        "# 3) OR, CI 95%, p-value (Wald)\n",
        "ct <- coef(summary(m_min))                # Value, Std. Error, t value\n",
        "pvals <- 2 * pnorm(abs(ct[, \"t value\"]), lower.tail = FALSE)\n",
        "\n",
        "res_all <- data.frame(\n",
        "  Term  = rownames(ct),\n",
        "  OR    = exp(ct[, \"Value\"]),\n",
        "  L95   = exp(ct[, \"Value\"] - 1.96 * ct[, \"Std. Error\"]),\n",
        "  U95   = exp(ct[, \"Value\"] + 1.96 * ct[, \"Std. Error\"]),\n",
        "  p     = pvals,\n",
        "  row.names = NULL\n",
        ")\n",
        "\n",
        "res_effects <- res_all %>%\n",
        "  dplyr::filter(grepl(\"^(emp_status|jobrel)\", Term)) %>%\n",
        "  dplyr::mutate(\n",
        "    Comparison = dplyr::case_when(\n",
        "      Term == \"emp_statusPart-time\"        ~ \"Part-time vs Full-time\",\n",
        "      Term == \"emp_statusNot working\"      ~ \"Not working vs Full-time\",\n",
        "      Term == \"jobrelIndirectly related\"   ~ \"Indirectly vs Unrelated\",\n",
        "      Term == \"jobrelDirectly related\"     ~ \"Directly vs Unrelated\",\n",
        "      TRUE ~ Term\n",
        "    )\n",
        "  ) %>%\n",
        "  dplyr::select(Comparison, OR, L95, U95, p)\n",
        "\n",
        "print(res_effects, digits = 4)\n"
      ],
      "metadata": {
        "colab": {
          "base_uri": "https://localhost:8080/",
          "height": 156
        },
        "id": "0GeHTF_zNJzb",
        "outputId": "e187a0fc-6bdb-4442-8760-1d2316ae2d7f"
      },
      "execution_count": 8,
      "outputs": [
        {
          "output_type": "display_data",
          "data": {
            "text/html": [
              "571"
            ],
            "text/markdown": "571",
            "text/latex": "571",
            "text/plain": [
              "[1] 571"
            ]
          },
          "metadata": {}
        },
        {
          "output_type": "stream",
          "name": "stderr",
          "text": [
            "Warning message:\n",
            "“glm.fit: fitted probabilities numerically 0 or 1 occurred”\n"
          ]
        },
        {
          "output_type": "stream",
          "name": "stdout",
          "text": [
            "                Comparison     OR    L95   U95         p\n",
            "1   Part-time vs Full-time 0.6671 0.4403 1.011 5.617e-02\n",
            "2 Not working vs Full-time 0.6793 0.4304 1.072 9.673e-02\n",
            "3  Indirectly vs Unrelated 2.4840 1.4537 4.244 8.729e-04\n",
            "4    Directly vs Unrelated 2.6760 1.7446 4.105 6.493e-06\n"
          ]
        }
      ]
    },
    {
      "cell_type": "code",
      "source": [
        "# Pastikan dat_min menyertakan kolom Weight\n",
        "dat_min_w <- df2 %>%\n",
        "  dplyr::select(overall_impact, emp_status, jobrel, Weight) %>%\n",
        "  tidyr::drop_na()\n",
        "\n",
        "# Fit OLR (weighted) – MASS::polr menerima case weights\n",
        "m_min_w <- MASS::polr(overall_impact ~ emp_status + jobrel,\n",
        "                      data = dat_min_w, weights = Weight,\n",
        "                      Hess = TRUE, method = \"logistic\")\n",
        "\n",
        "# Ekstrak OR, CI 95% (Wald), dan p-value\n",
        "ct_w   <- coef(summary(m_min_w))\n",
        "p_w    <- 2 * pnorm(abs(ct_w[, \"t value\"]), lower.tail = FALSE)\n",
        "\n",
        "res_all_w <- data.frame(\n",
        "  Term = rownames(ct_w),\n",
        "  OR   = exp(ct_w[, \"Value\"]),\n",
        "  L95  = exp(ct_w[, \"Value\"] - 1.96 * ct_w[, \"Std. Error\"]),\n",
        "  U95  = exp(ct_w[, \"Value\"] + 1.96 * ct_w[, \"Std. Error\"]),\n",
        "  p    = p_w,\n",
        "  row.names = NULL\n",
        ")\n",
        "\n",
        "res_effects_w <- res_all_w %>%\n",
        "  dplyr::filter(grepl(\"^(emp_status|jobrel)\", Term)) %>%\n",
        "  dplyr::mutate(\n",
        "    Comparison = dplyr::case_when(\n",
        "      Term == \"emp_statusPart-time\"        ~ \"Part-time vs Full-time\",\n",
        "      Term == \"emp_statusNot working\"      ~ \"Not working vs Full-time\",\n",
        "      Term == \"jobrelIndirectly related\"   ~ \"Indirectly vs Unrelated\",\n",
        "      Term == \"jobrelDirectly related\"     ~ \"Directly vs Unrelated\",\n",
        "      TRUE ~ Term\n",
        "    )\n",
        "  ) %>%\n",
        "  dplyr::select(Comparison, OR, L95, U95, p)\n",
        "\n",
        "print(res_effects_w, digits = 4)\n"
      ],
      "metadata": {
        "colab": {
          "base_uri": "https://localhost:8080/"
        },
        "id": "6zBxoJinOJfr",
        "outputId": "025cecca-e938-40c1-a84f-7fc030cdbbb1"
      },
      "execution_count": 9,
      "outputs": [
        {
          "output_type": "stream",
          "name": "stderr",
          "text": [
            "Warning message in eval(family$initialize):\n",
            "“non-integer #successes in a binomial glm!”\n",
            "Warning message:\n",
            "“glm.fit: fitted probabilities numerically 0 or 1 occurred”\n"
          ]
        },
        {
          "output_type": "stream",
          "name": "stdout",
          "text": [
            "                Comparison     OR    L95    U95         p\n",
            "1   Part-time vs Full-time 0.5517 0.3696 0.8234 3.602e-03\n",
            "2 Not working vs Full-time 0.6200 0.3863 0.9951 4.767e-02\n",
            "3  Indirectly vs Unrelated 3.4528 2.0735 5.7496 1.909e-06\n",
            "4    Directly vs Unrelated 2.6748 1.7768 4.0266 2.427e-06\n"
          ]
        }
      ]
    },
    {
      "cell_type": "code",
      "source": [
        "library(brant)\n",
        "# model tanpa weight tapi dengan spesifikasi identik\n",
        "m_min_unw <- MASS::polr(overall_impact ~ emp_status + jobrel,\n",
        "                        data = dat_min, Hess = TRUE, method = \"logistic\")\n",
        "\n",
        "# Brant (test of parallel lines / proportional odds)\n",
        "br <- brant(m_min_unw)\n",
        "br\n"
      ],
      "metadata": {
        "colab": {
          "base_uri": "https://localhost:8080/",
          "height": 553
        },
        "id": "dC3yyfkHObHf",
        "outputId": "406eb7fa-a659-4749-80bf-24be06b02360"
      },
      "execution_count": 10,
      "outputs": [
        {
          "output_type": "stream",
          "name": "stderr",
          "text": [
            "Warning message:\n",
            "“glm.fit: fitted probabilities numerically 0 or 1 occurred”\n",
            "Warning message:\n",
            "“glm.fit: fitted probabilities numerically 0 or 1 occurred”\n",
            "Warning message:\n",
            "“glm.fit: fitted probabilities numerically 0 or 1 occurred”\n"
          ]
        },
        {
          "output_type": "stream",
          "name": "stdout",
          "text": [
            "------------------------------------------------------------ \n",
            "Test for\t\t\tX2\tdf\tprobability \n",
            "------------------------------------------------------------ \n",
            "Omnibus\t\t\t\t12.01\t12\t0.45\n",
            "emp_statusPart-time\t\t0.25\t3\t0.97\n",
            "emp_statusNot working\t\t1.93\t3\t0.59\n",
            "jobrelIndirectly related\t9.05\t3\t0.03\n",
            "jobrelDirectly related\t3.7\t3\t0.3\n",
            "------------------------------------------------------------ \n",
            "\n",
            "H0: Parallel Regression Assumption holds\n"
          ]
        },
        {
          "output_type": "stream",
          "name": "stderr",
          "text": [
            "Warning message in brant(m_min_unw):\n",
            "“19 combinations in table(dv,ivs) do not occur. Because of that, the test results might be invalid.”\n"
          ]
        },
        {
          "output_type": "display_data",
          "data": {
            "text/html": [
              "<table class=\"dataframe\">\n",
              "<caption>A matrix: 5 × 3 of type dbl</caption>\n",
              "<thead>\n",
              "\t<tr><th></th><th scope=col>X2</th><th scope=col>df</th><th scope=col>probability</th></tr>\n",
              "</thead>\n",
              "<tbody>\n",
              "\t<tr><th scope=row>Omnibus</th><td>12.007439</td><td>12</td><td>0.44508235</td></tr>\n",
              "\t<tr><th scope=row>emp_statusPart-time</th><td> 0.252128</td><td> 3</td><td>0.96876522</td></tr>\n",
              "\t<tr><th scope=row>emp_statusNot working</th><td> 1.933682</td><td> 3</td><td>0.58628471</td></tr>\n",
              "\t<tr><th scope=row>jobrelIndirectly related</th><td> 9.053037</td><td> 3</td><td>0.02859398</td></tr>\n",
              "\t<tr><th scope=row>jobrelDirectly related</th><td> 3.704614</td><td> 3</td><td>0.29517778</td></tr>\n",
              "</tbody>\n",
              "</table>\n"
            ],
            "text/markdown": "\nA matrix: 5 × 3 of type dbl\n\n| <!--/--> | X2 | df | probability |\n|---|---|---|---|\n| Omnibus | 12.007439 | 12 | 0.44508235 |\n| emp_statusPart-time |  0.252128 |  3 | 0.96876522 |\n| emp_statusNot working |  1.933682 |  3 | 0.58628471 |\n| jobrelIndirectly related |  9.053037 |  3 | 0.02859398 |\n| jobrelDirectly related |  3.704614 |  3 | 0.29517778 |\n\n",
            "text/latex": "A matrix: 5 × 3 of type dbl\n\\begin{tabular}{r|lll}\n  & X2 & df & probability\\\\\n\\hline\n\tOmnibus & 12.007439 & 12 & 0.44508235\\\\\n\temp\\_statusPart-time &  0.252128 &  3 & 0.96876522\\\\\n\temp\\_statusNot working &  1.933682 &  3 & 0.58628471\\\\\n\tjobrelIndirectly related &  9.053037 &  3 & 0.02859398\\\\\n\tjobrelDirectly related &  3.704614 &  3 & 0.29517778\\\\\n\\end{tabular}\n",
            "text/plain": [
              "                         X2        df probability\n",
              "Omnibus                  12.007439 12 0.44508235 \n",
              "emp_statusPart-time       0.252128  3 0.96876522 \n",
              "emp_statusNot working     1.933682  3 0.58628471 \n",
              "jobrelIndirectly related  9.053037  3 0.02859398 \n",
              "jobrelDirectly related    3.704614  3 0.29517778 "
            ]
          },
          "metadata": {}
        }
      ]
    },
    {
      "cell_type": "code",
      "source": [
        "library(dplyr)\n",
        "library(MASS)\n",
        "\n",
        "# 1) Buat faktor tv_class sesuai mapping yang Anda berikan\n",
        "df3 <- df2 %>%\n",
        "  mutate(\n",
        "    tv_class_chr = case_when(\n",
        "      TVClassification == 4 ~ \"Advanced\",        # code 4 = Advance\n",
        "      TVClassification == 3 ~ \"Developing\",\n",
        "      TVClassification == 2 ~ \"Piloting\",\n",
        "      TVClassification == 1 ~ \"Not classified\",\n",
        "      TRUE ~ NA_character_\n",
        "    ),\n",
        "    tv_class = factor(tv_class_chr,\n",
        "                      levels = c(\"Advanced\",\"Piloting\",\"Developing\",\"Not classified\")) # referensi = Advanced\n",
        "  )\n",
        "\n",
        "# Cek distribusi level\n",
        "df3 %>% count(tv_class)\n",
        "\n",
        "# 2) Dataset untuk model (pakai weights)\n",
        "dat_m2 <- df3 %>%\n",
        "  dplyr::select(overall_impact, emp_status, jobrel, tv_class, Weight) %>%\n",
        "  tidyr::drop_na()\n",
        "\n",
        "nrow(dat_m2)\n",
        "\n",
        "# 3) Fit OLR berbobot\n",
        "m2_w <- MASS::polr(overall_impact ~ emp_status + jobrel + tv_class,\n",
        "                   data = dat_m2, weights = Weight,\n",
        "                   Hess = TRUE, method = \"logistic\")\n",
        "\n",
        "# 4) Ekstrak OR, CI 95%, p-value (Wald)\n",
        "ct2 <- coef(summary(m2_w))\n",
        "p2  <- 2 * pnorm(abs(ct2[, \"t value\"]), lower.tail = FALSE)\n",
        "\n",
        "res_all2 <- data.frame(\n",
        "  Term = rownames(ct2),\n",
        "  OR   = exp(ct2[, \"Value\"]),\n",
        "  L95  = exp(ct2[, \"Value\"] - 1.96 * ct2[, \"Std. Error\"]),\n",
        "  U95  = exp(ct2[, \"Value\"] + 1.96 * ct2[, \"Std. Error\"]),\n",
        "  p    = p2,\n",
        "  row.names = NULL\n",
        ")\n",
        "\n",
        "res_effects2 <- res_all2 %>%\n",
        "  dplyr::filter(grepl(\"^(emp_status|jobrel|tv_class)\", Term)) %>%\n",
        "  dplyr::mutate(\n",
        "    Comparison = dplyr::case_when(\n",
        "      Term == \"emp_statusPart-time\"          ~ \"Part-time vs Full-time\",\n",
        "      Term == \"emp_statusNot working\"        ~ \"Not working vs Full-time\",\n",
        "      Term == \"jobrelIndirectly related\"     ~ \"Indirectly vs Unrelated\",\n",
        "      Term == \"jobrelDirectly related\"       ~ \"Directly vs Unrelated\",\n",
        "      Term == \"tv_classPiloting\"             ~ \"Piloting vs Advanced\",\n",
        "      Term == \"tv_classDeveloping\"           ~ \"Developing vs Advanced\",\n",
        "      Term == \"tv_classNot classified\"       ~ \"Not classified vs Advanced\",\n",
        "      TRUE ~ Term\n",
        "    )\n",
        "  ) %>%\n",
        "  dplyr::select(Comparison, OR, L95, U95, p)\n",
        "\n",
        "print(res_effects2, digits = 4)\n"
      ],
      "metadata": {
        "colab": {
          "base_uri": "https://localhost:8080/",
          "height": 449
        },
        "id": "_4rRZwkZPViw",
        "outputId": "d2734917-0aff-4edd-a368-e8d3973335f1"
      },
      "execution_count": 11,
      "outputs": [
        {
          "output_type": "display_data",
          "data": {
            "text/html": [
              "<table class=\"dataframe\">\n",
              "<caption>A tibble: 4 × 2</caption>\n",
              "<thead>\n",
              "\t<tr><th scope=col>tv_class</th><th scope=col>n</th></tr>\n",
              "\t<tr><th scope=col>&lt;fct&gt;</th><th scope=col>&lt;int&gt;</th></tr>\n",
              "</thead>\n",
              "<tbody>\n",
              "\t<tr><td>Advanced      </td><td>113</td></tr>\n",
              "\t<tr><td>Piloting      </td><td>267</td></tr>\n",
              "\t<tr><td>Developing    </td><td> 80</td></tr>\n",
              "\t<tr><td>Not classified</td><td>111</td></tr>\n",
              "</tbody>\n",
              "</table>\n"
            ],
            "text/markdown": "\nA tibble: 4 × 2\n\n| tv_class &lt;fct&gt; | n &lt;int&gt; |\n|---|---|\n| Advanced       | 113 |\n| Piloting       | 267 |\n| Developing     |  80 |\n| Not classified | 111 |\n\n",
            "text/latex": "A tibble: 4 × 2\n\\begin{tabular}{ll}\n tv\\_class & n\\\\\n <fct> & <int>\\\\\n\\hline\n\t Advanced       & 113\\\\\n\t Piloting       & 267\\\\\n\t Developing     &  80\\\\\n\t Not classified & 111\\\\\n\\end{tabular}\n",
            "text/plain": [
              "  tv_class       n  \n",
              "1 Advanced       113\n",
              "2 Piloting       267\n",
              "3 Developing      80\n",
              "4 Not classified 111"
            ]
          },
          "metadata": {}
        },
        {
          "output_type": "display_data",
          "data": {
            "text/html": [
              "571"
            ],
            "text/markdown": "571",
            "text/latex": "571",
            "text/plain": [
              "[1] 571"
            ]
          },
          "metadata": {}
        },
        {
          "output_type": "stream",
          "name": "stderr",
          "text": [
            "Warning message in eval(family$initialize):\n",
            "“non-integer #successes in a binomial glm!”\n",
            "Warning message:\n",
            "“glm.fit: fitted probabilities numerically 0 or 1 occurred”\n"
          ]
        },
        {
          "output_type": "stream",
          "name": "stdout",
          "text": [
            "                  Comparison     OR    L95    U95         p\n",
            "1     Part-time vs Full-time 0.5335 0.3555 0.8006 2.413e-03\n",
            "2   Not working vs Full-time 0.5348 0.3285 0.8707 1.185e-02\n",
            "3    Indirectly vs Unrelated 3.4503 2.0437 5.8250 3.568e-06\n",
            "4      Directly vs Unrelated 2.4962 1.6439 3.7904 1.766e-05\n",
            "5       Piloting vs Advanced 0.5718 0.3391 0.9640 3.594e-02\n",
            "6     Developing vs Advanced 0.3620 0.1814 0.7223 3.942e-03\n",
            "7 Not classified vs Advanced 0.8659 0.4601 1.6296 6.554e-01\n"
          ]
        }
      ]
    },
    {
      "cell_type": "code",
      "source": [
        "library(MASS)\n",
        "library(brant)\n",
        "\n",
        "# dataset tanpa missing utk 3 prediktor\n",
        "dat_m2_unw <- df3 %>%\n",
        "  dplyr::select(overall_impact, emp_status, jobrel, tv_class) %>%\n",
        "  tidyr::drop_na()\n",
        "\n",
        "m2_unw <- MASS::polr(overall_impact ~ emp_status + jobrel + tv_class,\n",
        "                     data = dat_m2_unw, Hess = TRUE, method = \"logistic\")\n",
        "\n",
        "br2 <- brant(m2_unw)\n",
        "br2\n"
      ],
      "metadata": {
        "colab": {
          "base_uri": "https://localhost:8080/",
          "height": 700
        },
        "id": "xWombYhhPl9H",
        "outputId": "b2a72082-32bf-4825-a39c-c660d996e8e0"
      },
      "execution_count": 12,
      "outputs": [
        {
          "output_type": "stream",
          "name": "stderr",
          "text": [
            "Warning message:\n",
            "“glm.fit: fitted probabilities numerically 0 or 1 occurred”\n",
            "Warning message:\n",
            "“glm.fit: fitted probabilities numerically 0 or 1 occurred”\n",
            "Warning message:\n",
            "“glm.fit: fitted probabilities numerically 0 or 1 occurred”\n"
          ]
        },
        {
          "output_type": "stream",
          "name": "stdout",
          "text": [
            "------------------------------------------------------------ \n",
            "Test for\t\t\tX2\tdf\tprobability \n",
            "------------------------------------------------------------ \n",
            "Omnibus\t\t\t\t18.4\t21\t0.62\n",
            "emp_statusPart-time\t\t0.21\t3\t0.98\n",
            "emp_statusNot working\t\t2.02\t3\t0.57\n",
            "jobrelIndirectly related\t8.43\t3\t0.04\n",
            "jobrelDirectly related\t3.15\t3\t0.37\n",
            "tv_classPiloting\t\t0.03\t3\t1\n",
            "tv_classDeveloping\t\t0.68\t3\t0.88\n",
            "tv_classNot classified\t1.43\t3\t0.7\n",
            "------------------------------------------------------------ \n",
            "\n",
            "H0: Parallel Regression Assumption holds\n"
          ]
        },
        {
          "output_type": "stream",
          "name": "stderr",
          "text": [
            "Warning message in brant(m2_unw):\n",
            "“108 combinations in table(dv,ivs) do not occur. Because of that, the test results might be invalid.”\n"
          ]
        },
        {
          "output_type": "display_data",
          "data": {
            "text/html": [
              "<table class=\"dataframe\">\n",
              "<caption>A matrix: 8 × 3 of type dbl</caption>\n",
              "<thead>\n",
              "\t<tr><th></th><th scope=col>X2</th><th scope=col>df</th><th scope=col>probability</th></tr>\n",
              "</thead>\n",
              "<tbody>\n",
              "\t<tr><th scope=row>Omnibus</th><td>18.39744515</td><td>21</td><td>0.62373271</td></tr>\n",
              "\t<tr><th scope=row>emp_statusPart-time</th><td> 0.21381705</td><td> 3</td><td>0.97532852</td></tr>\n",
              "\t<tr><th scope=row>emp_statusNot working</th><td> 2.01639200</td><td> 3</td><td>0.56901146</td></tr>\n",
              "\t<tr><th scope=row>jobrelIndirectly related</th><td> 8.42967049</td><td> 3</td><td>0.03791822</td></tr>\n",
              "\t<tr><th scope=row>jobrelDirectly related</th><td> 3.15035211</td><td> 3</td><td>0.36901971</td></tr>\n",
              "\t<tr><th scope=row>tv_classPiloting</th><td> 0.02716707</td><td> 3</td><td>0.99881874</td></tr>\n",
              "\t<tr><th scope=row>tv_classDeveloping</th><td> 0.68420402</td><td> 3</td><td>0.87691288</td></tr>\n",
              "\t<tr><th scope=row>tv_classNot classified</th><td> 1.42575843</td><td> 3</td><td>0.69950808</td></tr>\n",
              "</tbody>\n",
              "</table>\n"
            ],
            "text/markdown": "\nA matrix: 8 × 3 of type dbl\n\n| <!--/--> | X2 | df | probability |\n|---|---|---|---|\n| Omnibus | 18.39744515 | 21 | 0.62373271 |\n| emp_statusPart-time |  0.21381705 |  3 | 0.97532852 |\n| emp_statusNot working |  2.01639200 |  3 | 0.56901146 |\n| jobrelIndirectly related |  8.42967049 |  3 | 0.03791822 |\n| jobrelDirectly related |  3.15035211 |  3 | 0.36901971 |\n| tv_classPiloting |  0.02716707 |  3 | 0.99881874 |\n| tv_classDeveloping |  0.68420402 |  3 | 0.87691288 |\n| tv_classNot classified |  1.42575843 |  3 | 0.69950808 |\n\n",
            "text/latex": "A matrix: 8 × 3 of type dbl\n\\begin{tabular}{r|lll}\n  & X2 & df & probability\\\\\n\\hline\n\tOmnibus & 18.39744515 & 21 & 0.62373271\\\\\n\temp\\_statusPart-time &  0.21381705 &  3 & 0.97532852\\\\\n\temp\\_statusNot working &  2.01639200 &  3 & 0.56901146\\\\\n\tjobrelIndirectly related &  8.42967049 &  3 & 0.03791822\\\\\n\tjobrelDirectly related &  3.15035211 &  3 & 0.36901971\\\\\n\ttv\\_classPiloting &  0.02716707 &  3 & 0.99881874\\\\\n\ttv\\_classDeveloping &  0.68420402 &  3 & 0.87691288\\\\\n\ttv\\_classNot classified &  1.42575843 &  3 & 0.69950808\\\\\n\\end{tabular}\n",
            "text/plain": [
              "                         X2          df probability\n",
              "Omnibus                  18.39744515 21 0.62373271 \n",
              "emp_statusPart-time       0.21381705  3 0.97532852 \n",
              "emp_statusNot working     2.01639200  3 0.56901146 \n",
              "jobrelIndirectly related  8.42967049  3 0.03791822 \n",
              "jobrelDirectly related    3.15035211  3 0.36901971 \n",
              "tv_classPiloting          0.02716707  3 0.99881874 \n",
              "tv_classDeveloping        0.68420402  3 0.87691288 \n",
              "tv_classNot classified    1.42575843  3 0.69950808 "
            ]
          },
          "metadata": {}
        }
      ]
    },
    {
      "cell_type": "code",
      "source": [
        "# Cek rentang umur dan distribusinya\n",
        "df %>% summarise(N = n(), min_age = min(Age_Raw, na.rm=TRUE),\n",
        "                 p25 = quantile(Age_Raw, .25, na.rm=TRUE),\n",
        "                 median = median(Age_Raw, na.rm=TRUE),\n",
        "                 p75 = quantile(Age_Raw, .75, na.rm=TRUE),\n",
        "                 max_age = max(Age_Raw, na.rm=TRUE))\n",
        "\n",
        "# Lihat kode pendidikan\n",
        "df %>% count(EduLevel_Recoded) %>% arrange(EduLevel_Recoded)\n"
      ],
      "metadata": {
        "colab": {
          "base_uri": "https://localhost:8080/",
          "height": 367
        },
        "id": "9PScby1BQcTy",
        "outputId": "e771b191-ea6a-4ba3-9046-e7af115d8e78"
      },
      "execution_count": 13,
      "outputs": [
        {
          "output_type": "display_data",
          "data": {
            "text/html": [
              "<table class=\"dataframe\">\n",
              "<caption>A tibble: 1 × 6</caption>\n",
              "<thead>\n",
              "\t<tr><th scope=col>N</th><th scope=col>min_age</th><th scope=col>p25</th><th scope=col>median</th><th scope=col>p75</th><th scope=col>max_age</th></tr>\n",
              "\t<tr><th scope=col>&lt;int&gt;</th><th scope=col>&lt;dbl&gt;</th><th scope=col>&lt;dbl&gt;</th><th scope=col>&lt;dbl&gt;</th><th scope=col>&lt;dbl&gt;</th><th scope=col>&lt;dbl&gt;</th></tr>\n",
              "</thead>\n",
              "<tbody>\n",
              "\t<tr><td>571</td><td>16</td><td>23</td><td>32</td><td>42</td><td>60</td></tr>\n",
              "</tbody>\n",
              "</table>\n"
            ],
            "text/markdown": "\nA tibble: 1 × 6\n\n| N &lt;int&gt; | min_age &lt;dbl&gt; | p25 &lt;dbl&gt; | median &lt;dbl&gt; | p75 &lt;dbl&gt; | max_age &lt;dbl&gt; |\n|---|---|---|---|---|---|\n| 571 | 16 | 23 | 32 | 42 | 60 |\n\n",
            "text/latex": "A tibble: 1 × 6\n\\begin{tabular}{llllll}\n N & min\\_age & p25 & median & p75 & max\\_age\\\\\n <int> & <dbl> & <dbl> & <dbl> & <dbl> & <dbl>\\\\\n\\hline\n\t 571 & 16 & 23 & 32 & 42 & 60\\\\\n\\end{tabular}\n",
            "text/plain": [
              "    N   min_age p25 median p75 max_age\n",
              "25% 571 16      23  32     42  60     "
            ]
          },
          "metadata": {}
        },
        {
          "output_type": "display_data",
          "data": {
            "text/html": [
              "<table class=\"dataframe\">\n",
              "<caption>A tibble: 5 × 2</caption>\n",
              "<thead>\n",
              "\t<tr><th scope=col>EduLevel_Recoded</th><th scope=col>n</th></tr>\n",
              "\t<tr><th scope=col>&lt;dbl&gt;</th><th scope=col>&lt;int&gt;</th></tr>\n",
              "</thead>\n",
              "<tbody>\n",
              "\t<tr><td> 1</td><td> 45</td></tr>\n",
              "\t<tr><td> 2</td><td>109</td></tr>\n",
              "\t<tr><td> 3</td><td>277</td></tr>\n",
              "\t<tr><td> 4</td><td>139</td></tr>\n",
              "\t<tr><td>NA</td><td>  1</td></tr>\n",
              "</tbody>\n",
              "</table>\n"
            ],
            "text/markdown": "\nA tibble: 5 × 2\n\n| EduLevel_Recoded &lt;dbl&gt; | n &lt;int&gt; |\n|---|---|\n|  1 |  45 |\n|  2 | 109 |\n|  3 | 277 |\n|  4 | 139 |\n| NA |   1 |\n\n",
            "text/latex": "A tibble: 5 × 2\n\\begin{tabular}{ll}\n EduLevel\\_Recoded & n\\\\\n <dbl> & <int>\\\\\n\\hline\n\t  1 &  45\\\\\n\t  2 & 109\\\\\n\t  3 & 277\\\\\n\t  4 & 139\\\\\n\t NA &   1\\\\\n\\end{tabular}\n",
            "text/plain": [
              "  EduLevel_Recoded n  \n",
              "1  1                45\n",
              "2  2               109\n",
              "3  3               277\n",
              "4  4               139\n",
              "5 NA                 1"
            ]
          },
          "metadata": {}
        }
      ]
    },
    {
      "cell_type": "code",
      "source": [
        "# Pakai dataset terakhir yang kita pakai untuk model (dat_m3)\n",
        "# Jika belum ada di sesi Anda, buat ulang:\n",
        "dat_m3 <- df4 %>%\n",
        "  dplyr::select(overall_impact, emp_status, jobrel, tv_class, Age_Raw, education, Weight) %>%\n",
        "  tidyr::drop_na()\n",
        "\n",
        "# 1) Cek bobot (Weight): NA, nol, distribusi\n",
        "summary(dat_m3$Weight)\n",
        "c(na_count = sum(is.na(dat_m3$Weight)),\n",
        "  zero_count = sum(dat_m3$Weight == 0),\n",
        "  min_w = min(dat_m3$Weight, na.rm=TRUE),\n",
        "  max_w = max(dat_m3$Weight, na.rm=TRUE))\n",
        "quantile(dat_m3$Weight, c(0, .01, .5, .99, 1), na.rm=TRUE)\n",
        "\n",
        "# 2) Cek sel nol yang bisa bikin separasi\n",
        "with(dat_m3, addmargins(table(overall_impact, emp_status)))\n",
        "with(dat_m3, addmargins(table(overall_impact, jobrel)))\n",
        "with(dat_m3, addmargins(table(overall_impact, tv_class)))\n",
        "\n",
        "# 3) Cek korelasi/persilangan cepat: outcome paling ekstrem\n",
        "subset_extreme <- dat_m3 %>% filter(overall_impact %in% c(\"Very negative\",\"Negative\"))\n",
        "nrow(subset_extreme)\n",
        "subset_extreme %>% count(emp_status)\n",
        "subset_extreme %>% count(jobrel)\n",
        "subset_extreme %>% count(tv_class)\n"
      ],
      "metadata": {
        "colab": {
          "base_uri": "https://localhost:8080/",
          "height": 1000
        },
        "id": "Rmd7QwN5QuUD",
        "outputId": "1123b36f-c728-4f25-f680-8612e710bff1"
      },
      "execution_count": 16,
      "outputs": [
        {
          "output_type": "display_data",
          "data": {
            "text/plain": [
              "   Min. 1st Qu.  Median    Mean 3rd Qu.    Max. \n",
              "  0.531   0.574   0.990   1.021   1.005   2.398 "
            ]
          },
          "metadata": {}
        },
        {
          "output_type": "display_data",
          "data": {
            "text/html": [
              "<style>\n",
              ".dl-inline {width: auto; margin:0; padding: 0}\n",
              ".dl-inline>dt, .dl-inline>dd {float: none; width: auto; display: inline-block}\n",
              ".dl-inline>dt::after {content: \":\\0020\"; padding-right: .5ex}\n",
              ".dl-inline>dt:not(:first-of-type) {padding-left: .5ex}\n",
              "</style><dl class=dl-inline><dt>na_count</dt><dd>0</dd><dt>zero_count</dt><dd>0</dd><dt>min_w</dt><dd>0.531</dd><dt>max_w</dt><dd>2.398</dd></dl>\n"
            ],
            "text/markdown": "na_count\n:   0zero_count\n:   0min_w\n:   0.531max_w\n:   2.398\n\n",
            "text/latex": "\\begin{description*}\n\\item[na\\textbackslash{}\\_count] 0\n\\item[zero\\textbackslash{}\\_count] 0\n\\item[min\\textbackslash{}\\_w] 0.531\n\\item[max\\textbackslash{}\\_w] 2.398\n\\end{description*}\n",
            "text/plain": [
              "  na_count zero_count      min_w      max_w \n",
              "     0.000      0.000      0.531      2.398 "
            ]
          },
          "metadata": {}
        },
        {
          "output_type": "display_data",
          "data": {
            "text/html": [
              "<style>\n",
              ".dl-inline {width: auto; margin:0; padding: 0}\n",
              ".dl-inline>dt, .dl-inline>dd {float: none; width: auto; display: inline-block}\n",
              ".dl-inline>dt::after {content: \":\\0020\"; padding-right: .5ex}\n",
              ".dl-inline>dt:not(:first-of-type) {padding-left: .5ex}\n",
              "</style><dl class=dl-inline><dt>0%</dt><dd>0.531</dd><dt>1%</dt><dd>0.531</dd><dt>50%</dt><dd>0.99</dd><dt>99%</dt><dd>2.398</dd><dt>100%</dt><dd>2.398</dd></dl>\n"
            ],
            "text/markdown": "0%\n:   0.5311%\n:   0.53150%\n:   0.9999%\n:   2.398100%\n:   2.398\n\n",
            "text/latex": "\\begin{description*}\n\\item[0\\textbackslash{}\\%] 0.531\n\\item[1\\textbackslash{}\\%] 0.531\n\\item[50\\textbackslash{}\\%] 0.99\n\\item[99\\textbackslash{}\\%] 2.398\n\\item[100\\textbackslash{}\\%] 2.398\n\\end{description*}\n",
            "text/plain": [
              "   0%    1%   50%   99%  100% \n",
              "0.531 0.531 0.990 2.398 2.398 "
            ]
          },
          "metadata": {}
        },
        {
          "output_type": "display_data",
          "data": {
            "text/html": [
              "<table class=\"dataframe\">\n",
              "<caption>A table: 6 × 4 of type dbl</caption>\n",
              "<thead>\n",
              "\t<tr><th></th><th scope=col>Full-time</th><th scope=col>Part-time</th><th scope=col>Not working</th><th scope=col>Sum</th></tr>\n",
              "</thead>\n",
              "<tbody>\n",
              "\t<tr><th scope=row>Very negative</th><td>  0</td><td>  1</td><td>  0</td><td>  1</td></tr>\n",
              "\t<tr><th scope=row>Negative</th><td>  0</td><td>  0</td><td>  1</td><td>  1</td></tr>\n",
              "\t<tr><th scope=row>Neutral</th><td>  3</td><td>  3</td><td>  7</td><td> 13</td></tr>\n",
              "\t<tr><th scope=row>Positive</th><td>105</td><td>146</td><td>113</td><td>364</td></tr>\n",
              "\t<tr><th scope=row>Very positive</th><td> 69</td><td> 74</td><td> 48</td><td>191</td></tr>\n",
              "\t<tr><th scope=row>Sum</th><td>177</td><td>224</td><td>169</td><td>570</td></tr>\n",
              "</tbody>\n",
              "</table>\n"
            ],
            "text/markdown": "\nA table: 6 × 4 of type dbl\n\n| <!--/--> | Full-time | Part-time | Not working | Sum |\n|---|---|---|---|---|\n| Very negative |   0 |   1 |   0 |   1 |\n| Negative |   0 |   0 |   1 |   1 |\n| Neutral |   3 |   3 |   7 |  13 |\n| Positive | 105 | 146 | 113 | 364 |\n| Very positive |  69 |  74 |  48 | 191 |\n| Sum | 177 | 224 | 169 | 570 |\n\n",
            "text/latex": "A table: 6 × 4 of type dbl\n\\begin{tabular}{r|llll}\n  & Full-time & Part-time & Not working & Sum\\\\\n\\hline\n\tVery negative &   0 &   1 &   0 &   1\\\\\n\tNegative &   0 &   0 &   1 &   1\\\\\n\tNeutral &   3 &   3 &   7 &  13\\\\\n\tPositive & 105 & 146 & 113 & 364\\\\\n\tVery positive &  69 &  74 &  48 & 191\\\\\n\tSum & 177 & 224 & 169 & 570\\\\\n\\end{tabular}\n",
            "text/plain": [
              "               emp_status\n",
              "overall_impact  Full-time Part-time Not working Sum\n",
              "  Very negative   0         1         0           1\n",
              "  Negative        0         0         1           1\n",
              "  Neutral         3         3         7          13\n",
              "  Positive      105       146       113         364\n",
              "  Very positive  69        74        48         191\n",
              "  Sum           177       224       169         570"
            ]
          },
          "metadata": {}
        },
        {
          "output_type": "display_data",
          "data": {
            "text/html": [
              "<table class=\"dataframe\">\n",
              "<caption>A table: 6 × 4 of type dbl</caption>\n",
              "<thead>\n",
              "\t<tr><th></th><th scope=col>Unrelated</th><th scope=col>Indirectly related</th><th scope=col>Directly related</th><th scope=col>Sum</th></tr>\n",
              "</thead>\n",
              "<tbody>\n",
              "\t<tr><th scope=row>Very negative</th><td>  0</td><td> 1</td><td>  0</td><td>  1</td></tr>\n",
              "\t<tr><th scope=row>Negative</th><td>  1</td><td> 0</td><td>  0</td><td>  1</td></tr>\n",
              "\t<tr><th scope=row>Neutral</th><td>  8</td><td> 2</td><td>  3</td><td> 13</td></tr>\n",
              "\t<tr><th scope=row>Positive</th><td>268</td><td>33</td><td> 63</td><td>364</td></tr>\n",
              "\t<tr><th scope=row>Very positive</th><td> 94</td><td>35</td><td> 62</td><td>191</td></tr>\n",
              "\t<tr><th scope=row>Sum</th><td>371</td><td>71</td><td>128</td><td>570</td></tr>\n",
              "</tbody>\n",
              "</table>\n"
            ],
            "text/markdown": "\nA table: 6 × 4 of type dbl\n\n| <!--/--> | Unrelated | Indirectly related | Directly related | Sum |\n|---|---|---|---|---|\n| Very negative |   0 |  1 |   0 |   1 |\n| Negative |   1 |  0 |   0 |   1 |\n| Neutral |   8 |  2 |   3 |  13 |\n| Positive | 268 | 33 |  63 | 364 |\n| Very positive |  94 | 35 |  62 | 191 |\n| Sum | 371 | 71 | 128 | 570 |\n\n",
            "text/latex": "A table: 6 × 4 of type dbl\n\\begin{tabular}{r|llll}\n  & Unrelated & Indirectly related & Directly related & Sum\\\\\n\\hline\n\tVery negative &   0 &  1 &   0 &   1\\\\\n\tNegative &   1 &  0 &   0 &   1\\\\\n\tNeutral &   8 &  2 &   3 &  13\\\\\n\tPositive & 268 & 33 &  63 & 364\\\\\n\tVery positive &  94 & 35 &  62 & 191\\\\\n\tSum & 371 & 71 & 128 & 570\\\\\n\\end{tabular}\n",
            "text/plain": [
              "               jobrel\n",
              "overall_impact  Unrelated Indirectly related Directly related Sum\n",
              "  Very negative   0        1                   0                1\n",
              "  Negative        1        0                   0                1\n",
              "  Neutral         8        2                   3               13\n",
              "  Positive      268       33                  63              364\n",
              "  Very positive  94       35                  62              191\n",
              "  Sum           371       71                 128              570"
            ]
          },
          "metadata": {}
        },
        {
          "output_type": "display_data",
          "data": {
            "text/html": [
              "<table class=\"dataframe\">\n",
              "<caption>A table: 6 × 5 of type dbl</caption>\n",
              "<thead>\n",
              "\t<tr><th></th><th scope=col>Advanced</th><th scope=col>Piloting</th><th scope=col>Developing</th><th scope=col>Not classified</th><th scope=col>Sum</th></tr>\n",
              "</thead>\n",
              "<tbody>\n",
              "\t<tr><th scope=row>Very negative</th><td>  0</td><td>  1</td><td> 0</td><td>  0</td><td>  1</td></tr>\n",
              "\t<tr><th scope=row>Negative</th><td>  0</td><td>  0</td><td> 0</td><td>  1</td><td>  1</td></tr>\n",
              "\t<tr><th scope=row>Neutral</th><td>  3</td><td>  8</td><td> 2</td><td>  0</td><td> 13</td></tr>\n",
              "\t<tr><th scope=row>Positive</th><td> 59</td><td>171</td><td>62</td><td> 72</td><td>364</td></tr>\n",
              "\t<tr><th scope=row>Very positive</th><td> 51</td><td> 86</td><td>16</td><td> 38</td><td>191</td></tr>\n",
              "\t<tr><th scope=row>Sum</th><td>113</td><td>266</td><td>80</td><td>111</td><td>570</td></tr>\n",
              "</tbody>\n",
              "</table>\n"
            ],
            "text/markdown": "\nA table: 6 × 5 of type dbl\n\n| <!--/--> | Advanced | Piloting | Developing | Not classified | Sum |\n|---|---|---|---|---|---|\n| Very negative |   0 |   1 |  0 |   0 |   1 |\n| Negative |   0 |   0 |  0 |   1 |   1 |\n| Neutral |   3 |   8 |  2 |   0 |  13 |\n| Positive |  59 | 171 | 62 |  72 | 364 |\n| Very positive |  51 |  86 | 16 |  38 | 191 |\n| Sum | 113 | 266 | 80 | 111 | 570 |\n\n",
            "text/latex": "A table: 6 × 5 of type dbl\n\\begin{tabular}{r|lllll}\n  & Advanced & Piloting & Developing & Not classified & Sum\\\\\n\\hline\n\tVery negative &   0 &   1 &  0 &   0 &   1\\\\\n\tNegative &   0 &   0 &  0 &   1 &   1\\\\\n\tNeutral &   3 &   8 &  2 &   0 &  13\\\\\n\tPositive &  59 & 171 & 62 &  72 & 364\\\\\n\tVery positive &  51 &  86 & 16 &  38 & 191\\\\\n\tSum & 113 & 266 & 80 & 111 & 570\\\\\n\\end{tabular}\n",
            "text/plain": [
              "               tv_class\n",
              "overall_impact  Advanced Piloting Developing Not classified Sum\n",
              "  Very negative   0        1       0           0              1\n",
              "  Negative        0        0       0           1              1\n",
              "  Neutral         3        8       2           0             13\n",
              "  Positive       59      171      62          72            364\n",
              "  Very positive  51       86      16          38            191\n",
              "  Sum           113      266      80         111            570"
            ]
          },
          "metadata": {}
        },
        {
          "output_type": "display_data",
          "data": {
            "text/html": [
              "2"
            ],
            "text/markdown": "2",
            "text/latex": "2",
            "text/plain": [
              "[1] 2"
            ]
          },
          "metadata": {}
        },
        {
          "output_type": "display_data",
          "data": {
            "text/html": [
              "<table class=\"dataframe\">\n",
              "<caption>A tibble: 2 × 2</caption>\n",
              "<thead>\n",
              "\t<tr><th scope=col>emp_status</th><th scope=col>n</th></tr>\n",
              "\t<tr><th scope=col>&lt;fct&gt;</th><th scope=col>&lt;int&gt;</th></tr>\n",
              "</thead>\n",
              "<tbody>\n",
              "\t<tr><td>Part-time  </td><td>1</td></tr>\n",
              "\t<tr><td>Not working</td><td>1</td></tr>\n",
              "</tbody>\n",
              "</table>\n"
            ],
            "text/markdown": "\nA tibble: 2 × 2\n\n| emp_status &lt;fct&gt; | n &lt;int&gt; |\n|---|---|\n| Part-time   | 1 |\n| Not working | 1 |\n\n",
            "text/latex": "A tibble: 2 × 2\n\\begin{tabular}{ll}\n emp\\_status & n\\\\\n <fct> & <int>\\\\\n\\hline\n\t Part-time   & 1\\\\\n\t Not working & 1\\\\\n\\end{tabular}\n",
            "text/plain": [
              "  emp_status  n\n",
              "1 Part-time   1\n",
              "2 Not working 1"
            ]
          },
          "metadata": {}
        },
        {
          "output_type": "display_data",
          "data": {
            "text/html": [
              "<table class=\"dataframe\">\n",
              "<caption>A tibble: 2 × 2</caption>\n",
              "<thead>\n",
              "\t<tr><th scope=col>jobrel</th><th scope=col>n</th></tr>\n",
              "\t<tr><th scope=col>&lt;fct&gt;</th><th scope=col>&lt;int&gt;</th></tr>\n",
              "</thead>\n",
              "<tbody>\n",
              "\t<tr><td>Unrelated         </td><td>1</td></tr>\n",
              "\t<tr><td>Indirectly related</td><td>1</td></tr>\n",
              "</tbody>\n",
              "</table>\n"
            ],
            "text/markdown": "\nA tibble: 2 × 2\n\n| jobrel &lt;fct&gt; | n &lt;int&gt; |\n|---|---|\n| Unrelated          | 1 |\n| Indirectly related | 1 |\n\n",
            "text/latex": "A tibble: 2 × 2\n\\begin{tabular}{ll}\n jobrel & n\\\\\n <fct> & <int>\\\\\n\\hline\n\t Unrelated          & 1\\\\\n\t Indirectly related & 1\\\\\n\\end{tabular}\n",
            "text/plain": [
              "  jobrel             n\n",
              "1 Unrelated          1\n",
              "2 Indirectly related 1"
            ]
          },
          "metadata": {}
        },
        {
          "output_type": "display_data",
          "data": {
            "text/html": [
              "<table class=\"dataframe\">\n",
              "<caption>A tibble: 2 × 2</caption>\n",
              "<thead>\n",
              "\t<tr><th scope=col>tv_class</th><th scope=col>n</th></tr>\n",
              "\t<tr><th scope=col>&lt;fct&gt;</th><th scope=col>&lt;int&gt;</th></tr>\n",
              "</thead>\n",
              "<tbody>\n",
              "\t<tr><td>Piloting      </td><td>1</td></tr>\n",
              "\t<tr><td>Not classified</td><td>1</td></tr>\n",
              "</tbody>\n",
              "</table>\n"
            ],
            "text/markdown": "\nA tibble: 2 × 2\n\n| tv_class &lt;fct&gt; | n &lt;int&gt; |\n|---|---|\n| Piloting       | 1 |\n| Not classified | 1 |\n\n",
            "text/latex": "A tibble: 2 × 2\n\\begin{tabular}{ll}\n tv\\_class & n\\\\\n <fct> & <int>\\\\\n\\hline\n\t Piloting       & 1\\\\\n\t Not classified & 1\\\\\n\\end{tabular}\n",
            "text/plain": [
              "  tv_class       n\n",
              "1 Piloting       1\n",
              "2 Not classified 1"
            ]
          },
          "metadata": {}
        }
      ]
    },
    {
      "cell_type": "code",
      "source": [
        "library(ordinal)\n",
        "library(dplyr)\n",
        "\n",
        "# Pastikan dat_m3 ada (outcome + prediktor + Weight, tanpa NA)\n",
        "dat_m3 <- df4 %>%\n",
        "  dplyr::select(overall_impact, emp_status, jobrel, tv_class, Age_Raw, education, Weight) %>%\n",
        "  tidyr::drop_na()\n",
        "\n",
        "# 1) Fit cumulative link model (logit) dengan weights\n",
        "m3_clm <- clm(\n",
        "  overall_impact ~ emp_status + jobrel + tv_class + Age_Raw + education,\n",
        "  data = dat_m3,\n",
        "  weights = Weight,\n",
        "  link = \"logit\"\n",
        ")\n",
        "\n",
        "# 2) Ambil koefisien lokasi (bukan cut-points), lalu hitung OR, CI Wald 95%, p (z-test)\n",
        "co <- summary(m3_clm)$coefficients   # termasuk threshold & lokasi\n",
        "# Ambil hanya baris efek prediktor (bukan threshold \"Very negative|Negative\", dst.)\n",
        "keep <- grepl(\"^(emp_status|jobrel|tv_class|Age_Raw|education)\", rownames(co))\n",
        "\n",
        "co_eff <- co[keep, , drop = FALSE]\n",
        "beta   <- co_eff[, \"Estimate\"]\n",
        "se     <- co_eff[, \"Std. Error\"]\n",
        "zval   <- beta / se\n",
        "pval   <- 2 * pnorm(abs(zval), lower.tail = FALSE)\n",
        "\n",
        "res_effects3_clm <- data.frame(\n",
        "  Term  = rownames(co_eff),\n",
        "  OR    = exp(beta),\n",
        "  L95   = exp(beta - 1.96 * se),\n",
        "  U95   = exp(beta + 1.96 * se),\n",
        "  p     = pval,\n",
        "  row.names = NULL\n",
        ") |>\n",
        "  dplyr::mutate(\n",
        "    Comparison = dplyr::case_when(\n",
        "      Term == \"emp_statusPart-time\"          ~ \"Part-time vs Full-time\",\n",
        "      Term == \"emp_statusNot working\"        ~ \"Not working vs Full-time\",\n",
        "      Term == \"jobrelIndirectly related\"     ~ \"Indirectly vs Unrelated\",\n",
        "      Term == \"jobrelDirectly related\"       ~ \"Directly vs Unrelated\",\n",
        "      Term == \"tv_classPiloting\"             ~ \"Piloting vs Advanced\",\n",
        "      Term == \"tv_classDeveloping\"           ~ \"Developing vs Advanced\",\n",
        "      Term == \"tv_classNot classified\"       ~ \"Not classified vs Advanced\",\n",
        "      Term == \"Age_Raw\"                      ~ \"Age (per year)\",\n",
        "      Term == \"educationUpperSec\"            ~ \"UpperSec vs Higher\",\n",
        "      Term == \"educationLowerSec\"            ~ \"LowerSec vs Higher\",\n",
        "      Term == \"educationNoPrimary\"           ~ \"No/Primary vs Higher\",\n",
        "      TRUE ~ Term\n",
        "    )\n",
        "  ) |>\n",
        "  dplyr::select(Comparison, OR, L95, U95, p)\n",
        "\n",
        "print(res_effects3_clm, digits = 4)\n"
      ],
      "metadata": {
        "colab": {
          "base_uri": "https://localhost:8080/"
        },
        "id": "1KR1pN5ORTck",
        "outputId": "8373417b-4f10-4959-b0cb-5fc1bc53112c"
      },
      "execution_count": 17,
      "outputs": [
        {
          "output_type": "stream",
          "name": "stdout",
          "text": [
            "                   Comparison     OR     L95    U95         p\n",
            "1      Part-time vs Full-time 0.6188 0.39886 0.9599 3.214e-02\n",
            "2    Not working vs Full-time 0.7118 0.41292 1.2269 2.210e-01\n",
            "3     Indirectly vs Unrelated 3.2030 1.88906 5.4308 1.552e-05\n",
            "4       Directly vs Unrelated 2.5110 1.64377 3.8357 2.052e-05\n",
            "5        Piloting vs Advanced 0.5896 0.34418 1.0100 5.441e-02\n",
            "6      Developing vs Advanced 0.3195 0.15838 0.6446 1.440e-03\n",
            "7  Not classified vs Advanced 0.8697 0.45496 1.6624 6.727e-01\n",
            "8              Age (per year) 1.0179 0.99955 1.0367 5.598e-02\n",
            "9          UpperSec vs Higher 0.9519 0.59958 1.5111 8.342e-01\n",
            "10         LowerSec vs Higher 0.6904 0.38301 1.2444 2.177e-01\n",
            "11       No/Primary vs Higher 0.2246 0.09243 0.5459 9.804e-04\n"
          ]
        }
      ]
    },
    {
      "cell_type": "code",
      "source": [
        "library(ordinal)\n",
        "library(dplyr)\n",
        "\n",
        "# Dataset tanpa weight untuk uji PO\n",
        "dat_m3_unw <- df4 %>%\n",
        "  dplyr::select(overall_impact, emp_status, jobrel, tv_class, Age_Raw, education) %>%\n",
        "  tidyr::drop_na()\n",
        "\n",
        "# Fit model clm (tanpa weights), spesifikasi identik\n",
        "m3_clm_unw <- clm(\n",
        "  overall_impact ~ emp_status + jobrel + tv_class + Age_Raw + education,\n",
        "  data = dat_m3_unw,\n",
        "  link = \"logit\"\n",
        ")\n",
        "\n",
        "# Uji proportional odds ala ordinal\n",
        "nominal_test(m3_clm_unw)\n"
      ],
      "metadata": {
        "colab": {
          "base_uri": "https://localhost:8080/",
          "height": 286
        },
        "id": "5yW13LSBRj2Z",
        "outputId": "febd5cdd-6f05-4bae-9af1-c187d836b449"
      },
      "execution_count": 20,
      "outputs": [
        {
          "output_type": "display_data",
          "data": {
            "text/html": [
              "<table class=\"dataframe\">\n",
              "<caption>A anova: 6 × 5</caption>\n",
              "<thead>\n",
              "\t<tr><th></th><th scope=col>Df</th><th scope=col>logLik</th><th scope=col>AIC</th><th scope=col>LRT</th><th scope=col>Pr(&gt;Chi)</th></tr>\n",
              "\t<tr><th></th><th scope=col>&lt;dbl&gt;</th><th scope=col>&lt;dbl&gt;</th><th scope=col>&lt;dbl&gt;</th><th scope=col>&lt;dbl&gt;</th><th scope=col>&lt;dbl&gt;</th></tr>\n",
              "</thead>\n",
              "<tbody>\n",
              "\t<tr><th scope=row>&lt;none&gt;</th><td>NA</td><td>-410.4438</td><td>850.8875</td><td>NA</td><td>NA</td></tr>\n",
              "\t<tr><th scope=row>emp_status</th><td>NA</td><td>       NA</td><td>      NA</td><td>NA</td><td>NA</td></tr>\n",
              "\t<tr><th scope=row>jobrel</th><td>NA</td><td>       NA</td><td>      NA</td><td>NA</td><td>NA</td></tr>\n",
              "\t<tr><th scope=row>tv_class</th><td>NA</td><td>       NA</td><td>      NA</td><td>NA</td><td>NA</td></tr>\n",
              "\t<tr><th scope=row>Age_Raw</th><td>NA</td><td>       NA</td><td>      NA</td><td>NA</td><td>NA</td></tr>\n",
              "\t<tr><th scope=row>education</th><td>NA</td><td>       NA</td><td>      NA</td><td>NA</td><td>NA</td></tr>\n",
              "</tbody>\n",
              "</table>\n"
            ],
            "text/markdown": "\nA anova: 6 × 5\n\n| <!--/--> | Df &lt;dbl&gt; | logLik &lt;dbl&gt; | AIC &lt;dbl&gt; | LRT &lt;dbl&gt; | Pr(&gt;Chi) &lt;dbl&gt; |\n|---|---|---|---|---|---|\n| &lt;none&gt; | NA | -410.4438 | 850.8875 | NA | NA |\n| emp_status | NA |        NA |       NA | NA | NA |\n| jobrel | NA |        NA |       NA | NA | NA |\n| tv_class | NA |        NA |       NA | NA | NA |\n| Age_Raw | NA |        NA |       NA | NA | NA |\n| education | NA |        NA |       NA | NA | NA |\n\n",
            "text/latex": "A anova: 6 × 5\n\\begin{tabular}{r|lllll}\n  & Df & logLik & AIC & LRT & Pr(>Chi)\\\\\n  & <dbl> & <dbl> & <dbl> & <dbl> & <dbl>\\\\\n\\hline\n\t<none> & NA & -410.4438 & 850.8875 & NA & NA\\\\\n\temp\\_status & NA &        NA &       NA & NA & NA\\\\\n\tjobrel & NA &        NA &       NA & NA & NA\\\\\n\ttv\\_class & NA &        NA &       NA & NA & NA\\\\\n\tAge\\_Raw & NA &        NA &       NA & NA & NA\\\\\n\teducation & NA &        NA &       NA & NA & NA\\\\\n\\end{tabular}\n",
            "text/plain": [
              "           Df logLik    AIC      LRT Pr(>Chi)\n",
              "<none>     NA -410.4438 850.8875 NA  NA      \n",
              "emp_status NA        NA       NA NA  NA      \n",
              "jobrel     NA        NA       NA NA  NA      \n",
              "tv_class   NA        NA       NA NA  NA      \n",
              "Age_Raw    NA        NA       NA NA  NA      \n",
              "education  NA        NA       NA NA  NA      "
            ]
          },
          "metadata": {}
        }
      ]
    },
    {
      "cell_type": "code",
      "source": [
        "library(dplyr)\n",
        "\n",
        "# Rehitung tabel efek dari m4_clm lalu pakai dplyr::select\n",
        "co <- summary(m4_clm)$coefficients\n",
        "keep <- grepl(\"^(emp_status|jobrel|tv_class|Age_Raw|education|industry)\", rownames(co))\n",
        "co_eff <- co[keep, , drop = FALSE]\n",
        "\n",
        "beta <- co_eff[, \"Estimate\"]; se <- co_eff[, \"Std. Error\"]\n",
        "zval <- beta / se; pval <- 2 * pnorm(abs(zval), lower.tail = FALSE)\n",
        "\n",
        "res_effects4_clm <- data.frame(\n",
        "  Term = rownames(co_eff),\n",
        "  OR   = exp(beta),\n",
        "  L95  = exp(beta - 1.96*se),\n",
        "  U95  = exp(beta + 1.96*se),\n",
        "  p    = pval,\n",
        "  row.names = NULL\n",
        ") %>%\n",
        "  dplyr::mutate(\n",
        "    Comparison = dplyr::case_when(\n",
        "      Term == \"emp_statusPart-time\"            ~ \"Part-time vs Full-time\",\n",
        "      Term == \"emp_statusNot working\"          ~ \"Not working vs Full-time\",\n",
        "      Term == \"jobrelIndirectly related\"       ~ \"Indirectly vs Unrelated\",\n",
        "      Term == \"jobrelDirectly related\"         ~ \"Directly vs Unrelated\",\n",
        "      Term == \"tv_classPiloting\"               ~ \"Piloting vs Advanced\",\n",
        "      Term == \"tv_classDeveloping\"             ~ \"Developing vs Advanced\",\n",
        "      Term == \"tv_classNot classified\"         ~ \"Not classified vs Advanced\",\n",
        "      Term == \"Age_Raw\"                        ~ \"Age (per year)\",\n",
        "      Term == \"educationUpperSec\"              ~ \"UpperSec vs Higher\",\n",
        "      Term == \"educationLowerSec\"              ~ \"LowerSec vs Higher\",\n",
        "      Term == \"educationNoPrimary\"             ~ \"No/Primary vs Higher\",\n",
        "      Term == \"industryAgriculture/fisheries\"  ~ \"Agriculture/fisheries vs Other\",\n",
        "      Term == \"industryManufacturing\"          ~ \"Manufacturing vs Other\",\n",
        "      Term == \"industryPublic sector\"          ~ \"Public sector vs Other\",\n",
        "      Term == \"industryServices\"               ~ \"Services vs Other\",\n",
        "      Term == \"industryTourism\"                ~ \"Tourism vs Other\",\n",
        "      TRUE ~ Term\n",
        "    )\n",
        "  ) %>%\n",
        "  dplyr::select(Comparison, OR, L95, U95, p)\n",
        "\n",
        "print(res_effects4_clm, digits = 4)\n"
      ],
      "metadata": {
        "colab": {
          "base_uri": "https://localhost:8080/"
        },
        "id": "d_UQRjreSjmY",
        "outputId": "26e9b98d-5532-4e26-f4cd-a34e094afd06"
      },
      "execution_count": 23,
      "outputs": [
        {
          "output_type": "stream",
          "name": "stdout",
          "text": [
            "                       Comparison     OR     L95    U95         p\n",
            "1          Part-time vs Full-time 0.6169 0.39259 0.9693 3.615e-02\n",
            "2        Not working vs Full-time 0.6786 0.39010 1.1804 1.698e-01\n",
            "3         Indirectly vs Unrelated 3.1695 1.80810 5.5560 5.621e-05\n",
            "4           Directly vs Unrelated 2.4168 1.45261 4.0210 6.802e-04\n",
            "5            Piloting vs Advanced 0.5966 0.34640 1.0277 6.267e-02\n",
            "6          Developing vs Advanced 0.3156 0.15603 0.6385 1.336e-03\n",
            "7      Not classified vs Advanced 0.8669 0.45165 1.6637 6.675e-01\n",
            "8                  Age (per year) 1.0160 0.99711 1.0354 9.728e-02\n",
            "9              UpperSec vs Higher 0.9798 0.61179 1.5693 9.325e-01\n",
            "10             LowerSec vs Higher 0.6919 0.37897 1.2632 2.305e-01\n",
            "11           No/Primary vs Higher 0.2237 0.09064 0.5521 1.159e-03\n",
            "12 Agriculture/fisheries vs Other 0.9721 0.58710 1.6095 9.123e-01\n",
            "13         Manufacturing vs Other 0.3262 0.10215 1.0414 5.855e-02\n",
            "14         Public sector vs Other 0.9767 0.36665 2.6016 9.623e-01\n",
            "15              Services vs Other 0.9404 0.51830 1.7062 8.397e-01\n",
            "16               Tourism vs Other 1.0008 0.54991 1.8213 9.980e-01\n"
          ]
        }
      ]
    },
    {
      "cell_type": "code",
      "source": [
        "library(dplyr)\n",
        "library(ordinal)\n",
        "\n",
        "# 1) Tambah faktor income, residence, gender (dengan referensi yang diminta)\n",
        "df6 <- df5 %>%\n",
        "  mutate(\n",
        "    income_chr = case_when(\n",
        "      Income == 6 ~ \"Above Rp 8,442,602\",\n",
        "      Income == 5 ~ \"Rp 2,638,628–Rp 8,442,602\",\n",
        "      Income == 4 ~ \"Rp 1,688,520–Rp 2,638,628\",\n",
        "      Income == 3 ~ \"Rp 448,928–Rp 1,688,520\",\n",
        "      Income == 2 ~ \"Rp 351,957–Rp 448,928\",\n",
        "      Income == 1 ~ \"Below Rp 351,957\",\n",
        "      TRUE ~ NA_character_\n",
        "    ),\n",
        "    income = factor(\n",
        "      income_chr,\n",
        "      levels = c(\"Above Rp 8,442,602\",\n",
        "                 \"Rp 2,638,628–Rp 8,442,602\",\n",
        "                 \"Rp 1,688,520–Rp 2,638,628\",\n",
        "                 \"Rp 448,928–Rp 1,688,520\",\n",
        "                 \"Rp 351,957–Rp 448,928\",\n",
        "                 \"Below Rp 351,957\")\n",
        "    ),\n",
        "    residence_chr = case_when(\n",
        "      Resid_Time == 5 ~ \"≥ 20 years\",\n",
        "      Resid_Time == 4 ~ \"15–19 years\",\n",
        "      Resid_Time == 3 ~ \"10–14 years\",\n",
        "      Resid_Time == 2 ~ \"5–9 years\",\n",
        "      Resid_Time == 1 ~ \"Under 5 years\",\n",
        "      TRUE ~ NA_character_\n",
        "    ),\n",
        "    residence_len = factor(\n",
        "      residence_chr,\n",
        "      levels = c(\"≥ 20 years\",\"15–19 years\",\"10–14 years\",\"5–9 years\",\"Under 5 years\")\n",
        "    ),\n",
        "    gender_chr = case_when(\n",
        "      Gender == 3 ~ \"Other\",\n",
        "      Gender == 1 ~ \"Male\",\n",
        "      Gender == 2 ~ \"Female\",\n",
        "      TRUE ~ NA_character_\n",
        "    ),\n",
        "    gender = factor(gender_chr, levels = c(\"Other\",\"Male\",\"Female\"))\n",
        "  )\n",
        "\n",
        "# Cek ringkas\n",
        "df6 %>% count(income)\n",
        "df6 %>% count(residence_len)\n",
        "df6 %>% count(gender)\n",
        "\n",
        "# 2) Siapkan data untuk model penuh (pakai weights)\n",
        "dat_full <- df6 %>%\n",
        "  dplyr::select(\n",
        "    overall_impact, emp_status, jobrel, tv_class,\n",
        "    Age_Raw, education, industry,\n",
        "    income, residence_len, gender,\n",
        "    Weight\n",
        "  ) %>%\n",
        "  tidyr::drop_na()\n",
        "\n",
        "nrow(dat_full)\n",
        "\n",
        "# 3) Fit CLM (logit) berbobot – spesifikasi mendekati Tabel 4.6\n",
        "m_full <- clm(\n",
        "  overall_impact ~ emp_status + jobrel + tv_class +\n",
        "    Age_Raw + education + industry +\n",
        "    income + residence_len + gender,\n",
        "  data = dat_full, weights = Weight, link = \"logit\"\n",
        ")\n",
        "\n",
        "# 4) Ekstrak OR, CI95, p untuk semua prediktor (bukan threshold)\n",
        "co <- summary(m_full)$coefficients\n",
        "keep <- grepl(\"^(emp_status|jobrel|tv_class|Age_Raw|education|industry|income|residence_len|gender)\", rownames(co))\n",
        "co_eff <- co[keep, , drop = FALSE]\n",
        "\n",
        "beta <- co_eff[, \"Estimate\"]; se <- co_eff[, \"Std. Error\"]\n",
        "zval <- beta / se; pval <- 2 * pnorm(abs(zval), lower.tail = FALSE)\n",
        "\n",
        "res_full <- data.frame(\n",
        "  Term = rownames(co_eff),\n",
        "  OR   = exp(beta),\n",
        "  L95  = exp(beta - 1.96*se),\n",
        "  U95  = exp(beta + 1.96*se),\n",
        "  p    = pval,\n",
        "  row.names = NULL\n",
        ") %>%\n",
        "  dplyr::mutate(\n",
        "    Comparison = dplyr::case_when(\n",
        "      Term == \"emp_statusPart-time\"              ~ \"Part-time vs Full-time\",\n",
        "      Term == \"emp_statusNot working\"            ~ \"Not working vs Full-time\",\n",
        "      Term == \"jobrelIndirectly related\"         ~ \"Indirectly vs Unrelated\",\n",
        "      Term == \"jobrelDirectly related\"           ~ \"Directly vs Unrelated\",\n",
        "      Term == \"tv_classPiloting\"                 ~ \"Piloting vs Advanced\",\n",
        "      Term == \"tv_classDeveloping\"               ~ \"Developing vs Advanced\",\n",
        "      Term == \"tv_classNot classified\"           ~ \"Not classified vs Advanced\",\n",
        "      Term == \"Age_Raw\"                          ~ \"Age (per year)\",\n",
        "      Term == \"educationUpperSec\"                ~ \"UpperSec vs Higher\",\n",
        "      Term == \"educationLowerSec\"                ~ \"LowerSec vs Higher\",\n",
        "      Term == \"educationNoPrimary\"               ~ \"No/Primary vs Higher\",\n",
        "      Term == \"industryAgriculture/fisheries\"    ~ \"Agriculture/fisheries vs Other\",\n",
        "      Term == \"industryManufacturing\"            ~ \"Manufacturing vs Other\",\n",
        "      Term == \"industryPublic sector\"            ~ \"Public sector vs Other\",\n",
        "      Term == \"industryServices\"                 ~ \"Services vs Other\",\n",
        "      Term == \"industryTourism\"                  ~ \"Tourism vs Other\",\n",
        "      grepl(\"^income\", Term)                     ~ sub(\"^income\", \"\", Term),\n",
        "      grepl(\"^residence_len\", Term)              ~ sub(\"^residence_len\", \"\", Term),\n",
        "      grepl(\"^gender\", Term)                     ~ sub(\"^gender\", \"\", Term),\n",
        "      TRUE ~ Term\n",
        "    )\n",
        "  ) %>%\n",
        "  dplyr::select(Comparison, OR, L95, U95, p) %>%\n",
        "  dplyr::arrange(match(Comparison, c(\n",
        "    \"Part-time vs Full-time\",\"Not working vs Full-time\",\n",
        "    \"Indirectly vs Unrelated\",\"Directly vs Unrelated\",\n",
        "    \"Piloting vs Advanced\",\"Developing vs Advanced\",\"Not classified vs Advanced\",\n",
        "    \"Age (per year)\",\n",
        "    \"UpperSec vs Higher\",\"LowerSec vs Higher\",\"No/Primary vs Higher\",\n",
        "    \"Agriculture/fisheries vs Other\",\"Manufacturing vs Other\",\"Public sector vs Other\",\"Services vs Other\",\"Tourism vs Other\",\n",
        "    \" Rp 2,638,628–Rp 8,442,602\",\" Rp 1,688,520–Rp 2,638,628\",\" Rp 448,928–Rp 1,688,520\",\" Rp 351,957–Rp 448,928\",\" Below Rp 351,957\",\n",
        "    \" 15–19 years\",\" 10–14 years\",\" 5–9 years\",\" Under 5 years\",\n",
        "    \" Male\",\" Female\"\n",
        "  )))\n",
        "\n",
        "print(res_full, digits = 4)\n"
      ],
      "metadata": {
        "colab": {
          "base_uri": "https://localhost:8080/",
          "height": 1000
        },
        "id": "9R6erw9JUGnk",
        "outputId": "bc2cee02-07e5-4b90-8796-8f0ba0dc6fe1"
      },
      "execution_count": 24,
      "outputs": [
        {
          "output_type": "display_data",
          "data": {
            "text/html": [
              "<table class=\"dataframe\">\n",
              "<caption>A tibble: 6 × 2</caption>\n",
              "<thead>\n",
              "\t<tr><th scope=col>income</th><th scope=col>n</th></tr>\n",
              "\t<tr><th scope=col>&lt;fct&gt;</th><th scope=col>&lt;int&gt;</th></tr>\n",
              "</thead>\n",
              "<tbody>\n",
              "\t<tr><td>Above Rp 8,442,602       </td><td>  9</td></tr>\n",
              "\t<tr><td>Rp 2,638,628–Rp 8,442,602</td><td> 48</td></tr>\n",
              "\t<tr><td>Rp 1,688,520–Rp 2,638,628</td><td>114</td></tr>\n",
              "\t<tr><td>Rp 448,928–Rp 1,688,520  </td><td>189</td></tr>\n",
              "\t<tr><td>Rp 351,957–Rp 448,928    </td><td> 82</td></tr>\n",
              "\t<tr><td>Below Rp 351,957         </td><td>129</td></tr>\n",
              "</tbody>\n",
              "</table>\n"
            ],
            "text/markdown": "\nA tibble: 6 × 2\n\n| income &lt;fct&gt; | n &lt;int&gt; |\n|---|---|\n| Above Rp 8,442,602        |   9 |\n| Rp 2,638,628–Rp 8,442,602 |  48 |\n| Rp 1,688,520–Rp 2,638,628 | 114 |\n| Rp 448,928–Rp 1,688,520   | 189 |\n| Rp 351,957–Rp 448,928     |  82 |\n| Below Rp 351,957          | 129 |\n\n",
            "text/latex": "A tibble: 6 × 2\n\\begin{tabular}{ll}\n income & n\\\\\n <fct> & <int>\\\\\n\\hline\n\t Above Rp 8,442,602        &   9\\\\\n\t Rp 2,638,628–Rp 8,442,602 &  48\\\\\n\t Rp 1,688,520–Rp 2,638,628 & 114\\\\\n\t Rp 448,928–Rp 1,688,520   & 189\\\\\n\t Rp 351,957–Rp 448,928     &  82\\\\\n\t Below Rp 351,957          & 129\\\\\n\\end{tabular}\n",
            "text/plain": [
              "  income                    n  \n",
              "1 Above Rp 8,442,602          9\n",
              "2 Rp 2,638,628–Rp 8,442,602  48\n",
              "3 Rp 1,688,520–Rp 2,638,628 114\n",
              "4 Rp 448,928–Rp 1,688,520   189\n",
              "5 Rp 351,957–Rp 448,928      82\n",
              "6 Below Rp 351,957          129"
            ]
          },
          "metadata": {}
        },
        {
          "output_type": "display_data",
          "data": {
            "text/html": [
              "<table class=\"dataframe\">\n",
              "<caption>A tibble: 5 × 2</caption>\n",
              "<thead>\n",
              "\t<tr><th scope=col>residence_len</th><th scope=col>n</th></tr>\n",
              "\t<tr><th scope=col>&lt;fct&gt;</th><th scope=col>&lt;int&gt;</th></tr>\n",
              "</thead>\n",
              "<tbody>\n",
              "\t<tr><td>≥ 20 years   </td><td>369</td></tr>\n",
              "\t<tr><td>15–19 years  </td><td>101</td></tr>\n",
              "\t<tr><td>10–14 years  </td><td> 44</td></tr>\n",
              "\t<tr><td>5–9 years    </td><td> 33</td></tr>\n",
              "\t<tr><td>Under 5 years</td><td> 24</td></tr>\n",
              "</tbody>\n",
              "</table>\n"
            ],
            "text/markdown": "\nA tibble: 5 × 2\n\n| residence_len &lt;fct&gt; | n &lt;int&gt; |\n|---|---|\n| ≥ 20 years    | 369 |\n| 15–19 years   | 101 |\n| 10–14 years   |  44 |\n| 5–9 years     |  33 |\n| Under 5 years |  24 |\n\n",
            "text/latex": "A tibble: 5 × 2\n\\begin{tabular}{ll}\n residence\\_len & n\\\\\n <fct> & <int>\\\\\n\\hline\n\t ≥ 20 years    & 369\\\\\n\t 15–19 years   & 101\\\\\n\t 10–14 years   &  44\\\\\n\t 5–9 years     &  33\\\\\n\t Under 5 years &  24\\\\\n\\end{tabular}\n",
            "text/plain": [
              "  residence_len n  \n",
              "1 ≥ 20 years    369\n",
              "2 15–19 years   101\n",
              "3 10–14 years    44\n",
              "4 5–9 years      33\n",
              "5 Under 5 years  24"
            ]
          },
          "metadata": {}
        },
        {
          "output_type": "display_data",
          "data": {
            "text/html": [
              "<table class=\"dataframe\">\n",
              "<caption>A tibble: 3 × 2</caption>\n",
              "<thead>\n",
              "\t<tr><th scope=col>gender</th><th scope=col>n</th></tr>\n",
              "\t<tr><th scope=col>&lt;fct&gt;</th><th scope=col>&lt;int&gt;</th></tr>\n",
              "</thead>\n",
              "<tbody>\n",
              "\t<tr><td>Other </td><td>  5</td></tr>\n",
              "\t<tr><td>Male  </td><td>265</td></tr>\n",
              "\t<tr><td>Female</td><td>301</td></tr>\n",
              "</tbody>\n",
              "</table>\n"
            ],
            "text/markdown": "\nA tibble: 3 × 2\n\n| gender &lt;fct&gt; | n &lt;int&gt; |\n|---|---|\n| Other  |   5 |\n| Male   | 265 |\n| Female | 301 |\n\n",
            "text/latex": "A tibble: 3 × 2\n\\begin{tabular}{ll}\n gender & n\\\\\n <fct> & <int>\\\\\n\\hline\n\t Other  &   5\\\\\n\t Male   & 265\\\\\n\t Female & 301\\\\\n\\end{tabular}\n",
            "text/plain": [
              "  gender n  \n",
              "1 Other    5\n",
              "2 Male   265\n",
              "3 Female 301"
            ]
          },
          "metadata": {}
        },
        {
          "output_type": "display_data",
          "data": {
            "text/html": [
              "570"
            ],
            "text/markdown": "570",
            "text/latex": "570",
            "text/plain": [
              "[1] 570"
            ]
          },
          "metadata": {}
        },
        {
          "output_type": "stream",
          "name": "stdout",
          "text": [
            "                       Comparison     OR     L95    U95         p\n",
            "1          Part-time vs Full-time 0.4997 0.30312 0.8237 0.0065146\n",
            "2        Not working vs Full-time 0.4316 0.22987 0.8103 0.0089348\n",
            "3         Indirectly vs Unrelated 2.1124 1.14958 3.8817 0.0159941\n",
            "4           Directly vs Unrelated 2.5734 1.51996 4.3568 0.0004339\n",
            "5            Piloting vs Advanced 0.5130 0.28763 0.9150 0.0237677\n",
            "6          Developing vs Advanced 0.2805 0.13473 0.5838 0.0006767\n",
            "7      Not classified vs Advanced 0.8794 0.44833 1.7249 0.7084295\n",
            "8                  Age (per year) 1.0157 0.99531 1.0364 0.1323131\n",
            "9              UpperSec vs Higher 0.8706 0.53069 1.4281 0.5831251\n",
            "10             LowerSec vs Higher 0.6350 0.33647 1.1983 0.1610166\n",
            "11           No/Primary vs Higher 0.2079 0.08291 0.5211 0.0008074\n",
            "12 Agriculture/fisheries vs Other 1.0131 0.59621 1.7215 0.9616501\n",
            "13         Manufacturing vs Other 0.4128 0.12793 1.3319 0.1387533\n",
            "14         Public sector vs Other 0.8739 0.30872 2.4739 0.7996147\n",
            "15              Services vs Other 0.8413 0.45052 1.5711 0.5876676\n",
            "16               Tourism vs Other 0.9041 0.48871 1.6725 0.7479879\n",
            "17      Rp 2,638,628–Rp 8,442,602 1.1246 0.17572 7.1973 0.9013222\n",
            "18      Rp 1,688,520–Rp 2,638,628 0.7041 0.11468 4.3236 0.7048137\n",
            "19        Rp 448,928–Rp 1,688,520 0.7627 0.12477 4.6620 0.7692723\n",
            "20          Rp 351,957–Rp 448,928 1.2298 0.19697 7.6790 0.8247909\n",
            "21               Below Rp 351,957 1.3926 0.22523 8.6105 0.7216287\n",
            "22                    15–19 years 2.1452 1.27259 3.6160 0.0041720\n",
            "23                    10–14 years 0.7052 0.36231 1.3727 0.3040641\n",
            "24                      5–9 years 1.2852 0.60021 2.7517 0.5183743\n",
            "25                  Under 5 years 0.2139 0.07072 0.6470 0.0063153\n",
            "26                           Male 0.9074 0.10392 7.9223 0.9299363\n",
            "27                         Female 0.8570 0.09812 7.4845 0.8889678\n"
          ]
        }
      ]
    },
    {
      "cell_type": "code",
      "source": [
        "library(dplyr)\n",
        "library(sandwich)\n",
        "library(lmtest)\n",
        "\n",
        "# === 1) Buat ulang data yang dipakai model + kolom cluster (Village) ===\n",
        "dat_full_cl <- df6 %>%\n",
        "  dplyr::select(\n",
        "    overall_impact, emp_status, jobrel, tv_class,\n",
        "    Age_Raw, education, industry,\n",
        "    income, residence_len, gender,\n",
        "    Weight, Village\n",
        "  ) %>%\n",
        "  tidyr::drop_na()\n",
        "\n",
        "# Cek baris harus sama dengan model (m_full)\n",
        "cat(\"N dat_full_cl =\", nrow(dat_full_cl), \"\\n\")\n",
        "cat(\"N m_full      =\", nrow(model.frame(m_full)), \"\\n\")\n",
        "\n",
        "# === 2) Cluster-robust vcov by Village dari model clm berbobot (m_full) ===\n",
        "V_cl <- sandwich::vcovCL(m_full, cluster = dat_full_cl$Village)\n",
        "\n",
        "ct <- lmtest::coeftest(m_full, vcov = V_cl)\n",
        "\n",
        "# Ambil hanya efek prediktor (buang cutpoints/threshold)\n",
        "keep <- grepl(\"^(emp_status|jobrel|tv_class|Age_Raw|education|industry|income|residence_len|gender)\", rownames(ct))\n",
        "tab  <- ct[keep, , drop = FALSE]\n",
        "\n",
        "beta <- tab[, 1]; se <- tab[, 2]; p <- tab[, 4]\n",
        "OR   <- exp(beta); L95 <- exp(beta - 1.96*se); U95 <- exp(beta + 1.96*se)\n",
        "\n",
        "res_cl_vil <- data.frame(\n",
        "  Term = rownames(tab),\n",
        "  OR, L95, U95, p,\n",
        "  row.names = NULL\n",
        ") %>%\n",
        "  dplyr::mutate(\n",
        "    Comparison = dplyr::case_when(\n",
        "      Term == \"emp_statusPart-time\"              ~ \"Part-time vs Full-time\",\n",
        "      Term == \"emp_statusNot working\"            ~ \"Not working vs Full-time\",\n",
        "      Term == \"jobrelIndirectly related\"         ~ \"Indirectly vs Unrelated\",\n",
        "      Term == \"jobrelDirectly related\"           ~ \"Directly vs Unrelated\",\n",
        "      Term == \"tv_classPiloting\"                 ~ \"Piloting vs Advanced\",\n",
        "      Term == \"tv_classDeveloping\"               ~ \"Developing vs Advanced\",\n",
        "      Term == \"tv_classNot classified\"           ~ \"Not classified vs Advanced\",\n",
        "      Term == \"Age_Raw\"                          ~ \"Age (per year)\",\n",
        "      Term == \"educationUpperSec\"                ~ \"UpperSec vs Higher\",\n",
        "      Term == \"educationLowerSec\"                ~ \"LowerSec vs Higher\",\n",
        "      Term == \"educationNoPrimary\"               ~ \"No/Primary vs Higher\",\n",
        "      Term == \"industryAgriculture/fisheries\"    ~ \"Agriculture/fisheries vs Other\",\n",
        "      Term == \"industryManufacturing\"            ~ \"Manufacturing vs Other\",\n",
        "      Term == \"industryPublic sector\"            ~ \"Public sector vs Other\",\n",
        "      Term == \"industryServices\"                 ~ \"Services vs Other\",\n",
        "      Term == \"industryTourism\"                  ~ \"Tourism vs Other\",\n",
        "      grepl(\"^income\", Term)                     ~ sub(\"^income\", \"\", Term),\n",
        "      grepl(\"^residence_len\", Term)              ~ sub(\"^residence_len\", \"\", Term),\n",
        "      grepl(\"^gender\", Term)                     ~ sub(\"^gender\", \"\", Term),\n",
        "      TRUE ~ Term\n",
        "    )\n",
        "  ) %>%\n",
        "  dplyr::select(Comparison, OR, L95, U95, p)\n",
        "\n",
        "# Tampilkan 4 efek utama dulu\n",
        "print(\n",
        "  res_cl_vil %>% dplyr::filter(Comparison %in% c(\n",
        "    \"Part-time vs Full-time\",\"Not working vs Full-time\",\n",
        "    \"Indirectly vs Unrelated\",\"Directly vs Unrelated\"\n",
        "  )),\n",
        "  digits = 4\n",
        ")\n",
        "\n",
        "# (opsional) Semua efek:\n",
        "# print(res_cl_vil, digits = 4)\n"
      ],
      "metadata": {
        "colab": {
          "base_uri": "https://localhost:8080/"
        },
        "id": "ymIvEfJFUpZZ",
        "outputId": "56ea147d-9e63-4226-8173-3d8e93d630c7"
      },
      "execution_count": 28,
      "outputs": [
        {
          "output_type": "stream",
          "name": "stdout",
          "text": [
            "N dat_full_cl = 570 \n",
            "N m_full      = 570 \n",
            "                Comparison     OR    L95    U95         p\n",
            "1   Part-time vs Full-time 0.4997 0.2470 1.0107 0.0540712\n",
            "2 Not working vs Full-time 0.4316 0.2199 0.8472 0.0149168\n",
            "3  Indirectly vs Unrelated 2.1124 1.3445 3.3190 0.0012502\n",
            "4    Directly vs Unrelated 2.5734 1.4775 4.4820 0.0008978\n"
          ]
        }
      ]
    },
    {
      "cell_type": "code",
      "source": [
        "library(ordinal)\n",
        "library(dplyr)\n",
        "\n",
        "# Data untuk clmm (tanpa weight), lengkap dgn Village\n",
        "dat_clmm <- df6 %>%\n",
        "  dplyr::select(\n",
        "    overall_impact, emp_status, jobrel, tv_class,\n",
        "    Age_Raw, education, industry,\n",
        "    income, residence_len, gender,\n",
        "    Village\n",
        "  ) %>%\n",
        "  tidyr::drop_na()\n",
        "\n",
        "# Fit mixed-effects ordinal logit (random intercept by Village)\n",
        "m_clmm <- clmm(\n",
        "  overall_impact ~ emp_status + jobrel + tv_class +\n",
        "    Age_Raw + education + industry +\n",
        "    income + residence_len + gender +\n",
        "    (1 | Village),\n",
        "  data = dat_clmm,\n",
        "  link = \"logit\",\n",
        "  nAGQ = 10,               # kuadratur adaptif (stabil)\n",
        "  Hess = TRUE,\n",
        "  control = clmm.control(maxIter = 1000, gradTol = 1e-6)\n",
        ")\n",
        "\n",
        "summary(m_clmm)\n",
        "\n",
        "# Ekstrak OR, CI Wald 95%, p untuk efek tetap (bukan threshold)\n",
        "co <- summary(m_clmm)$coefficients  # kolom: Estimate, Std. Error, z value\n",
        "keep <- grepl(\"^(emp_status|jobrel|tv_class|Age_Raw|education|industry|income|residence_len|gender)\", rownames(co))\n",
        "co_eff <- co[keep, , drop = FALSE]\n",
        "\n",
        "beta <- co_eff[, \"Estimate\"]\n",
        "se   <- co_eff[, \"Std. Error\"]\n",
        "z    <- beta / se\n",
        "p    <- 2 * pnorm(abs(z), lower.tail = FALSE)\n",
        "\n",
        "res_clmm <- data.frame(\n",
        "  Term = rownames(co_eff),\n",
        "  OR   = exp(beta),\n",
        "  L95  = exp(beta - 1.96 * se),\n",
        "  U95  = exp(beta + 1.96 * se),\n",
        "  p    = p,\n",
        "  row.names = NULL\n",
        ") %>%\n",
        "  dplyr::mutate(\n",
        "    Comparison = dplyr::case_when(\n",
        "      Term == \"emp_statusPart-time\"              ~ \"Part-time vs Full-time\",\n",
        "      Term == \"emp_statusNot working\"            ~ \"Not working vs Full-time\",\n",
        "      Term == \"jobrelIndirectly related\"         ~ \"Indirectly vs Unrelated\",\n",
        "      Term == \"jobrelDirectly related\"           ~ \"Directly vs Unrelated\",\n",
        "      Term == \"tv_classPiloting\"                 ~ \"Piloting vs Advanced\",\n",
        "      Term == \"tv_classDeveloping\"               ~ \"Developing vs Advanced\",\n",
        "      Term == \"tv_classNot classified\"           ~ \"Not classified vs Advanced\",\n",
        "      Term == \"Age_Raw\"                          ~ \"Age (per year)\",\n",
        "      Term == \"educationUpperSec\"                ~ \"UpperSec vs Higher\",\n",
        "      Term == \"educationLowerSec\"                ~ \"LowerSec vs Higher\",\n",
        "      Term == \"educationNoPrimary\"               ~ \"No/Primary vs Higher\",\n",
        "      Term == \"industryAgriculture/fisheries\"    ~ \"Agriculture/fisheries vs Other\",\n",
        "      Term == \"industryManufacturing\"            ~ \"Manufacturing vs Other\",\n",
        "      Term == \"industryPublic sector\"            ~ \"Public sector vs Other\",\n",
        "      Term == \"industryServices\"                 ~ \"Services vs Other\",\n",
        "      Term == \"industryTourism\"                  ~ \"Tourism vs Other\",\n",
        "      grepl(\"^income\", Term)                     ~ sub(\"^income\", \"\", Term),\n",
        "      grepl(\"^residence_len\", Term)              ~ sub(\"^residence_len\", \"\", Term),\n",
        "      grepl(\"^gender\", Term)                     ~ sub(\"^gender\", \"\", Term),\n",
        "      TRUE ~ Term\n",
        "    )\n",
        "  ) %>%\n",
        "  dplyr::select(Comparison, OR, L95, U95, p)\n",
        "\n",
        "# Tampilkan 4 efek utama\n",
        "print(res_clmm %>% dplyr::filter(Comparison %in% c(\n",
        "  \"Part-time vs Full-time\",\"Not working vs Full-time\",\n",
        "  \"Indirectly vs Unrelated\",\"Directly vs Unrelated\"\n",
        ")), digits = 4)\n",
        "\n",
        "# (opsional) seluruh tabel:\n",
        "# print(res_clmm, digits = 4)\n"
      ],
      "metadata": {
        "colab": {
          "base_uri": "https://localhost:8080/",
          "height": 1000
        },
        "id": "jkP5GudDWkpd",
        "outputId": "c9802cab-cc59-4379-8107-354df3a51efd"
      },
      "execution_count": 29,
      "outputs": [
        {
          "output_type": "display_data",
          "data": {
            "text/plain": [
              "Cumulative Link Mixed Model fitted with the adaptive Gauss-Hermite \n",
              "quadrature approximation with 10 quadrature points \n",
              "\n",
              "formula: \n",
              "overall_impact ~ emp_status + jobrel + tv_class + Age_Raw + education +  \n",
              "    industry + income + residence_len + gender + (1 | Village)\n",
              "data:    dat_clmm\n",
              "\n",
              " link  threshold nobs logLik  AIC    niter       max.grad cond.H \n",
              " logit flexible  570  -397.85 859.70 4440(13329) 1.19e-03 8.4e+05\n",
              "\n",
              "Random effects:\n",
              " Groups  Name        Variance Std.Dev.\n",
              " Village (Intercept) 0.1135   0.3368  \n",
              "Number of groups:  Village 9 \n",
              "\n",
              "Coefficients:\n",
              "                                Estimate Std. Error z value Pr(>|z|)   \n",
              "emp_statusPart-time             -0.42260    0.26286  -1.608  0.10791   \n",
              "emp_statusNot working           -0.63456    0.31172  -2.036  0.04178 * \n",
              "jobrelIndirectly related         0.68807    0.31461   2.187  0.02874 * \n",
              "jobrelDirectly related           0.84604    0.28269   2.993  0.00276 **\n",
              "tv_classPiloting                -0.59957    0.39928  -1.502  0.13319   \n",
              "tv_classDeveloping              -1.17910    0.54157  -2.177  0.02947 * \n",
              "tv_classNot classified          -0.22739    0.45409  -0.501  0.61653   \n",
              "Age_Raw                          0.01371    0.01060   1.294  0.19573   \n",
              "educationUpperSec               -0.31806    0.25617  -1.242  0.21437   \n",
              "educationLowerSec               -0.44296    0.33375  -1.327  0.18444   \n",
              "educationNoPrimary              -0.94862    0.45097  -2.103  0.03542 * \n",
              "industryAgriculture/fisheries   -0.08707    0.26834  -0.324  0.74558   \n",
              "industryManufacturing           -0.90251    0.57534  -1.569  0.11673   \n",
              "industryPublic sector           -0.38118    0.54648  -0.698  0.48547   \n",
              "industryServices                -0.37819    0.32599  -1.160  0.24601   \n",
              "industryTourism                  0.05911    0.33832   0.175  0.86131   \n",
              "incomeRp 2,638,628–Rp 8,442,602  0.67795    0.93091   0.728  0.46645   \n",
              "incomeRp 1,688,520–Rp 2,638,628  0.21509    0.90056   0.239  0.81123   \n",
              "incomeRp 448,928–Rp 1,688,520    0.31834    0.89737   0.355  0.72278   \n",
              "incomeRp 351,957–Rp 448,928      0.70734    0.91799   0.771  0.44099   \n",
              "incomeBelow Rp 351,957           0.56131    0.90918   0.617  0.53698   \n",
              "residence_len15–19 years         0.63817    0.28079   2.273  0.02304 * \n",
              "residence_len10–14 years        -0.26461    0.35989  -0.735  0.46218   \n",
              "residence_len5–9 years           0.43818    0.40280   1.088  0.27667   \n",
              "residence_lenUnder 5 years      -1.00901    0.54398  -1.855  0.06361 . \n",
              "genderMale                       0.01180    1.12231   0.011  0.99161   \n",
              "genderFemale                     0.03045    1.12434   0.027  0.97840   \n",
              "---\n",
              "Signif. codes:  0 ‘***’ 0.001 ‘**’ 0.01 ‘*’ 0.05 ‘.’ 0.1 ‘ ’ 1\n",
              "\n",
              "Threshold coefficients:\n",
              "                       Estimate Std. Error z value\n",
              "Very negative|Negative  -6.7100     1.8394  -3.648\n",
              "Negative|Neutral        -6.0138     1.6979  -3.542\n",
              "Neutral|Positive        -3.9669     1.5680  -2.530\n",
              "Positive|Very positive   0.7318     1.5464   0.473"
            ]
          },
          "metadata": {}
        },
        {
          "output_type": "stream",
          "name": "stdout",
          "text": [
            "                Comparison     OR    L95    U95        p\n",
            "1   Part-time vs Full-time 0.6553 0.3915 1.0970 0.107907\n",
            "2 Not working vs Full-time 0.5302 0.2878 0.9767 0.041782\n",
            "3  Indirectly vs Unrelated 1.9899 1.0740 3.6866 0.028739\n",
            "4    Directly vs Unrelated 2.3304 1.3391 4.0556 0.002764\n"
          ]
        }
      ]
    },
    {
      "cell_type": "code",
      "source": [
        "library(ordinal)\n",
        "library(sandwich)\n",
        "library(lmtest)\n",
        "library(dplyr)\n",
        "\n",
        "# Pastikan dat_full (dari langkah sebelumnya) dan m_full (PO weighted) sudah ada\n",
        "\n",
        "# 1) Fit PPO: relaksasi PO khusus untuk jobrel\n",
        "m_ppo <- clm(\n",
        "  overall_impact ~ emp_status + jobrel + tv_class +\n",
        "    Age_Raw + education + industry +\n",
        "    income + residence_len + gender,\n",
        "  nominal = ~ jobrel,               # <-- PPO utk jobrel saja\n",
        "  data = dat_full,\n",
        "  weights = Weight,\n",
        "  link = \"logit\"\n",
        ")\n",
        "\n",
        "# 2) Perbandingan PO vs PPO (uji LRT; informasi model)\n",
        "anova(m_full, m_ppo)  # jika signifikan → PPO memberi peningkatan kecocokan\n",
        "\n",
        "# 3) Cluster-robust SE by Village untuk m_ppo\n",
        "Vcl_ppo <- sandwich::vcovCL(m_ppo, cluster = dat_full$Village)\n",
        "ct_ppo  <- lmtest::coeftest(m_ppo, vcov = Vcl_ppo)\n",
        "\n",
        "# 4) Ambil koefisien PREDIKTOR SAJA (buang threshold)\n",
        "keep_all <- grepl(\"^(emp_status|jobrel|tv_class|Age_Raw|education|industry|income|residence_len|gender)\",\n",
        "                  rownames(ct_ppo))\n",
        "tab_all  <- ct_ppo[keep_all, , drop = FALSE]\n",
        "\n",
        "# 4a) Ringkasan efek utama lain (emp_status dsb.) → tetap satu OR (seperti model PO)\n",
        "keep_main <- grepl(\"^(emp_status|tv_class|Age_Raw|education|industry|income|residence_len|gender)\",\n",
        "                   rownames(tab_all))\n",
        "main_tab  <- tab_all[keep_main, , drop = FALSE]\n",
        "\n",
        "# 4b) Koefisien 'jobrel' pada PPO adalah per-ambang (cutpoint-specific).\n",
        "#     Kita ambil semua baris yang mengandung 'jobrel' → hitung OR per ambang.\n",
        "keep_jobrel <- grepl(\"^jobrel\", rownames(tab_all))\n",
        "jobrel_tab  <- tab_all[keep_jobrel, , drop = FALSE]\n",
        "\n",
        "# 5) Hitung OR, CI95, p\n",
        "fmt_tbl <- function(tab) {\n",
        "  beta <- tab[,1]; se <- tab[,2]; p <- tab[,4]\n",
        "  data.frame(\n",
        "    Term = rownames(tab),\n",
        "    OR   = exp(beta),\n",
        "    L95  = exp(beta - 1.96*se),\n",
        "    U95  = exp(beta + 1.96*se),\n",
        "    p    = p,\n",
        "    row.names = NULL\n",
        "  )\n",
        "}\n",
        "\n",
        "res_main   <- fmt_tbl(main_tab) %>%\n",
        "  mutate(Comparison = case_when(\n",
        "    Term == \"emp_statusPart-time\"              ~ \"Part-time vs Full-time\",\n",
        "    Term == \"emp_statusNot working\"            ~ \"Not working vs Full-time\",\n",
        "    Term == \"tv_classPiloting\"                 ~ \"Piloting vs Advanced\",\n",
        "    Term == \"tv_classDeveloping\"               ~ \"Developing vs Advanced\",\n",
        "    Term == \"tv_classNot classified\"           ~ \"Not classified vs Advanced\",\n",
        "    Term == \"Age_Raw\"                          ~ \"Age (per year)\",\n",
        "    Term == \"educationUpperSec\"                ~ \"UpperSec vs Higher\",\n",
        "    Term == \"educationLowerSec\"                ~ \"LowerSec vs Higher\",\n",
        "    Term == \"educationNoPrimary\"               ~ \"No/Primary vs Higher\",\n",
        "    Term == \"industryAgriculture/fisheries\"    ~ \"Agriculture/fisheries vs Other\",\n",
        "    Term == \"industryManufacturing\"            ~ \"Manufacturing vs Other\",\n",
        "    Term == \"industryPublic sector\"            ~ \"Public sector vs Other\",\n",
        "    Term == \"industryServices\"                 ~ \"Services vs Other\",\n",
        "    Term == \"industryTourism\"                  ~ \"Tourism vs Other\",\n",
        "    grepl(\"^income\", Term)                     ~ sub(\"^income\", \"\", Term),\n",
        "    grepl(\"^residence_len\", Term)              ~ sub(\"^residence_len\", \"\", Term),\n",
        "    grepl(\"^gender\", Term)                     ~ sub(\"^gender\", \"\", Term),\n",
        "    TRUE ~ Term\n",
        "  )) %>%\n",
        "  dplyr::select(Comparison, OR, L95, U95, p)\n",
        "\n",
        "# 6) Untuk jobrel (PPO): tampilkan OR per ambang (namanya biasanya mengandung label ambang).\n",
        "#    Biarkan nama aslinya agar jelas ambang mana; nanti kita rangkum rentangnya.\n",
        "res_jobrel <- fmt_tbl(jobrel_tab)\n",
        "\n",
        "# 7) Cetak ringkas:\n",
        "cat(\"\\n== LRT PO vs PPO (jobrel only) ==\\n\")\n",
        "print(anova(m_full, m_ppo), digits = 4)\n",
        "\n",
        "cat(\"\\n== Efek utama (selain jobrel) – OR cluster-robust ==\\n\")\n",
        "print(\n",
        "  res_main %>% filter(Comparison %in% c(\n",
        "    \"Part-time vs Full-time\",\"Not working vs Full-time\",\n",
        "    \"Piloting vs Advanced\",\"Developing vs Advanced\",\n",
        "    \"Age (per year)\"\n",
        "  )),\n",
        "  digits = 4\n",
        ")\n",
        "\n",
        "cat(\"\\n== jobrel (PPO) – OR per ambang (cluster-robust) ==\\n\")\n",
        "print(res_jobrel, digits = 4)\n",
        "\n",
        "# 8) (opsional) rangkum 'kisaran' OR untuk jobrel per kategori\n",
        "rng <- res_jobrel %>%\n",
        "  mutate(group = ifelse(grepl(\"Indirectly\", Term), \"Indirectly vs Unrelated\",\n",
        "                        ifelse(grepl(\"Directly\", Term), \"Directly vs Unrelated\", \"Other\"))) %>%\n",
        "  group_by(group) %>%\n",
        "  summarise(OR_min = min(OR, na.rm=TRUE), OR_max = max(OR, na.rm=TRUE),\n",
        "            L95_min = min(L95, na.rm=TRUE), U95_max = max(U95, na.rm=TRUE),\n",
        "            .groups = \"drop\")\n",
        "\n",
        "cat(\"\\n== Ringkasan kisaran OR jobrel (per ambang) ==\\n\")\n",
        "print(rng, digits = 4)\n"
      ],
      "metadata": {
        "colab": {
          "base_uri": "https://localhost:8080/",
          "height": 511
        },
        "id": "LpOYqdfPXAu8",
        "outputId": "9a1594a7-9bf2-4924-d2bb-cc3874879b49"
      },
      "execution_count": 30,
      "outputs": [
        {
          "output_type": "stream",
          "name": "stderr",
          "text": [
            "Warning message:\n",
            "“(-1) Model failed to converge with max|grad| = 120.108 (tol = 1e-06) \n",
            "In addition: maximum number of consecutive Newton modifications reached”\n"
          ]
        },
        {
          "output_type": "display_data",
          "data": {
            "text/html": [
              "<table class=\"dataframe\">\n",
              "<caption>A anova.clm: 2 × 6</caption>\n",
              "<thead>\n",
              "\t<tr><th></th><th scope=col>no.par</th><th scope=col>AIC</th><th scope=col>logLik</th><th scope=col>LR.stat</th><th scope=col>df</th><th scope=col>Pr(&gt;Chisq)</th></tr>\n",
              "\t<tr><th></th><th scope=col>&lt;int&gt;</th><th scope=col>&lt;dbl&gt;</th><th scope=col>&lt;dbl&gt;</th><th scope=col>&lt;dbl&gt;</th><th scope=col>&lt;int&gt;</th><th scope=col>&lt;dbl&gt;</th></tr>\n",
              "</thead>\n",
              "<tbody>\n",
              "\t<tr><th scope=row>m_full</th><td>31</td><td>865.9607</td><td>-401.9803</td><td>      NA</td><td>NA</td><td>         NA</td></tr>\n",
              "\t<tr><th scope=row>m_ppo</th><td>37</td><td>859.4423</td><td>-392.7212</td><td>18.51837</td><td> 6</td><td>0.005059293</td></tr>\n",
              "</tbody>\n",
              "</table>\n"
            ],
            "text/markdown": "\nA anova.clm: 2 × 6\n\n| <!--/--> | no.par &lt;int&gt; | AIC &lt;dbl&gt; | logLik &lt;dbl&gt; | LR.stat &lt;dbl&gt; | df &lt;int&gt; | Pr(&gt;Chisq) &lt;dbl&gt; |\n|---|---|---|---|---|---|---|\n| m_full | 31 | 865.9607 | -401.9803 |       NA | NA |          NA |\n| m_ppo | 37 | 859.4423 | -392.7212 | 18.51837 |  6 | 0.005059293 |\n\n",
            "text/latex": "A anova.clm: 2 × 6\n\\begin{tabular}{r|llllll}\n  & no.par & AIC & logLik & LR.stat & df & Pr(>Chisq)\\\\\n  & <int> & <dbl> & <dbl> & <dbl> & <int> & <dbl>\\\\\n\\hline\n\tm\\_full & 31 & 865.9607 & -401.9803 &       NA & NA &          NA\\\\\n\tm\\_ppo & 37 & 859.4423 & -392.7212 & 18.51837 &  6 & 0.005059293\\\\\n\\end{tabular}\n",
            "text/plain": [
              "       no.par AIC      logLik    LR.stat  df Pr(>Chisq) \n",
              "m_full 31     865.9607 -401.9803       NA NA          NA\n",
              "m_ppo  37     859.4423 -392.7212 18.51837  6 0.005059293"
            ]
          },
          "metadata": {}
        },
        {
          "output_type": "error",
          "ename": "ERROR",
          "evalue": "Error in estfun.clm(x, ...): estimating functions for scale regression not implemented yet\n",
          "traceback": [
            "Error in estfun.clm(x, ...): estimating functions for scale regression not implemented yet\nTraceback:\n",
            "1. meatCL(x, cluster = cluster, type = type, ...)",
            "2. estfun(x, ...)",
            "3. estfun.clm(x, ...)",
            "4. stop(\"estimating functions for scale regression not implemented yet\")",
            "5. .handleSimpleError(function (cnd) \n . {\n .     watcher$capture_plot_and_output()\n .     cnd <- sanitize_call(cnd)\n .     watcher$push(cnd)\n .     switch(on_error, continue = invokeRestart(\"eval_continue\"), \n .         stop = invokeRestart(\"eval_stop\"), error = NULL)\n . }, \"estimating functions for scale regression not implemented yet\", \n .     base::quote(estfun.clm(x, ...)))"
          ]
        }
      ]
    },
    {
      "cell_type": "code",
      "source": [
        "# === OR per ambang untuk jobrel dari model PPO (SE Wald, non-cluster) ===\n",
        "summ_ppo <- summary(m_ppo)\n",
        "co_ppo   <- summ_ppo$coefficients\n",
        "\n",
        "# Ambil baris koefisien yang terkait jobrel (threshold-specific)\n",
        "job_idx  <- grepl(\"^jobrel\", rownames(co_ppo))\n",
        "job_tab  <- co_ppo[job_idx, , drop = FALSE]\n",
        "\n",
        "beta <- job_tab[, \"Estimate\"]\n",
        "se   <- job_tab[, \"Std. Error\"]\n",
        "z    <- beta / se\n",
        "p    <- 2 * pnorm(abs(z), lower.tail = FALSE)\n",
        "\n",
        "res_jobrel_wald <- data.frame(\n",
        "  Term = rownames(job_tab),\n",
        "  OR   = exp(beta),\n",
        "  L95  = exp(beta - 1.96 * se),\n",
        "  U95  = exp(beta + 1.96 * se),\n",
        "  p    = p,\n",
        "  row.names = NULL\n",
        ")\n",
        "\n",
        "# Tampilkan tabel per-ambang (namanya memang menyertakan ambang cutpoint)\n",
        "print(res_jobrel_wald, digits = 4)\n",
        "\n",
        "# Ringkas kisaran OR per kelompok (Indirectly/Directly)\n",
        "library(dplyr)\n",
        "rng_jobrel <- res_jobrel_wald %>%\n",
        "  mutate(group = case_when(\n",
        "    grepl(\"Indirect\", Term) ~ \"Indirectly vs Unrelated\",\n",
        "    grepl(\"Direct\",   Term) ~ \"Directly vs Unrelated\",\n",
        "    TRUE                    ~ \"Other\"\n",
        "  )) %>%\n",
        "  group_by(group) %>%\n",
        "  summarise(\n",
        "    OR_min  = min(OR,  na.rm = TRUE),\n",
        "    OR_max  = max(OR,  na.rm = TRUE),\n",
        "    L95_min = min(L95, na.rm = TRUE),\n",
        "    U95_max = max(U95, na.rm = TRUE),\n",
        "    .groups = \"drop\"\n",
        "  )\n",
        "\n",
        "cat(\"\\n== Ringkasan kisaran OR jobrel (per ambang, SE Wald) ==\\n\")\n",
        "print(rng_jobrel, digits = 4)\n"
      ],
      "metadata": {
        "colab": {
          "base_uri": "https://localhost:8080/"
        },
        "id": "k-zzxVUoXW6b",
        "outputId": "5fd9150a-a489-4976-abe9-e32e322b6d48"
      },
      "execution_count": 31,
      "outputs": [
        {
          "output_type": "stream",
          "name": "stdout",
          "text": [
            "                      Term OR L95 U95  p\n",
            "1 jobrelIndirectly related NA  NA  NA NA\n",
            "2   jobrelDirectly related NA  NA  NA NA\n"
          ]
        },
        {
          "output_type": "stream",
          "name": "stderr",
          "text": [
            "Warning message:\n",
            "“\u001b[1m\u001b[22mThere were 8 warnings in `summarise()`.\n",
            "The first warning was:\n",
            "\u001b[1m\u001b[22m\u001b[36mℹ\u001b[39m In argument: `OR_min = min(OR, na.rm = TRUE)`.\n",
            "\u001b[36mℹ\u001b[39m In group 1: `group = \"Directly vs Unrelated\"`.\n",
            "Caused by warning in `min()`:\n",
            "\u001b[33m!\u001b[39m no non-missing arguments to min; returning Inf\n",
            "\u001b[1m\u001b[22m\u001b[36mℹ\u001b[39m Run `dplyr::last_dplyr_warnings()` to see the 7 remaining warnings.”\n"
          ]
        },
        {
          "output_type": "stream",
          "name": "stdout",
          "text": [
            "\n",
            "== Ringkasan kisaran OR jobrel (per ambang, SE Wald) ==\n",
            "\u001b[90m# A tibble: 2 × 5\u001b[39m\n",
            "  group                   OR_min OR_max L95_min U95_max\n",
            "  \u001b[3m\u001b[90m<chr>\u001b[39m\u001b[23m                    \u001b[3m\u001b[90m<dbl>\u001b[39m\u001b[23m  \u001b[3m\u001b[90m<dbl>\u001b[39m\u001b[23m   \u001b[3m\u001b[90m<dbl>\u001b[39m\u001b[23m   \u001b[3m\u001b[90m<dbl>\u001b[39m\u001b[23m\n",
            "\u001b[90m1\u001b[39m Directly vs Unrelated      \u001b[31mInf\u001b[39m   -\u001b[31mInf\u001b[39m     \u001b[31mInf\u001b[39m    -\u001b[31mInf\u001b[39m\n",
            "\u001b[90m2\u001b[39m Indirectly vs Unrelated    \u001b[31mInf\u001b[39m   -\u001b[31mInf\u001b[39m     \u001b[31mInf\u001b[39m    -\u001b[31mInf\u001b[39m\n"
          ]
        }
      ]
    },
    {
      "cell_type": "code",
      "source": [
        "library(dplyr)\n",
        "library(ordinal)\n",
        "library(sandwich)\n",
        "library(lmtest)\n",
        "\n",
        "# Subset strict insider: keep only Directly & Unrelated\n",
        "dat_strict <- df6 %>%\n",
        "  dplyr::select(\n",
        "    overall_impact, emp_status, jobrel, tv_class,\n",
        "    Age_Raw, education, industry,\n",
        "    income, residence_len, gender,\n",
        "    Weight, Village\n",
        "  ) %>%\n",
        "  tidyr::drop_na() %>%\n",
        "  dplyr::filter(jobrel %in% c(\"Directly related\",\"Unrelated\")) %>%\n",
        "  droplevels()\n",
        "\n",
        "# Refit CLM (weighted)\n",
        "m_strict <- clm(\n",
        "  overall_impact ~ emp_status + jobrel + tv_class +\n",
        "    Age_Raw + education + industry +\n",
        "    income + residence_len + gender,\n",
        "  data = dat_strict, weights = Weight, link = \"logit\"\n",
        ")\n",
        "\n",
        "# Cluster-robust SE by Village\n",
        "Vcl_strict <- sandwich::vcovCL(m_strict, cluster = dat_strict$Village)\n",
        "ct_strict  <- lmtest::coeftest(m_strict, vcov = Vcl_strict)\n",
        "\n",
        "# Ambil satu efek kunci: Directly vs Unrelated\n",
        "row <- \"jobrelDirectly related\"\n",
        "beta <- ct_strict[row, 1]; se <- ct_strict[row, 2]; p <- ct_strict[row, 4]\n",
        "OR   <- exp(beta); L95 <- exp(beta - 1.96*se); U95 <- exp(beta + 1.96*se)\n",
        "\n",
        "data.frame(\n",
        "  Comparison = \"Directly vs Unrelated (strict insider)\",\n",
        "  OR = OR, L95 = L95, U95 = U95, p = p\n",
        ")\n"
      ],
      "metadata": {
        "colab": {
          "base_uri": "https://localhost:8080/",
          "height": 129
        },
        "id": "AZlwnGifYJgL",
        "outputId": "85139b27-add8-4623-b158-977791d46a03"
      },
      "execution_count": 32,
      "outputs": [
        {
          "output_type": "display_data",
          "data": {
            "text/html": [
              "<table class=\"dataframe\">\n",
              "<caption>A data.frame: 1 × 5</caption>\n",
              "<thead>\n",
              "\t<tr><th scope=col>Comparison</th><th scope=col>OR</th><th scope=col>L95</th><th scope=col>U95</th><th scope=col>p</th></tr>\n",
              "\t<tr><th scope=col>&lt;chr&gt;</th><th scope=col>&lt;dbl&gt;</th><th scope=col>&lt;dbl&gt;</th><th scope=col>&lt;dbl&gt;</th><th scope=col>&lt;dbl&gt;</th></tr>\n",
              "</thead>\n",
              "<tbody>\n",
              "\t<tr><td>Directly vs Unrelated (strict insider)</td><td>2.475861</td><td>1.235403</td><td>4.961851</td><td>0.01090569</td></tr>\n",
              "</tbody>\n",
              "</table>\n"
            ],
            "text/markdown": "\nA data.frame: 1 × 5\n\n| Comparison &lt;chr&gt; | OR &lt;dbl&gt; | L95 &lt;dbl&gt; | U95 &lt;dbl&gt; | p &lt;dbl&gt; |\n|---|---|---|---|---|\n| Directly vs Unrelated (strict insider) | 2.475861 | 1.235403 | 4.961851 | 0.01090569 |\n\n",
            "text/latex": "A data.frame: 1 × 5\n\\begin{tabular}{lllll}\n Comparison & OR & L95 & U95 & p\\\\\n <chr> & <dbl> & <dbl> & <dbl> & <dbl>\\\\\n\\hline\n\t Directly vs Unrelated (strict insider) & 2.475861 & 1.235403 & 4.961851 & 0.01090569\\\\\n\\end{tabular}\n",
            "text/plain": [
              "  Comparison                             OR       L95      U95      p         \n",
              "1 Directly vs Unrelated (strict insider) 2.475861 1.235403 4.961851 0.01090569"
            ]
          },
          "metadata": {}
        }
      ]
    },
    {
      "cell_type": "code",
      "source": [
        "library(dplyr)\n",
        "library(ordinal)\n",
        "library(sandwich)\n",
        "library(lmtest)\n",
        "\n",
        "# === 0) Mulai dari df6 yang sudah punya faktor siap pakai ===\n",
        "# Proxy flags\n",
        "dat_e2 <- df6 %>%\n",
        "  dplyr::select(\n",
        "    overall_impact, emp_status, jobrel, tv_class,\n",
        "    Age_Raw, education, industry,\n",
        "    income, residence_len, gender,\n",
        "    Weight, Village\n",
        "  ) %>%\n",
        "  tidyr::drop_na() %>%\n",
        "  mutate(\n",
        "    student_proxy  = Age_Raw <= 22 & emp_status %in% c(\"Not working\",\"Part-time\"),\n",
        "    retiree_proxy  = Age_Raw >  60\n",
        "  )\n",
        "\n",
        "# Ringkas jumlah kasus yang akan dikecualikan\n",
        "n0   <- nrow(dat_e2)\n",
        "n_st <- sum(dat_e2$student_proxy, na.rm = TRUE)\n",
        "n_rt <- sum(dat_e2$retiree_proxy, na.rm = TRUE)\n",
        "\n",
        "cat(\"N awal        :\", n0, \"\\n\")\n",
        "cat(\"Student proxy :\", n_st, \"\\n\")\n",
        "cat(\"Retiree proxy :\", n_rt, \"\\n\")\n",
        "\n",
        "# Filter out students & retirees\n",
        "dat_e2f <- dat_e2 %>%\n",
        "  filter(!student_proxy, !retiree_proxy) %>%\n",
        "  droplevels()\n",
        "\n",
        "cat(\"N setelah eksklusi :\", nrow(dat_e2f), \"\\n\")\n",
        "\n",
        "# === 1) Fit CLM berbobot (spesifikasi sama dengan model utama) ===\n",
        "m_e2 <- clm(\n",
        "  overall_impact ~ emp_status + jobrel + tv_class +\n",
        "    Age_Raw + education + industry +\n",
        "    income + residence_len + gender,\n",
        "  data   = dat_e2f,\n",
        "  weights = Weight,\n",
        "  link   = \"logit\"\n",
        ")\n",
        "\n",
        "# === 2) Cluster-robust SE by Village ===\n",
        "V_cl_e2 <- sandwich::vcovCL(m_e2, cluster = dat_e2f$Village)\n",
        "ct_e2   <- lmtest::coeftest(m_e2, vcov = V_cl_e2)\n",
        "\n",
        "# Ambil 4 efek utama\n",
        "keep <- rownames(ct_e2) %in% c(\n",
        "  \"emp_statusPart-time\",\n",
        "  \"emp_statusNot working\",\n",
        "  \"jobrelIndirectly related\",\n",
        "  \"jobrelDirectly related\"\n",
        ")\n",
        "tab4 <- ct_e2[keep, , drop = FALSE]\n",
        "\n",
        "beta <- tab4[,1]; se <- tab4[,2]; p <- tab4[,4]\n",
        "OR   <- exp(beta); L95 <- exp(beta - 1.96*se); U95 <- exp(beta + 1.96*se)\n",
        "\n",
        "res_e2 <- data.frame(\n",
        "  Comparison = c(\"Part-time vs Full-time\",\n",
        "                 \"Not working vs Full-time\",\n",
        "                 \"Indirectly vs Unrelated\",\n",
        "                 \"Directly vs Unrelated\"),\n",
        "  OR = OR, L95 = L95, U95 = U95, p = p,\n",
        "  row.names = NULL\n",
        ")\n",
        "\n",
        "print(res_e2, digits = 4)\n"
      ],
      "metadata": {
        "colab": {
          "base_uri": "https://localhost:8080/"
        },
        "id": "M0wtImcAZ7Rw",
        "outputId": "469e5f2a-930a-4127-dbbd-9b30574bde39"
      },
      "execution_count": 33,
      "outputs": [
        {
          "output_type": "stream",
          "name": "stdout",
          "text": [
            "N awal        : 570 \n",
            "Student proxy : 94 \n",
            "Retiree proxy : 0 \n",
            "N setelah eksklusi : 476 \n"
          ]
        },
        {
          "output_type": "stream",
          "name": "stderr",
          "text": [
            "Warning message:\n",
            "“(1) Hessian is numerically singular: parameters are not uniquely determined \n",
            "In addition: Absolute convergence criterion was met, but relative criterion was not met”\n"
          ]
        },
        {
          "output_type": "stream",
          "name": "stdout",
          "text": [
            "                Comparison     OR L95 U95  p\n",
            "1   Part-time vs Full-time 0.5233  NA  NA NA\n",
            "2 Not working vs Full-time 0.4120  NA  NA NA\n",
            "3  Indirectly vs Unrelated 2.0658  NA  NA NA\n",
            "4    Directly vs Unrelated 2.6005  NA  NA NA\n"
          ]
        }
      ]
    },
    {
      "cell_type": "code",
      "source": [
        "library(dplyr)\n",
        "library(ordinal)\n",
        "library(sandwich)\n",
        "library(lmtest)\n",
        "\n",
        "# Mulai dari dat_e2f (sudah exclude students/retirees) yang Anda buat barusan:\n",
        "# (kalau belum ada di sesi, buat ulang ringkas)\n",
        "dat_e2f <- df6 %>%\n",
        "  dplyr::select(\n",
        "    overall_impact, emp_status, jobrel, tv_class,\n",
        "    Age_Raw, education, residence_len,  # <-- simpan inti; drop income/industry/gender agar stabil\n",
        "    Weight, Village\n",
        "  ) %>%\n",
        "  tidyr::drop_na() %>%\n",
        "  mutate(\n",
        "    student_proxy  = Age_Raw <= 22 & emp_status %in% c(\"Not working\",\"Part-time\"),\n",
        "    retiree_proxy  = Age_Raw > 60\n",
        "  ) %>%\n",
        "  filter(!student_proxy, !retiree_proxy) %>%\n",
        "  droplevels()\n",
        "\n",
        "# Fit CLM (logit) berbobot\n",
        "m_e2_lean <- clm(\n",
        "  overall_impact ~ emp_status + jobrel + tv_class +\n",
        "    Age_Raw + education + residence_len,\n",
        "  data   = dat_e2f,\n",
        "  weights = Weight,\n",
        "  link   = \"logit\"\n",
        ")\n",
        "\n",
        "# SE klaster per desa\n",
        "Vcl_e2_lean <- sandwich::vcovCL(m_e2_lean, cluster = dat_e2f$Village)\n",
        "ct_e2_lean  <- lmtest::coeftest(m_e2_lean, vcov = Vcl_e2_lean)\n",
        "\n",
        "# Ambil 4 efek utama\n",
        "keep <- rownames(ct_e2_lean) %in% c(\n",
        "  \"emp_statusPart-time\",\n",
        "  \"emp_statusNot working\",\n",
        "  \"jobrelIndirectly related\",\n",
        "  \"jobrelDirectly related\"\n",
        ")\n",
        "tab4 <- ct_e2_lean[keep, , drop = FALSE]\n",
        "\n",
        "beta <- tab4[,1]; se <- tab4[,2]; p <- tab4[,4]\n",
        "OR   <- exp(beta); L95 <- exp(beta - 1.96*se); U95 <- exp(beta + 1.96*se)\n",
        "\n",
        "res_e2_lean <- data.frame(\n",
        "  Comparison = c(\"Part-time vs Full-time\",\n",
        "                 \"Not working vs Full-time\",\n",
        "                 \"Indirectly vs Unrelated\",\n",
        "                 \"Directly vs Unrelated\"),\n",
        "  OR = OR, L95 = L95, U95 = U95, p = p,\n",
        "  row.names = NULL\n",
        ")\n",
        "\n",
        "print(res_e2_lean, digits = 4)\n"
      ],
      "metadata": {
        "colab": {
          "base_uri": "https://localhost:8080/"
        },
        "id": "7Q4SzSGWaUlV",
        "outputId": "298f087e-c5cf-4a98-833a-8db34e0bd0ce"
      },
      "execution_count": 34,
      "outputs": [
        {
          "output_type": "stream",
          "name": "stdout",
          "text": [
            "                Comparison     OR    L95    U95         p\n",
            "1   Part-time vs Full-time 0.5687 0.2925 1.1057 0.0968287\n",
            "2 Not working vs Full-time 0.5273 0.3020 0.9204 0.0247961\n",
            "3  Indirectly vs Unrelated 2.3825 1.3956 4.0673 0.0015611\n",
            "4    Directly vs Unrelated 2.6043 1.4996 4.5226 0.0007332\n"
          ]
        }
      ]
    },
    {
      "cell_type": "code",
      "source": [
        "library(dplyr)\n",
        "library(sandwich)\n",
        "library(lmtest)\n",
        "\n",
        "set.seed(123)\n",
        "\n",
        "# 1) Siapkan data cluster dari 4 dimensi dampak\n",
        "dat_km <- df6 %>%\n",
        "  dplyr::select(\n",
        "    overall_impact,           # untuk labeling sanity-check\n",
        "    Econ_Change, Soc_Change, Env_Change, Gov_Change,\n",
        "    emp_status, jobrel, tv_class,\n",
        "    Age_Raw, education, residence_len,\n",
        "    Weight, Village\n",
        "  ) %>%\n",
        "  tidyr::drop_na()\n",
        "\n",
        "# Skala variabel dampak (mean=0, sd=1)\n",
        "X <- scale(dat_km[, c(\"Econ_Change\",\"Soc_Change\",\"Env_Change\",\"Gov_Change\")])\n",
        "\n",
        "# 2) K-means 2 cluster\n",
        "km <- kmeans(X, centers = 2, nstart = 50)\n",
        "\n",
        "# 3) Label cluster: \"optimist\" = cluster dengan rata-rata overall_impact tertinggi\n",
        "dat_km$cluster <- factor(km$cluster)\n",
        "lab <- dat_km %>%\n",
        "  group_by(cluster) %>%\n",
        "  summarise(mean_overall = mean(as.numeric(overall_impact), na.rm=TRUE), .groups=\"drop\") %>%\n",
        "  arrange(desc(mean_overall)) %>%\n",
        "  mutate(label = c(\"optimist\",\"critic\"))\n",
        "\n",
        "map_lab <- setNames(lab$label, lab$cluster)\n",
        "dat_km$cluster_lab <- factor(map_lab[dat_km$cluster], levels = c(\"critic\",\"optimist\"))  # ref=critic\n",
        "\n",
        "# 4) Ringkas cross-tab cepat (cek pola kasar)\n",
        "cat(\"\\n== Crosstab jobrel x cluster ==\\n\")\n",
        "print(dat_km %>% count(jobrel, cluster_lab) %>% tidyr::pivot_wider(names_from = cluster_lab, values_from = n, values_fill = 0))\n",
        "\n",
        "cat(\"\\n== Crosstab emp_status x cluster ==\\n\")\n",
        "print(dat_km %>% count(emp_status, cluster_lab) %>% tidyr::pivot_wider(names_from = cluster_lab, values_from = n, values_fill = 0))\n",
        "\n",
        "# 5) Logit berbobot: P(optimist) ~ jobrel + emp_status + kovariat inti ; SE klaster per Village\n",
        "#    (pakai family=binomial, weights=Weight, vcovCL untuk cluster by Village)\n",
        "dat_km$y_opt <- as.integer(dat_km$cluster_lab == \"optimist\")\n",
        "\n",
        "m_km <- glm(\n",
        "  y_opt ~ jobrel + emp_status + tv_class + Age_Raw + education + residence_len,\n",
        "  family = binomial(link = \"logit\"),\n",
        "  data   = dat_km,\n",
        "  weights = Weight\n",
        ")\n",
        "\n",
        "V_km <- sandwich::vcovCL(m_km, cluster = dat_km$Village)\n",
        "ct_km <- lmtest::coeftest(m_km, vcov = V_km)\n",
        "\n",
        "# Ambil 4 efek utama yang kita pedulikan\n",
        "rows <- c(\"emp_statusPart-time\",\"emp_statusNot working\",\"jobrelIndirectly related\",\"jobrelDirectly related\")\n",
        "tab4 <- ct_km[rows, , drop = FALSE]\n",
        "\n",
        "beta <- tab4[,1]; se <- tab4[,2]; p <- tab4[,4]\n",
        "OR   <- exp(beta); L95 <- exp(beta - 1.96*se); U95 <- exp(beta + 1.96*se)\n",
        "\n",
        "res_km <- data.frame(\n",
        "  Comparison = c(\"Part-time vs Full-time (optimist odds)\",\n",
        "                 \"Not working vs Full-time (optimist odds)\",\n",
        "                 \"Indirectly vs Unrelated (optimist odds)\",\n",
        "                 \"Directly vs Unrelated (optimist odds)\"),\n",
        "  OR = OR, L95 = L95, U95 = U95, p = p,\n",
        "  row.names = NULL\n",
        ")\n",
        "\n",
        "cat(\"\\n== Logit hasil utama (cluster-robust by Village) ==\\n\")\n",
        "print(res_km, digits = 4)\n"
      ],
      "metadata": {
        "colab": {
          "base_uri": "https://localhost:8080/"
        },
        "id": "3SSbLqc5aql7",
        "outputId": "022404b5-4518-48a8-cb2f-334f2bf0ba17"
      },
      "execution_count": 35,
      "outputs": [
        {
          "output_type": "stream",
          "name": "stdout",
          "text": [
            "\n",
            "== Crosstab jobrel x cluster ==\n",
            "\u001b[90m# A tibble: 3 × 3\u001b[39m\n",
            "  jobrel             critic optimist\n",
            "  \u001b[3m\u001b[90m<fct>\u001b[39m\u001b[23m               \u001b[3m\u001b[90m<int>\u001b[39m\u001b[23m    \u001b[3m\u001b[90m<int>\u001b[39m\u001b[23m\n",
            "\u001b[90m1\u001b[39m Unrelated              29      342\n",
            "\u001b[90m2\u001b[39m Indirectly related      8       63\n",
            "\u001b[90m3\u001b[39m Directly related       21      107\n",
            "\n",
            "== Crosstab emp_status x cluster ==\n",
            "\u001b[90m# A tibble: 3 × 3\u001b[39m\n",
            "  emp_status  critic optimist\n",
            "  \u001b[3m\u001b[90m<fct>\u001b[39m\u001b[23m        \u001b[3m\u001b[90m<int>\u001b[39m\u001b[23m    \u001b[3m\u001b[90m<int>\u001b[39m\u001b[23m\n",
            "\u001b[90m1\u001b[39m Full-time       19      158\n",
            "\u001b[90m2\u001b[39m Part-time       30      194\n",
            "\u001b[90m3\u001b[39m Not working      9      160\n"
          ]
        },
        {
          "output_type": "stream",
          "name": "stderr",
          "text": [
            "Warning message in eval(family$initialize):\n",
            "“non-integer #successes in a binomial glm!”\n"
          ]
        },
        {
          "output_type": "stream",
          "name": "stdout",
          "text": [
            "\n",
            "== Logit hasil utama (cluster-robust by Village) ==\n",
            "                                Comparison     OR    L95    U95       p\n",
            "1   Part-time vs Full-time (optimist odds) 0.7324 0.4182 1.2827 0.27605\n",
            "2 Not working vs Full-time (optimist odds) 2.3375 0.8018 6.8144 0.11984\n",
            "3  Indirectly vs Unrelated (optimist odds) 0.7997 0.2957 2.1623 0.65956\n",
            "4    Directly vs Unrelated (optimist odds) 0.3280 0.1319 0.8157 0.01647\n"
          ]
        }
      ]
    }
  ]
}